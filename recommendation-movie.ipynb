{
 "cells": [
  {
   "cell_type": "code",
   "execution_count": 1,
   "id": "162645e5",
   "metadata": {
    "_cell_guid": "b1076dfc-b9ad-4769-8c92-a6c4dae69d19",
    "_uuid": "8f2839f25d086af736a60e9eeb907d3b93b6e0e5",
    "execution": {
     "iopub.execute_input": "2023-10-26T05:53:18.529500Z",
     "iopub.status.busy": "2023-10-26T05:53:18.529100Z",
     "iopub.status.idle": "2023-10-26T05:54:13.960183Z",
     "shell.execute_reply": "2023-10-26T05:54:13.958658Z"
    },
    "papermill": {
     "duration": 55.453829,
     "end_time": "2023-10-26T05:54:13.963051",
     "exception": false,
     "start_time": "2023-10-26T05:53:18.509222",
     "status": "completed"
    },
    "tags": []
   },
   "outputs": [
    {
     "name": "stdout",
     "output_type": "stream",
     "text": [
      "Collecting pyspark\r\n",
      "  Downloading pyspark-3.5.0.tar.gz (316.9 MB)\r\n",
      "\u001b[2K     \u001b[90m━━━━━━━━━━━━━━━━━━━━━━━━━━━━━━━━━━━━━━━\u001b[0m \u001b[32m316.9/316.9 MB\u001b[0m \u001b[31m3.6 MB/s\u001b[0m eta \u001b[36m0:00:00\u001b[0m\r\n",
      "\u001b[?25h  Preparing metadata (setup.py) ... \u001b[?25l-\b \bdone\r\n",
      "\u001b[?25hRequirement already satisfied: py4j==0.10.9.7 in /opt/conda/lib/python3.10/site-packages (from pyspark) (0.10.9.7)\r\n",
      "Building wheels for collected packages: pyspark\r\n",
      "  Building wheel for pyspark (setup.py) ... \u001b[?25l-\b \b\\\b \b|\b \bdone\r\n",
      "\u001b[?25h  Created wheel for pyspark: filename=pyspark-3.5.0-py2.py3-none-any.whl size=317425350 sha256=b97bbb23903def49c5ff105e35105104aea169c80c2c9e8b1ef42fd0e142567d\r\n",
      "  Stored in directory: /root/.cache/pip/wheels/41/4e/10/c2cf2467f71c678cfc8a6b9ac9241e5e44a01940da8fbb17fc\r\n",
      "Successfully built pyspark\r\n",
      "Installing collected packages: pyspark\r\n",
      "Successfully installed pyspark-3.5.0\r\n"
     ]
    }
   ],
   "source": [
    "!pip install pyspark\n",
    "import pandas as pd\n",
    "import numpy as np\n",
    "import csv"
   ]
  },
  {
   "cell_type": "code",
   "execution_count": 2,
   "id": "79ec3d66",
   "metadata": {
    "execution": {
     "iopub.execute_input": "2023-10-26T05:54:14.020731Z",
     "iopub.status.busy": "2023-10-26T05:54:14.020134Z",
     "iopub.status.idle": "2023-10-26T05:54:14.287521Z",
     "shell.execute_reply": "2023-10-26T05:54:14.286591Z"
    },
    "papermill": {
     "duration": 0.299216,
     "end_time": "2023-10-26T05:54:14.290190",
     "exception": false,
     "start_time": "2023-10-26T05:54:13.990974",
     "status": "completed"
    },
    "tags": []
   },
   "outputs": [],
   "source": [
    "movies=pd.read_csv(\"../input/phatdt/movie.csv\")"
   ]
  },
  {
   "cell_type": "code",
   "execution_count": 3,
   "id": "58c18c7e",
   "metadata": {
    "execution": {
     "iopub.execute_input": "2023-10-26T05:54:14.350718Z",
     "iopub.status.busy": "2023-10-26T05:54:14.350052Z",
     "iopub.status.idle": "2023-10-26T05:54:14.387406Z",
     "shell.execute_reply": "2023-10-26T05:54:14.386109Z"
    },
    "papermill": {
     "duration": 0.070065,
     "end_time": "2023-10-26T05:54:14.389925",
     "exception": false,
     "start_time": "2023-10-26T05:54:14.319860",
     "status": "completed"
    },
    "tags": []
   },
   "outputs": [
    {
     "data": {
      "text/html": [
       "<div>\n",
       "<style scoped>\n",
       "    .dataframe tbody tr th:only-of-type {\n",
       "        vertical-align: middle;\n",
       "    }\n",
       "\n",
       "    .dataframe tbody tr th {\n",
       "        vertical-align: top;\n",
       "    }\n",
       "\n",
       "    .dataframe thead th {\n",
       "        text-align: right;\n",
       "    }\n",
       "</style>\n",
       "<table border=\"1\" class=\"dataframe\">\n",
       "  <thead>\n",
       "    <tr style=\"text-align: right;\">\n",
       "      <th></th>\n",
       "      <th>budget</th>\n",
       "      <th>genres</th>\n",
       "      <th>homepage</th>\n",
       "      <th>id</th>\n",
       "      <th>keywords</th>\n",
       "      <th>original_language</th>\n",
       "      <th>original_title</th>\n",
       "      <th>overview</th>\n",
       "      <th>popularity</th>\n",
       "      <th>production_companies</th>\n",
       "      <th>production_countries</th>\n",
       "      <th>release_date</th>\n",
       "      <th>revenue</th>\n",
       "      <th>runtime</th>\n",
       "      <th>spoken_languages</th>\n",
       "      <th>status</th>\n",
       "      <th>tagline</th>\n",
       "      <th>title</th>\n",
       "      <th>vote_average</th>\n",
       "      <th>vote_count</th>\n",
       "    </tr>\n",
       "  </thead>\n",
       "  <tbody>\n",
       "    <tr>\n",
       "      <th>0</th>\n",
       "      <td>237000000</td>\n",
       "      <td>[{\"id\": 28, \"name\": \"Action\"}, {\"id\": 12, \"nam...</td>\n",
       "      <td>http://www.avatarmovie.com/</td>\n",
       "      <td>19995</td>\n",
       "      <td>[{\"id\": 1463, \"name\": \"culture clash\"}, {\"id\":...</td>\n",
       "      <td>en</td>\n",
       "      <td>Avatar</td>\n",
       "      <td>In the 22nd century, a paraplegic Marine is di...</td>\n",
       "      <td>150.437577</td>\n",
       "      <td>[{\"name\": \"Ingenious Film Partners\", \"id\": 289...</td>\n",
       "      <td>[{\"iso_3166_1\": \"US\", \"name\": \"United States o...</td>\n",
       "      <td>2009-12-10</td>\n",
       "      <td>2787965087</td>\n",
       "      <td>162.0</td>\n",
       "      <td>[{\"iso_639_1\": \"en\", \"name\": \"English\"}, {\"iso...</td>\n",
       "      <td>Released</td>\n",
       "      <td>Enter the World of Pandora.</td>\n",
       "      <td>Avatar</td>\n",
       "      <td>7.2</td>\n",
       "      <td>11800</td>\n",
       "    </tr>\n",
       "    <tr>\n",
       "      <th>1</th>\n",
       "      <td>300000000</td>\n",
       "      <td>[{\"id\": 12, \"name\": \"Adventure\"}, {\"id\": 14, \"...</td>\n",
       "      <td>http://disney.go.com/disneypictures/pirates/</td>\n",
       "      <td>285</td>\n",
       "      <td>[{\"id\": 270, \"name\": \"ocean\"}, {\"id\": 726, \"na...</td>\n",
       "      <td>en</td>\n",
       "      <td>Pirates of the Caribbean: At World's End</td>\n",
       "      <td>Captain Barbossa, long believed to be dead, ha...</td>\n",
       "      <td>139.082615</td>\n",
       "      <td>[{\"name\": \"Walt Disney Pictures\", \"id\": 2}, {\"...</td>\n",
       "      <td>[{\"iso_3166_1\": \"US\", \"name\": \"United States o...</td>\n",
       "      <td>2007-05-19</td>\n",
       "      <td>961000000</td>\n",
       "      <td>169.0</td>\n",
       "      <td>[{\"iso_639_1\": \"en\", \"name\": \"English\"}]</td>\n",
       "      <td>Released</td>\n",
       "      <td>At the end of the world, the adventure begins.</td>\n",
       "      <td>Pirates of the Caribbean: At World's End</td>\n",
       "      <td>6.9</td>\n",
       "      <td>4500</td>\n",
       "    </tr>\n",
       "    <tr>\n",
       "      <th>2</th>\n",
       "      <td>245000000</td>\n",
       "      <td>[{\"id\": 28, \"name\": \"Action\"}, {\"id\": 12, \"nam...</td>\n",
       "      <td>http://www.sonypictures.com/movies/spectre/</td>\n",
       "      <td>206647</td>\n",
       "      <td>[{\"id\": 470, \"name\": \"spy\"}, {\"id\": 818, \"name...</td>\n",
       "      <td>en</td>\n",
       "      <td>Spectre</td>\n",
       "      <td>A cryptic message from Bond’s past sends him o...</td>\n",
       "      <td>107.376788</td>\n",
       "      <td>[{\"name\": \"Columbia Pictures\", \"id\": 5}, {\"nam...</td>\n",
       "      <td>[{\"iso_3166_1\": \"GB\", \"name\": \"United Kingdom\"...</td>\n",
       "      <td>2015-10-26</td>\n",
       "      <td>880674609</td>\n",
       "      <td>148.0</td>\n",
       "      <td>[{\"iso_639_1\": \"fr\", \"name\": \"Fran\\u00e7ais\"},...</td>\n",
       "      <td>Released</td>\n",
       "      <td>A Plan No One Escapes</td>\n",
       "      <td>Spectre</td>\n",
       "      <td>6.3</td>\n",
       "      <td>4466</td>\n",
       "    </tr>\n",
       "    <tr>\n",
       "      <th>3</th>\n",
       "      <td>250000000</td>\n",
       "      <td>[{\"id\": 28, \"name\": \"Action\"}, {\"id\": 80, \"nam...</td>\n",
       "      <td>http://www.thedarkknightrises.com/</td>\n",
       "      <td>49026</td>\n",
       "      <td>[{\"id\": 849, \"name\": \"dc comics\"}, {\"id\": 853,...</td>\n",
       "      <td>en</td>\n",
       "      <td>The Dark Knight Rises</td>\n",
       "      <td>Following the death of District Attorney Harve...</td>\n",
       "      <td>112.312950</td>\n",
       "      <td>[{\"name\": \"Legendary Pictures\", \"id\": 923}, {\"...</td>\n",
       "      <td>[{\"iso_3166_1\": \"US\", \"name\": \"United States o...</td>\n",
       "      <td>2012-07-16</td>\n",
       "      <td>1084939099</td>\n",
       "      <td>165.0</td>\n",
       "      <td>[{\"iso_639_1\": \"en\", \"name\": \"English\"}]</td>\n",
       "      <td>Released</td>\n",
       "      <td>The Legend Ends</td>\n",
       "      <td>The Dark Knight Rises</td>\n",
       "      <td>7.6</td>\n",
       "      <td>9106</td>\n",
       "    </tr>\n",
       "    <tr>\n",
       "      <th>4</th>\n",
       "      <td>260000000</td>\n",
       "      <td>[{\"id\": 28, \"name\": \"Action\"}, {\"id\": 12, \"nam...</td>\n",
       "      <td>http://movies.disney.com/john-carter</td>\n",
       "      <td>49529</td>\n",
       "      <td>[{\"id\": 818, \"name\": \"based on novel\"}, {\"id\":...</td>\n",
       "      <td>en</td>\n",
       "      <td>John Carter</td>\n",
       "      <td>John Carter is a war-weary, former military ca...</td>\n",
       "      <td>43.926995</td>\n",
       "      <td>[{\"name\": \"Walt Disney Pictures\", \"id\": 2}]</td>\n",
       "      <td>[{\"iso_3166_1\": \"US\", \"name\": \"United States o...</td>\n",
       "      <td>2012-03-07</td>\n",
       "      <td>284139100</td>\n",
       "      <td>132.0</td>\n",
       "      <td>[{\"iso_639_1\": \"en\", \"name\": \"English\"}]</td>\n",
       "      <td>Released</td>\n",
       "      <td>Lost in our world, found in another.</td>\n",
       "      <td>John Carter</td>\n",
       "      <td>6.1</td>\n",
       "      <td>2124</td>\n",
       "    </tr>\n",
       "  </tbody>\n",
       "</table>\n",
       "</div>"
      ],
      "text/plain": [
       "      budget                                             genres  \\\n",
       "0  237000000  [{\"id\": 28, \"name\": \"Action\"}, {\"id\": 12, \"nam...   \n",
       "1  300000000  [{\"id\": 12, \"name\": \"Adventure\"}, {\"id\": 14, \"...   \n",
       "2  245000000  [{\"id\": 28, \"name\": \"Action\"}, {\"id\": 12, \"nam...   \n",
       "3  250000000  [{\"id\": 28, \"name\": \"Action\"}, {\"id\": 80, \"nam...   \n",
       "4  260000000  [{\"id\": 28, \"name\": \"Action\"}, {\"id\": 12, \"nam...   \n",
       "\n",
       "                                       homepage      id  \\\n",
       "0                   http://www.avatarmovie.com/   19995   \n",
       "1  http://disney.go.com/disneypictures/pirates/     285   \n",
       "2   http://www.sonypictures.com/movies/spectre/  206647   \n",
       "3            http://www.thedarkknightrises.com/   49026   \n",
       "4          http://movies.disney.com/john-carter   49529   \n",
       "\n",
       "                                            keywords original_language  \\\n",
       "0  [{\"id\": 1463, \"name\": \"culture clash\"}, {\"id\":...                en   \n",
       "1  [{\"id\": 270, \"name\": \"ocean\"}, {\"id\": 726, \"na...                en   \n",
       "2  [{\"id\": 470, \"name\": \"spy\"}, {\"id\": 818, \"name...                en   \n",
       "3  [{\"id\": 849, \"name\": \"dc comics\"}, {\"id\": 853,...                en   \n",
       "4  [{\"id\": 818, \"name\": \"based on novel\"}, {\"id\":...                en   \n",
       "\n",
       "                             original_title  \\\n",
       "0                                    Avatar   \n",
       "1  Pirates of the Caribbean: At World's End   \n",
       "2                                   Spectre   \n",
       "3                     The Dark Knight Rises   \n",
       "4                               John Carter   \n",
       "\n",
       "                                            overview  popularity  \\\n",
       "0  In the 22nd century, a paraplegic Marine is di...  150.437577   \n",
       "1  Captain Barbossa, long believed to be dead, ha...  139.082615   \n",
       "2  A cryptic message from Bond’s past sends him o...  107.376788   \n",
       "3  Following the death of District Attorney Harve...  112.312950   \n",
       "4  John Carter is a war-weary, former military ca...   43.926995   \n",
       "\n",
       "                                production_companies  \\\n",
       "0  [{\"name\": \"Ingenious Film Partners\", \"id\": 289...   \n",
       "1  [{\"name\": \"Walt Disney Pictures\", \"id\": 2}, {\"...   \n",
       "2  [{\"name\": \"Columbia Pictures\", \"id\": 5}, {\"nam...   \n",
       "3  [{\"name\": \"Legendary Pictures\", \"id\": 923}, {\"...   \n",
       "4        [{\"name\": \"Walt Disney Pictures\", \"id\": 2}]   \n",
       "\n",
       "                                production_countries release_date     revenue  \\\n",
       "0  [{\"iso_3166_1\": \"US\", \"name\": \"United States o...   2009-12-10  2787965087   \n",
       "1  [{\"iso_3166_1\": \"US\", \"name\": \"United States o...   2007-05-19   961000000   \n",
       "2  [{\"iso_3166_1\": \"GB\", \"name\": \"United Kingdom\"...   2015-10-26   880674609   \n",
       "3  [{\"iso_3166_1\": \"US\", \"name\": \"United States o...   2012-07-16  1084939099   \n",
       "4  [{\"iso_3166_1\": \"US\", \"name\": \"United States o...   2012-03-07   284139100   \n",
       "\n",
       "   runtime                                   spoken_languages    status  \\\n",
       "0    162.0  [{\"iso_639_1\": \"en\", \"name\": \"English\"}, {\"iso...  Released   \n",
       "1    169.0           [{\"iso_639_1\": \"en\", \"name\": \"English\"}]  Released   \n",
       "2    148.0  [{\"iso_639_1\": \"fr\", \"name\": \"Fran\\u00e7ais\"},...  Released   \n",
       "3    165.0           [{\"iso_639_1\": \"en\", \"name\": \"English\"}]  Released   \n",
       "4    132.0           [{\"iso_639_1\": \"en\", \"name\": \"English\"}]  Released   \n",
       "\n",
       "                                          tagline  \\\n",
       "0                     Enter the World of Pandora.   \n",
       "1  At the end of the world, the adventure begins.   \n",
       "2                           A Plan No One Escapes   \n",
       "3                                 The Legend Ends   \n",
       "4            Lost in our world, found in another.   \n",
       "\n",
       "                                      title  vote_average  vote_count  \n",
       "0                                    Avatar           7.2       11800  \n",
       "1  Pirates of the Caribbean: At World's End           6.9        4500  \n",
       "2                                   Spectre           6.3        4466  \n",
       "3                     The Dark Knight Rises           7.6        9106  \n",
       "4                               John Carter           6.1        2124  "
      ]
     },
     "execution_count": 3,
     "metadata": {},
     "output_type": "execute_result"
    }
   ],
   "source": [
    "movies.head()"
   ]
  },
  {
   "cell_type": "code",
   "execution_count": 4,
   "id": "2bb6491f",
   "metadata": {
    "execution": {
     "iopub.execute_input": "2023-10-26T05:54:14.450816Z",
     "iopub.status.busy": "2023-10-26T05:54:14.450394Z",
     "iopub.status.idle": "2023-10-26T05:54:14.458610Z",
     "shell.execute_reply": "2023-10-26T05:54:14.457246Z"
    },
    "papermill": {
     "duration": 0.041723,
     "end_time": "2023-10-26T05:54:14.460984",
     "exception": false,
     "start_time": "2023-10-26T05:54:14.419261",
     "status": "completed"
    },
    "tags": []
   },
   "outputs": [
    {
     "data": {
      "text/plain": [
       "'[{\"id\": 1463, \"name\": \"culture clash\"}, {\"id\": 2964, \"name\": \"future\"}, {\"id\": 3386, \"name\": \"space war\"}, {\"id\": 3388, \"name\": \"space colony\"}, {\"id\": 3679, \"name\": \"society\"}, {\"id\": 3801, \"name\": \"space travel\"}, {\"id\": 9685, \"name\": \"futuristic\"}, {\"id\": 9840, \"name\": \"romance\"}, {\"id\": 9882, \"name\": \"space\"}, {\"id\": 9951, \"name\": \"alien\"}, {\"id\": 10148, \"name\": \"tribe\"}, {\"id\": 10158, \"name\": \"alien planet\"}, {\"id\": 10987, \"name\": \"cgi\"}, {\"id\": 11399, \"name\": \"marine\"}, {\"id\": 13065, \"name\": \"soldier\"}, {\"id\": 14643, \"name\": \"battle\"}, {\"id\": 14720, \"name\": \"love affair\"}, {\"id\": 165431, \"name\": \"anti war\"}, {\"id\": 193554, \"name\": \"power relations\"}, {\"id\": 206690, \"name\": \"mind and soul\"}, {\"id\": 209714, \"name\": \"3d\"}]'"
      ]
     },
     "execution_count": 4,
     "metadata": {},
     "output_type": "execute_result"
    }
   ],
   "source": [
    "movies[\"keywords\"][0]"
   ]
  },
  {
   "cell_type": "code",
   "execution_count": 5,
   "id": "34f8e4c1",
   "metadata": {
    "execution": {
     "iopub.execute_input": "2023-10-26T05:54:14.523463Z",
     "iopub.status.busy": "2023-10-26T05:54:14.523021Z",
     "iopub.status.idle": "2023-10-26T05:54:14.529955Z",
     "shell.execute_reply": "2023-10-26T05:54:14.529041Z"
    },
    "papermill": {
     "duration": 0.040428,
     "end_time": "2023-10-26T05:54:14.532178",
     "exception": false,
     "start_time": "2023-10-26T05:54:14.491750",
     "status": "completed"
    },
    "tags": []
   },
   "outputs": [
    {
     "data": {
      "text/plain": [
       "'In the 22nd century, a paraplegic Marine is dispatched to the moon Pandora on a unique mission, but becomes torn between following orders and protecting an alien civilization.'"
      ]
     },
     "execution_count": 5,
     "metadata": {},
     "output_type": "execute_result"
    }
   ],
   "source": [
    "movies[\"overview\"][0]"
   ]
  },
  {
   "cell_type": "code",
   "execution_count": 6,
   "id": "7b148863",
   "metadata": {
    "execution": {
     "iopub.execute_input": "2023-10-26T05:54:14.592759Z",
     "iopub.status.busy": "2023-10-26T05:54:14.591690Z",
     "iopub.status.idle": "2023-10-26T05:54:15.636760Z",
     "shell.execute_reply": "2023-10-26T05:54:15.635397Z"
    },
    "papermill": {
     "duration": 1.078922,
     "end_time": "2023-10-26T05:54:15.639682",
     "exception": false,
     "start_time": "2023-10-26T05:54:14.560760",
     "status": "completed"
    },
    "tags": []
   },
   "outputs": [],
   "source": [
    "df2=pd.read_csv(\"../input/phatdt/movie_credit.csv\")"
   ]
  },
  {
   "cell_type": "code",
   "execution_count": 7,
   "id": "a187a3fa",
   "metadata": {
    "execution": {
     "iopub.execute_input": "2023-10-26T05:54:15.699280Z",
     "iopub.status.busy": "2023-10-26T05:54:15.698881Z",
     "iopub.status.idle": "2023-10-26T05:54:15.712604Z",
     "shell.execute_reply": "2023-10-26T05:54:15.711482Z"
    },
    "papermill": {
     "duration": 0.046432,
     "end_time": "2023-10-26T05:54:15.715012",
     "exception": false,
     "start_time": "2023-10-26T05:54:15.668580",
     "status": "completed"
    },
    "tags": []
   },
   "outputs": [
    {
     "data": {
      "text/html": [
       "<div>\n",
       "<style scoped>\n",
       "    .dataframe tbody tr th:only-of-type {\n",
       "        vertical-align: middle;\n",
       "    }\n",
       "\n",
       "    .dataframe tbody tr th {\n",
       "        vertical-align: top;\n",
       "    }\n",
       "\n",
       "    .dataframe thead th {\n",
       "        text-align: right;\n",
       "    }\n",
       "</style>\n",
       "<table border=\"1\" class=\"dataframe\">\n",
       "  <thead>\n",
       "    <tr style=\"text-align: right;\">\n",
       "      <th></th>\n",
       "      <th>movie_id</th>\n",
       "      <th>title</th>\n",
       "      <th>cast</th>\n",
       "      <th>crew</th>\n",
       "    </tr>\n",
       "  </thead>\n",
       "  <tbody>\n",
       "    <tr>\n",
       "      <th>0</th>\n",
       "      <td>19995</td>\n",
       "      <td>Avatar</td>\n",
       "      <td>[{\"cast_id\": 242, \"character\": \"Jake Sully\", \"...</td>\n",
       "      <td>[{\"credit_id\": \"52fe48009251416c750aca23\", \"de...</td>\n",
       "    </tr>\n",
       "    <tr>\n",
       "      <th>1</th>\n",
       "      <td>285</td>\n",
       "      <td>Pirates of the Caribbean: At World's End</td>\n",
       "      <td>[{\"cast_id\": 4, \"character\": \"Captain Jack Spa...</td>\n",
       "      <td>[{\"credit_id\": \"52fe4232c3a36847f800b579\", \"de...</td>\n",
       "    </tr>\n",
       "    <tr>\n",
       "      <th>2</th>\n",
       "      <td>206647</td>\n",
       "      <td>Spectre</td>\n",
       "      <td>[{\"cast_id\": 1, \"character\": \"James Bond\", \"cr...</td>\n",
       "      <td>[{\"credit_id\": \"54805967c3a36829b5002c41\", \"de...</td>\n",
       "    </tr>\n",
       "    <tr>\n",
       "      <th>3</th>\n",
       "      <td>49026</td>\n",
       "      <td>The Dark Knight Rises</td>\n",
       "      <td>[{\"cast_id\": 2, \"character\": \"Bruce Wayne / Ba...</td>\n",
       "      <td>[{\"credit_id\": \"52fe4781c3a36847f81398c3\", \"de...</td>\n",
       "    </tr>\n",
       "    <tr>\n",
       "      <th>4</th>\n",
       "      <td>49529</td>\n",
       "      <td>John Carter</td>\n",
       "      <td>[{\"cast_id\": 5, \"character\": \"John Carter\", \"c...</td>\n",
       "      <td>[{\"credit_id\": \"52fe479ac3a36847f813eaa3\", \"de...</td>\n",
       "    </tr>\n",
       "  </tbody>\n",
       "</table>\n",
       "</div>"
      ],
      "text/plain": [
       "   movie_id                                     title  \\\n",
       "0     19995                                    Avatar   \n",
       "1       285  Pirates of the Caribbean: At World's End   \n",
       "2    206647                                   Spectre   \n",
       "3     49026                     The Dark Knight Rises   \n",
       "4     49529                               John Carter   \n",
       "\n",
       "                                                cast  \\\n",
       "0  [{\"cast_id\": 242, \"character\": \"Jake Sully\", \"...   \n",
       "1  [{\"cast_id\": 4, \"character\": \"Captain Jack Spa...   \n",
       "2  [{\"cast_id\": 1, \"character\": \"James Bond\", \"cr...   \n",
       "3  [{\"cast_id\": 2, \"character\": \"Bruce Wayne / Ba...   \n",
       "4  [{\"cast_id\": 5, \"character\": \"John Carter\", \"c...   \n",
       "\n",
       "                                                crew  \n",
       "0  [{\"credit_id\": \"52fe48009251416c750aca23\", \"de...  \n",
       "1  [{\"credit_id\": \"52fe4232c3a36847f800b579\", \"de...  \n",
       "2  [{\"credit_id\": \"54805967c3a36829b5002c41\", \"de...  \n",
       "3  [{\"credit_id\": \"52fe4781c3a36847f81398c3\", \"de...  \n",
       "4  [{\"credit_id\": \"52fe479ac3a36847f813eaa3\", \"de...  "
      ]
     },
     "execution_count": 7,
     "metadata": {},
     "output_type": "execute_result"
    }
   ],
   "source": [
    "df2.head()"
   ]
  },
  {
   "cell_type": "code",
   "execution_count": 8,
   "id": "cbba6ea5",
   "metadata": {
    "execution": {
     "iopub.execute_input": "2023-10-26T05:54:15.774070Z",
     "iopub.status.busy": "2023-10-26T05:54:15.773710Z",
     "iopub.status.idle": "2023-10-26T05:54:15.784456Z",
     "shell.execute_reply": "2023-10-26T05:54:15.783343Z"
    },
    "papermill": {
     "duration": 0.043114,
     "end_time": "2023-10-26T05:54:15.786879",
     "exception": false,
     "start_time": "2023-10-26T05:54:15.743765",
     "status": "completed"
    },
    "tags": []
   },
   "outputs": [
    {
     "data": {
      "text/plain": [
       "0       [{\"cast_id\": 242, \"character\": \"Jake Sully\", \"...\n",
       "1       [{\"cast_id\": 4, \"character\": \"Captain Jack Spa...\n",
       "2       [{\"cast_id\": 1, \"character\": \"James Bond\", \"cr...\n",
       "3       [{\"cast_id\": 2, \"character\": \"Bruce Wayne / Ba...\n",
       "4       [{\"cast_id\": 5, \"character\": \"John Carter\", \"c...\n",
       "                              ...                        \n",
       "4798    [{\"cast_id\": 1, \"character\": \"El Mariachi\", \"c...\n",
       "4799    [{\"cast_id\": 1, \"character\": \"Buzzy\", \"credit_...\n",
       "4800    [{\"cast_id\": 8, \"character\": \"Oliver O\\u2019To...\n",
       "4801    [{\"cast_id\": 3, \"character\": \"Sam\", \"credit_id...\n",
       "4802    [{\"cast_id\": 3, \"character\": \"Herself\", \"credi...\n",
       "Name: cast, Length: 4803, dtype: object"
      ]
     },
     "execution_count": 8,
     "metadata": {},
     "output_type": "execute_result"
    }
   ],
   "source": [
    "df2[\"cast\"]"
   ]
  },
  {
   "cell_type": "code",
   "execution_count": 9,
   "id": "bc7f18bf",
   "metadata": {
    "execution": {
     "iopub.execute_input": "2023-10-26T05:54:15.910037Z",
     "iopub.status.busy": "2023-10-26T05:54:15.909671Z",
     "iopub.status.idle": "2023-10-26T05:54:15.942363Z",
     "shell.execute_reply": "2023-10-26T05:54:15.941491Z"
    },
    "papermill": {
     "duration": 0.129112,
     "end_time": "2023-10-26T05:54:15.944856",
     "exception": false,
     "start_time": "2023-10-26T05:54:15.815744",
     "status": "completed"
    },
    "tags": []
   },
   "outputs": [],
   "source": [
    "movies=movies.merge(df2,on=\"title\")"
   ]
  },
  {
   "cell_type": "code",
   "execution_count": 10,
   "id": "b0a379bf",
   "metadata": {
    "execution": {
     "iopub.execute_input": "2023-10-26T05:54:16.005090Z",
     "iopub.status.busy": "2023-10-26T05:54:16.004327Z",
     "iopub.status.idle": "2023-10-26T05:54:16.036118Z",
     "shell.execute_reply": "2023-10-26T05:54:16.034747Z"
    },
    "papermill": {
     "duration": 0.065406,
     "end_time": "2023-10-26T05:54:16.039114",
     "exception": false,
     "start_time": "2023-10-26T05:54:15.973708",
     "status": "completed"
    },
    "tags": []
   },
   "outputs": [
    {
     "name": "stdout",
     "output_type": "stream",
     "text": [
      "<class 'pandas.core.frame.DataFrame'>\n",
      "RangeIndex: 4809 entries, 0 to 4808\n",
      "Data columns (total 23 columns):\n",
      " #   Column                Non-Null Count  Dtype  \n",
      "---  ------                --------------  -----  \n",
      " 0   budget                4809 non-null   int64  \n",
      " 1   genres                4809 non-null   object \n",
      " 2   homepage              1713 non-null   object \n",
      " 3   id                    4809 non-null   int64  \n",
      " 4   keywords              4809 non-null   object \n",
      " 5   original_language     4809 non-null   object \n",
      " 6   original_title        4809 non-null   object \n",
      " 7   overview              4806 non-null   object \n",
      " 8   popularity            4809 non-null   float64\n",
      " 9   production_companies  4809 non-null   object \n",
      " 10  production_countries  4809 non-null   object \n",
      " 11  release_date          4808 non-null   object \n",
      " 12  revenue               4809 non-null   int64  \n",
      " 13  runtime               4807 non-null   float64\n",
      " 14  spoken_languages      4809 non-null   object \n",
      " 15  status                4809 non-null   object \n",
      " 16  tagline               3965 non-null   object \n",
      " 17  title                 4809 non-null   object \n",
      " 18  vote_average          4809 non-null   float64\n",
      " 19  vote_count            4809 non-null   int64  \n",
      " 20  movie_id              4809 non-null   int64  \n",
      " 21  cast                  4809 non-null   object \n",
      " 22  crew                  4809 non-null   object \n",
      "dtypes: float64(3), int64(5), object(15)\n",
      "memory usage: 864.2+ KB\n"
     ]
    }
   ],
   "source": [
    "movies.info()"
   ]
  },
  {
   "cell_type": "code",
   "execution_count": 11,
   "id": "4d9964af",
   "metadata": {
    "execution": {
     "iopub.execute_input": "2023-10-26T05:54:16.100711Z",
     "iopub.status.busy": "2023-10-26T05:54:16.099986Z",
     "iopub.status.idle": "2023-10-26T05:54:16.104643Z",
     "shell.execute_reply": "2023-10-26T05:54:16.103632Z"
    },
    "papermill": {
     "duration": 0.037444,
     "end_time": "2023-10-26T05:54:16.106946",
     "exception": false,
     "start_time": "2023-10-26T05:54:16.069502",
     "status": "completed"
    },
    "tags": []
   },
   "outputs": [],
   "source": [
    "# extract hero names and director name from credit csv"
   ]
  },
  {
   "cell_type": "code",
   "execution_count": 12,
   "id": "369a89a4",
   "metadata": {
    "execution": {
     "iopub.execute_input": "2023-10-26T05:54:16.167274Z",
     "iopub.status.busy": "2023-10-26T05:54:16.166882Z",
     "iopub.status.idle": "2023-10-26T05:54:16.172374Z",
     "shell.execute_reply": "2023-10-26T05:54:16.171260Z"
    },
    "papermill": {
     "duration": 0.038664,
     "end_time": "2023-10-26T05:54:16.174746",
     "exception": false,
     "start_time": "2023-10-26T05:54:16.136082",
     "status": "completed"
    },
    "tags": []
   },
   "outputs": [],
   "source": [
    "import ast\n",
    "def str_list(x):\n",
    "  x=ast.literal_eval(x)\n",
    "  l=[]\n",
    "  for item in x:\n",
    "\n",
    "    l.append(item['name'])\n",
    "  \n",
    "  return l"
   ]
  },
  {
   "cell_type": "code",
   "execution_count": 13,
   "id": "cc71225f",
   "metadata": {
    "execution": {
     "iopub.execute_input": "2023-10-26T05:54:16.236456Z",
     "iopub.status.busy": "2023-10-26T05:54:16.235252Z",
     "iopub.status.idle": "2023-10-26T05:54:20.274102Z",
     "shell.execute_reply": "2023-10-26T05:54:20.272936Z"
    },
    "papermill": {
     "duration": 4.072596,
     "end_time": "2023-10-26T05:54:20.276961",
     "exception": false,
     "start_time": "2023-10-26T05:54:16.204365",
     "status": "completed"
    },
    "tags": []
   },
   "outputs": [],
   "source": [
    "movies[\"cast\"]=movies[\"cast\"].apply(str_list)"
   ]
  },
  {
   "cell_type": "code",
   "execution_count": 14,
   "id": "c57999b8",
   "metadata": {
    "execution": {
     "iopub.execute_input": "2023-10-26T05:54:20.338241Z",
     "iopub.status.busy": "2023-10-26T05:54:20.337835Z",
     "iopub.status.idle": "2023-10-26T05:54:20.343994Z",
     "shell.execute_reply": "2023-10-26T05:54:20.342781Z"
    },
    "papermill": {
     "duration": 0.039894,
     "end_time": "2023-10-26T05:54:20.346390",
     "exception": false,
     "start_time": "2023-10-26T05:54:20.306496",
     "status": "completed"
    },
    "tags": []
   },
   "outputs": [],
   "source": [
    "import ast\n",
    "def str2_list(x):\n",
    "  x=ast.literal_eval(x)\n",
    "  l=[]\n",
    "  for item in x:\n",
    "    if item['job']==\"Director\":\n",
    "      l.append(item['name'])\n",
    "  \n",
    "  return l"
   ]
  },
  {
   "cell_type": "code",
   "execution_count": 15,
   "id": "c69cc7bf",
   "metadata": {
    "execution": {
     "iopub.execute_input": "2023-10-26T05:54:20.406934Z",
     "iopub.status.busy": "2023-10-26T05:54:20.406488Z",
     "iopub.status.idle": "2023-10-26T05:54:25.042538Z",
     "shell.execute_reply": "2023-10-26T05:54:25.041377Z"
    },
    "papermill": {
     "duration": 4.669755,
     "end_time": "2023-10-26T05:54:25.045391",
     "exception": false,
     "start_time": "2023-10-26T05:54:20.375636",
     "status": "completed"
    },
    "tags": []
   },
   "outputs": [],
   "source": [
    "movies[\"crew\"]=movies[\"crew\"].apply(str2_list)"
   ]
  },
  {
   "cell_type": "code",
   "execution_count": 16,
   "id": "47f18e79",
   "metadata": {
    "execution": {
     "iopub.execute_input": "2023-10-26T05:54:25.106058Z",
     "iopub.status.busy": "2023-10-26T05:54:25.105678Z",
     "iopub.status.idle": "2023-10-26T05:54:25.119052Z",
     "shell.execute_reply": "2023-10-26T05:54:25.117790Z"
    },
    "papermill": {
     "duration": 0.04697,
     "end_time": "2023-10-26T05:54:25.121995",
     "exception": false,
     "start_time": "2023-10-26T05:54:25.075025",
     "status": "completed"
    },
    "tags": []
   },
   "outputs": [
    {
     "data": {
      "text/plain": [
       "0       [Sam Worthington, Zoe Saldana, Sigourney Weave...\n",
       "1       [Johnny Depp, Orlando Bloom, Keira Knightley, ...\n",
       "2       [Daniel Craig, Christoph Waltz, Léa Seydoux, R...\n",
       "3       [Christian Bale, Michael Caine, Gary Oldman, A...\n",
       "4       [Taylor Kitsch, Lynn Collins, Samantha Morton,...\n",
       "                              ...                        \n",
       "4804    [Carlos Gallardo, Jaime de Hoyos, Peter Marqua...\n",
       "4805    [Edward Burns, Kerry Bishé, Marsha Dietlein, C...\n",
       "4806    [Eric Mabius, Kristin Booth, Crystal Lowe, Geo...\n",
       "4807    [Daniel Henney, Eliza Coupe, Bill Paxton, Alan...\n",
       "4808    [Drew Barrymore, Brian Herzlinger, Corey Feldm...\n",
       "Name: cast, Length: 4809, dtype: object"
      ]
     },
     "execution_count": 16,
     "metadata": {},
     "output_type": "execute_result"
    }
   ],
   "source": [
    "movies[\"cast\"]"
   ]
  },
  {
   "cell_type": "code",
   "execution_count": 17,
   "id": "8734aa3f",
   "metadata": {
    "execution": {
     "iopub.execute_input": "2023-10-26T05:54:25.182942Z",
     "iopub.status.busy": "2023-10-26T05:54:25.182567Z",
     "iopub.status.idle": "2023-10-26T05:54:25.193452Z",
     "shell.execute_reply": "2023-10-26T05:54:25.192226Z"
    },
    "papermill": {
     "duration": 0.044282,
     "end_time": "2023-10-26T05:54:25.195967",
     "exception": false,
     "start_time": "2023-10-26T05:54:25.151685",
     "status": "completed"
    },
    "tags": []
   },
   "outputs": [
    {
     "data": {
      "text/plain": [
       "0                                [James Cameron]\n",
       "1                               [Gore Verbinski]\n",
       "2                                   [Sam Mendes]\n",
       "3                            [Christopher Nolan]\n",
       "4                               [Andrew Stanton]\n",
       "                          ...                   \n",
       "4804                          [Robert Rodriguez]\n",
       "4805                              [Edward Burns]\n",
       "4806                               [Scott Smith]\n",
       "4807                               [Daniel Hsia]\n",
       "4808    [Brian Herzlinger, Jon Gunn, Brett Winn]\n",
       "Name: crew, Length: 4809, dtype: object"
      ]
     },
     "execution_count": 17,
     "metadata": {},
     "output_type": "execute_result"
    }
   ],
   "source": [
    "movies[\"crew\"]"
   ]
  },
  {
   "cell_type": "code",
   "execution_count": 18,
   "id": "dc0825b3",
   "metadata": {
    "execution": {
     "iopub.execute_input": "2023-10-26T05:54:25.258339Z",
     "iopub.status.busy": "2023-10-26T05:54:25.257900Z",
     "iopub.status.idle": "2023-10-26T05:54:25.983829Z",
     "shell.execute_reply": "2023-10-26T05:54:25.982655Z"
    },
    "papermill": {
     "duration": 0.760185,
     "end_time": "2023-10-26T05:54:25.986816",
     "exception": false,
     "start_time": "2023-10-26T05:54:25.226631",
     "status": "completed"
    },
    "tags": []
   },
   "outputs": [],
   "source": [
    "movies[\"genres\"]=movies['genres'].apply(str_list)\n",
    "movies[\"keywords\"]=movies['keywords'].apply(str_list)"
   ]
  },
  {
   "cell_type": "code",
   "execution_count": 19,
   "id": "ea8d76a8",
   "metadata": {
    "execution": {
     "iopub.execute_input": "2023-10-26T05:54:26.058204Z",
     "iopub.status.busy": "2023-10-26T05:54:26.057704Z",
     "iopub.status.idle": "2023-10-26T05:54:26.078450Z",
     "shell.execute_reply": "2023-10-26T05:54:26.077275Z"
    },
    "papermill": {
     "duration": 0.060077,
     "end_time": "2023-10-26T05:54:26.081292",
     "exception": false,
     "start_time": "2023-10-26T05:54:26.021215",
     "status": "completed"
    },
    "tags": []
   },
   "outputs": [
    {
     "data": {
      "text/plain": [
       "budget                     0\n",
       "genres                     0\n",
       "homepage                3096\n",
       "id                         0\n",
       "keywords                   0\n",
       "original_language          0\n",
       "original_title             0\n",
       "overview                   3\n",
       "popularity                 0\n",
       "production_companies       0\n",
       "production_countries       0\n",
       "release_date               1\n",
       "revenue                    0\n",
       "runtime                    2\n",
       "spoken_languages           0\n",
       "status                     0\n",
       "tagline                  844\n",
       "title                      0\n",
       "vote_average               0\n",
       "vote_count                 0\n",
       "movie_id                   0\n",
       "cast                       0\n",
       "crew                       0\n",
       "dtype: int64"
      ]
     },
     "execution_count": 19,
     "metadata": {},
     "output_type": "execute_result"
    }
   ],
   "source": [
    "movies.isna().sum()"
   ]
  },
  {
   "cell_type": "code",
   "execution_count": 20,
   "id": "3ba0bad0",
   "metadata": {
    "execution": {
     "iopub.execute_input": "2023-10-26T05:54:26.143887Z",
     "iopub.status.busy": "2023-10-26T05:54:26.143193Z",
     "iopub.status.idle": "2023-10-26T05:54:26.179852Z",
     "shell.execute_reply": "2023-10-26T05:54:26.178391Z"
    },
    "papermill": {
     "duration": 0.070878,
     "end_time": "2023-10-26T05:54:26.182646",
     "exception": false,
     "start_time": "2023-10-26T05:54:26.111768",
     "status": "completed"
    },
    "tags": []
   },
   "outputs": [
    {
     "data": {
      "text/html": [
       "<div>\n",
       "<style scoped>\n",
       "    .dataframe tbody tr th:only-of-type {\n",
       "        vertical-align: middle;\n",
       "    }\n",
       "\n",
       "    .dataframe tbody tr th {\n",
       "        vertical-align: top;\n",
       "    }\n",
       "\n",
       "    .dataframe thead th {\n",
       "        text-align: right;\n",
       "    }\n",
       "</style>\n",
       "<table border=\"1\" class=\"dataframe\">\n",
       "  <thead>\n",
       "    <tr style=\"text-align: right;\">\n",
       "      <th></th>\n",
       "      <th>budget</th>\n",
       "      <th>genres</th>\n",
       "      <th>homepage</th>\n",
       "      <th>id</th>\n",
       "      <th>keywords</th>\n",
       "      <th>original_language</th>\n",
       "      <th>original_title</th>\n",
       "      <th>overview</th>\n",
       "      <th>popularity</th>\n",
       "      <th>production_companies</th>\n",
       "      <th>...</th>\n",
       "      <th>runtime</th>\n",
       "      <th>spoken_languages</th>\n",
       "      <th>status</th>\n",
       "      <th>tagline</th>\n",
       "      <th>title</th>\n",
       "      <th>vote_average</th>\n",
       "      <th>vote_count</th>\n",
       "      <th>movie_id</th>\n",
       "      <th>cast</th>\n",
       "      <th>crew</th>\n",
       "    </tr>\n",
       "  </thead>\n",
       "  <tbody>\n",
       "    <tr>\n",
       "      <th>1010</th>\n",
       "      <td>0</td>\n",
       "      <td>[Drama, Romance]</td>\n",
       "      <td>NaN</td>\n",
       "      <td>96724</td>\n",
       "      <td>[based on novel, st. petersburg russia, high s...</td>\n",
       "      <td>en</td>\n",
       "      <td>Anna Karenina</td>\n",
       "      <td>Trapped in a loveless marriage, aristocrat Ann...</td>\n",
       "      <td>26.387040</td>\n",
       "      <td>[{\"name\": \"Universal Pictures\", \"id\": 33}, {\"n...</td>\n",
       "      <td>...</td>\n",
       "      <td>130.0</td>\n",
       "      <td>[{\"iso_639_1\": \"en\", \"name\": \"English\"}, {\"iso...</td>\n",
       "      <td>Released</td>\n",
       "      <td>An epic story of love.</td>\n",
       "      <td>Anna Karenina</td>\n",
       "      <td>6.5</td>\n",
       "      <td>639</td>\n",
       "      <td>96724</td>\n",
       "      <td>[Keira Knightley, Jude Law, Aaron Taylor-Johns...</td>\n",
       "      <td>[Joe Wright]</td>\n",
       "    </tr>\n",
       "    <tr>\n",
       "      <th>2508</th>\n",
       "      <td>16000000</td>\n",
       "      <td>[Crime, Drama, Thriller]</td>\n",
       "      <td>NaN</td>\n",
       "      <td>185567</td>\n",
       "      <td>[]</td>\n",
       "      <td>en</td>\n",
       "      <td>Zulu</td>\n",
       "      <td>As a child, Ali Neuman narrowly escaped being ...</td>\n",
       "      <td>14.529496</td>\n",
       "      <td>[{\"name\": \"Eskwad\", \"id\": 616}, {\"name\": \"M6 F...</td>\n",
       "      <td>...</td>\n",
       "      <td>110.0</td>\n",
       "      <td>[{\"iso_639_1\": \"en\", \"name\": \"English\"}]</td>\n",
       "      <td>Released</td>\n",
       "      <td>NaN</td>\n",
       "      <td>Zulu</td>\n",
       "      <td>6.7</td>\n",
       "      <td>172</td>\n",
       "      <td>185567</td>\n",
       "      <td>[Orlando Bloom, Forest Whitaker, Conrad Kemp, ...</td>\n",
       "      <td>[Jérôme Salle]</td>\n",
       "    </tr>\n",
       "    <tr>\n",
       "      <th>2982</th>\n",
       "      <td>10000000</td>\n",
       "      <td>[Horror, Thriller, Crime]</td>\n",
       "      <td>NaN</td>\n",
       "      <td>214</td>\n",
       "      <td>[brain tumor, nudity, suffocation, mutilation,...</td>\n",
       "      <td>en</td>\n",
       "      <td>Saw III</td>\n",
       "      <td>Jigsaw has disappeared. Along with his new app...</td>\n",
       "      <td>33.124871</td>\n",
       "      <td>[{\"name\": \"Lions Gate Films\", \"id\": 35}, {\"nam...</td>\n",
       "      <td>...</td>\n",
       "      <td>108.0</td>\n",
       "      <td>[{\"iso_639_1\": \"en\", \"name\": \"English\"}]</td>\n",
       "      <td>Released</td>\n",
       "      <td>Suffering? You Haven't Seen Anything Yet...</td>\n",
       "      <td>Saw III</td>\n",
       "      <td>6.1</td>\n",
       "      <td>1071</td>\n",
       "      <td>214</td>\n",
       "      <td>[Tobin Bell, Shawnee Smith, Angus Macfadyen, B...</td>\n",
       "      <td>[Darren Lynn Bousman]</td>\n",
       "    </tr>\n",
       "    <tr>\n",
       "      <th>387</th>\n",
       "      <td>85000000</td>\n",
       "      <td>[Action, Thriller]</td>\n",
       "      <td>NaN</td>\n",
       "      <td>9772</td>\n",
       "      <td>[prison, corruption, journalist, white house, ...</td>\n",
       "      <td>en</td>\n",
       "      <td>Air Force One</td>\n",
       "      <td>Russian terrorists conspire to hijack the airc...</td>\n",
       "      <td>36.387950</td>\n",
       "      <td>[{\"name\": \"Columbia Pictures Corporation\", \"id...</td>\n",
       "      <td>...</td>\n",
       "      <td>124.0</td>\n",
       "      <td>[{\"iso_639_1\": \"en\", \"name\": \"English\"}, {\"iso...</td>\n",
       "      <td>Released</td>\n",
       "      <td>The fate of a nation rests on the courage of o...</td>\n",
       "      <td>Air Force One</td>\n",
       "      <td>6.2</td>\n",
       "      <td>840</td>\n",
       "      <td>9772</td>\n",
       "      <td>[Harrison Ford, Gary Oldman, Glenn Close, Wend...</td>\n",
       "      <td>[Wolfgang Petersen]</td>\n",
       "    </tr>\n",
       "    <tr>\n",
       "      <th>2170</th>\n",
       "      <td>0</td>\n",
       "      <td>[Comedy, Drama]</td>\n",
       "      <td>NaN</td>\n",
       "      <td>10115</td>\n",
       "      <td>[gymnastics, trainer, puberty, training, sport...</td>\n",
       "      <td>en</td>\n",
       "      <td>Stick It</td>\n",
       "      <td>Haley is a naturally gifted athlete but, with ...</td>\n",
       "      <td>9.750557</td>\n",
       "      <td>[{\"name\": \"Spyglass Entertainment\", \"id\": 158}...</td>\n",
       "      <td>...</td>\n",
       "      <td>105.0</td>\n",
       "      <td>[{\"iso_639_1\": \"en\", \"name\": \"English\"}]</td>\n",
       "      <td>Released</td>\n",
       "      <td>The world of competitive gymnastics is about t...</td>\n",
       "      <td>Stick It</td>\n",
       "      <td>6.3</td>\n",
       "      <td>148</td>\n",
       "      <td>10115</td>\n",
       "      <td>[Jeff Bridges, Missy Peregrym, Vanessa Lengies...</td>\n",
       "      <td>[Jessica Bendinger]</td>\n",
       "    </tr>\n",
       "  </tbody>\n",
       "</table>\n",
       "<p>5 rows × 23 columns</p>\n",
       "</div>"
      ],
      "text/plain": [
       "        budget                     genres homepage      id  \\\n",
       "1010         0           [Drama, Romance]      NaN   96724   \n",
       "2508  16000000   [Crime, Drama, Thriller]      NaN  185567   \n",
       "2982  10000000  [Horror, Thriller, Crime]      NaN     214   \n",
       "387   85000000         [Action, Thriller]      NaN    9772   \n",
       "2170         0            [Comedy, Drama]      NaN   10115   \n",
       "\n",
       "                                               keywords original_language  \\\n",
       "1010  [based on novel, st. petersburg russia, high s...                en   \n",
       "2508                                                 []                en   \n",
       "2982  [brain tumor, nudity, suffocation, mutilation,...                en   \n",
       "387   [prison, corruption, journalist, white house, ...                en   \n",
       "2170  [gymnastics, trainer, puberty, training, sport...                en   \n",
       "\n",
       "     original_title                                           overview  \\\n",
       "1010  Anna Karenina  Trapped in a loveless marriage, aristocrat Ann...   \n",
       "2508           Zulu  As a child, Ali Neuman narrowly escaped being ...   \n",
       "2982        Saw III  Jigsaw has disappeared. Along with his new app...   \n",
       "387   Air Force One  Russian terrorists conspire to hijack the airc...   \n",
       "2170       Stick It  Haley is a naturally gifted athlete but, with ...   \n",
       "\n",
       "      popularity                               production_companies  ...  \\\n",
       "1010   26.387040  [{\"name\": \"Universal Pictures\", \"id\": 33}, {\"n...  ...   \n",
       "2508   14.529496  [{\"name\": \"Eskwad\", \"id\": 616}, {\"name\": \"M6 F...  ...   \n",
       "2982   33.124871  [{\"name\": \"Lions Gate Films\", \"id\": 35}, {\"nam...  ...   \n",
       "387    36.387950  [{\"name\": \"Columbia Pictures Corporation\", \"id...  ...   \n",
       "2170    9.750557  [{\"name\": \"Spyglass Entertainment\", \"id\": 158}...  ...   \n",
       "\n",
       "     runtime                                   spoken_languages    status  \\\n",
       "1010   130.0  [{\"iso_639_1\": \"en\", \"name\": \"English\"}, {\"iso...  Released   \n",
       "2508   110.0           [{\"iso_639_1\": \"en\", \"name\": \"English\"}]  Released   \n",
       "2982   108.0           [{\"iso_639_1\": \"en\", \"name\": \"English\"}]  Released   \n",
       "387    124.0  [{\"iso_639_1\": \"en\", \"name\": \"English\"}, {\"iso...  Released   \n",
       "2170   105.0           [{\"iso_639_1\": \"en\", \"name\": \"English\"}]  Released   \n",
       "\n",
       "                                                tagline          title  \\\n",
       "1010                             An epic story of love.  Anna Karenina   \n",
       "2508                                                NaN           Zulu   \n",
       "2982        Suffering? You Haven't Seen Anything Yet...        Saw III   \n",
       "387   The fate of a nation rests on the courage of o...  Air Force One   \n",
       "2170  The world of competitive gymnastics is about t...       Stick It   \n",
       "\n",
       "     vote_average vote_count movie_id  \\\n",
       "1010          6.5        639    96724   \n",
       "2508          6.7        172   185567   \n",
       "2982          6.1       1071      214   \n",
       "387           6.2        840     9772   \n",
       "2170          6.3        148    10115   \n",
       "\n",
       "                                                   cast                   crew  \n",
       "1010  [Keira Knightley, Jude Law, Aaron Taylor-Johns...           [Joe Wright]  \n",
       "2508  [Orlando Bloom, Forest Whitaker, Conrad Kemp, ...         [Jérôme Salle]  \n",
       "2982  [Tobin Bell, Shawnee Smith, Angus Macfadyen, B...  [Darren Lynn Bousman]  \n",
       "387   [Harrison Ford, Gary Oldman, Glenn Close, Wend...    [Wolfgang Petersen]  \n",
       "2170  [Jeff Bridges, Missy Peregrym, Vanessa Lengies...    [Jessica Bendinger]  \n",
       "\n",
       "[5 rows x 23 columns]"
      ]
     },
     "execution_count": 20,
     "metadata": {},
     "output_type": "execute_result"
    }
   ],
   "source": [
    "movies.sample(5)"
   ]
  },
  {
   "cell_type": "code",
   "execution_count": 21,
   "id": "ba3b392e",
   "metadata": {
    "execution": {
     "iopub.execute_input": "2023-10-26T05:54:26.245114Z",
     "iopub.status.busy": "2023-10-26T05:54:26.244693Z",
     "iopub.status.idle": "2023-10-26T05:54:26.250660Z",
     "shell.execute_reply": "2023-10-26T05:54:26.249441Z"
    },
    "papermill": {
     "duration": 0.040021,
     "end_time": "2023-10-26T05:54:26.253130",
     "exception": false,
     "start_time": "2023-10-26T05:54:26.213109",
     "status": "completed"
    },
    "tags": []
   },
   "outputs": [],
   "source": [
    "# removing space \n",
    "def _join(x):\n",
    "  l=[]\n",
    "  for i in x:\n",
    "    l.append(i.replace(\" \",\"\"))\n",
    "  return l\n",
    "     "
   ]
  },
  {
   "cell_type": "code",
   "execution_count": 22,
   "id": "3639c7f8",
   "metadata": {
    "execution": {
     "iopub.execute_input": "2023-10-26T05:54:26.317520Z",
     "iopub.status.busy": "2023-10-26T05:54:26.316785Z",
     "iopub.status.idle": "2023-10-26T05:54:26.380042Z",
     "shell.execute_reply": "2023-10-26T05:54:26.378717Z"
    },
    "papermill": {
     "duration": 0.098665,
     "end_time": "2023-10-26T05:54:26.382933",
     "exception": false,
     "start_time": "2023-10-26T05:54:26.284268",
     "status": "completed"
    },
    "tags": []
   },
   "outputs": [],
   "source": [
    "movies[\"cast\"]=movies[\"cast\"].apply(_join)"
   ]
  },
  {
   "cell_type": "code",
   "execution_count": 23,
   "id": "8b219a44",
   "metadata": {
    "execution": {
     "iopub.execute_input": "2023-10-26T05:54:26.446129Z",
     "iopub.status.busy": "2023-10-26T05:54:26.445712Z",
     "iopub.status.idle": "2023-10-26T05:54:26.458118Z",
     "shell.execute_reply": "2023-10-26T05:54:26.456859Z"
    },
    "papermill": {
     "duration": 0.047463,
     "end_time": "2023-10-26T05:54:26.460716",
     "exception": false,
     "start_time": "2023-10-26T05:54:26.413253",
     "status": "completed"
    },
    "tags": []
   },
   "outputs": [],
   "source": [
    "movies[\"cast\"]=movies[\"cast\"].apply(lambda i:i[0:3])"
   ]
  },
  {
   "cell_type": "code",
   "execution_count": 24,
   "id": "b909e00d",
   "metadata": {
    "execution": {
     "iopub.execute_input": "2023-10-26T05:54:26.525848Z",
     "iopub.status.busy": "2023-10-26T05:54:26.525017Z",
     "iopub.status.idle": "2023-10-26T05:54:26.536136Z",
     "shell.execute_reply": "2023-10-26T05:54:26.534985Z"
    },
    "papermill": {
     "duration": 0.046666,
     "end_time": "2023-10-26T05:54:26.538880",
     "exception": false,
     "start_time": "2023-10-26T05:54:26.492214",
     "status": "completed"
    },
    "tags": []
   },
   "outputs": [
    {
     "data": {
      "text/plain": [
       "0        [SamWorthington, ZoeSaldana, SigourneyWeaver]\n",
       "1           [JohnnyDepp, OrlandoBloom, KeiraKnightley]\n",
       "2            [DanielCraig, ChristophWaltz, LéaSeydoux]\n",
       "3            [ChristianBale, MichaelCaine, GaryOldman]\n",
       "4          [TaylorKitsch, LynnCollins, SamanthaMorton]\n",
       "                             ...                      \n",
       "4804    [CarlosGallardo, JaimedeHoyos, PeterMarquardt]\n",
       "4805         [EdwardBurns, KerryBishé, MarshaDietlein]\n",
       "4806           [EricMabius, KristinBooth, CrystalLowe]\n",
       "4807            [DanielHenney, ElizaCoupe, BillPaxton]\n",
       "4808    [DrewBarrymore, BrianHerzlinger, CoreyFeldman]\n",
       "Name: cast, Length: 4809, dtype: object"
      ]
     },
     "execution_count": 24,
     "metadata": {},
     "output_type": "execute_result"
    }
   ],
   "source": [
    "movies[\"cast\"]"
   ]
  },
  {
   "cell_type": "code",
   "execution_count": 25,
   "id": "d24462b2",
   "metadata": {
    "execution": {
     "iopub.execute_input": "2023-10-26T05:54:26.601974Z",
     "iopub.status.busy": "2023-10-26T05:54:26.601525Z",
     "iopub.status.idle": "2023-10-26T05:54:26.609894Z",
     "shell.execute_reply": "2023-10-26T05:54:26.608682Z"
    },
    "papermill": {
     "duration": 0.04267,
     "end_time": "2023-10-26T05:54:26.612285",
     "exception": false,
     "start_time": "2023-10-26T05:54:26.569615",
     "status": "completed"
    },
    "tags": []
   },
   "outputs": [],
   "source": [
    "new_df=pd.DataFrame(movies,columns=['id','homepage','title','cast','crew','overview','genres','keywords'])"
   ]
  },
  {
   "cell_type": "markdown",
   "id": "a25f84a1",
   "metadata": {
    "papermill": {
     "duration": 0.030674,
     "end_time": "2023-10-26T05:54:26.673553",
     "exception": false,
     "start_time": "2023-10-26T05:54:26.642879",
     "status": "completed"
    },
    "tags": []
   },
   "source": []
  },
  {
   "cell_type": "code",
   "execution_count": 26,
   "id": "2796c1b3",
   "metadata": {
    "execution": {
     "iopub.execute_input": "2023-10-26T05:54:26.736911Z",
     "iopub.status.busy": "2023-10-26T05:54:26.736509Z",
     "iopub.status.idle": "2023-10-26T05:54:26.760909Z",
     "shell.execute_reply": "2023-10-26T05:54:26.759386Z"
    },
    "papermill": {
     "duration": 0.059167,
     "end_time": "2023-10-26T05:54:26.763620",
     "exception": false,
     "start_time": "2023-10-26T05:54:26.704453",
     "status": "completed"
    },
    "tags": []
   },
   "outputs": [
    {
     "data": {
      "text/html": [
       "<div>\n",
       "<style scoped>\n",
       "    .dataframe tbody tr th:only-of-type {\n",
       "        vertical-align: middle;\n",
       "    }\n",
       "\n",
       "    .dataframe tbody tr th {\n",
       "        vertical-align: top;\n",
       "    }\n",
       "\n",
       "    .dataframe thead th {\n",
       "        text-align: right;\n",
       "    }\n",
       "</style>\n",
       "<table border=\"1\" class=\"dataframe\">\n",
       "  <thead>\n",
       "    <tr style=\"text-align: right;\">\n",
       "      <th></th>\n",
       "      <th>id</th>\n",
       "      <th>homepage</th>\n",
       "      <th>title</th>\n",
       "      <th>cast</th>\n",
       "      <th>crew</th>\n",
       "      <th>overview</th>\n",
       "      <th>genres</th>\n",
       "      <th>keywords</th>\n",
       "    </tr>\n",
       "  </thead>\n",
       "  <tbody>\n",
       "    <tr>\n",
       "      <th>0</th>\n",
       "      <td>19995</td>\n",
       "      <td>http://www.avatarmovie.com/</td>\n",
       "      <td>Avatar</td>\n",
       "      <td>[SamWorthington, ZoeSaldana, SigourneyWeaver]</td>\n",
       "      <td>[James Cameron]</td>\n",
       "      <td>In the 22nd century, a paraplegic Marine is di...</td>\n",
       "      <td>[Action, Adventure, Fantasy, Science Fiction]</td>\n",
       "      <td>[culture clash, future, space war, space colon...</td>\n",
       "    </tr>\n",
       "    <tr>\n",
       "      <th>1</th>\n",
       "      <td>285</td>\n",
       "      <td>http://disney.go.com/disneypictures/pirates/</td>\n",
       "      <td>Pirates of the Caribbean: At World's End</td>\n",
       "      <td>[JohnnyDepp, OrlandoBloom, KeiraKnightley]</td>\n",
       "      <td>[Gore Verbinski]</td>\n",
       "      <td>Captain Barbossa, long believed to be dead, ha...</td>\n",
       "      <td>[Adventure, Fantasy, Action]</td>\n",
       "      <td>[ocean, drug abuse, exotic island, east india ...</td>\n",
       "    </tr>\n",
       "    <tr>\n",
       "      <th>2</th>\n",
       "      <td>206647</td>\n",
       "      <td>http://www.sonypictures.com/movies/spectre/</td>\n",
       "      <td>Spectre</td>\n",
       "      <td>[DanielCraig, ChristophWaltz, LéaSeydoux]</td>\n",
       "      <td>[Sam Mendes]</td>\n",
       "      <td>A cryptic message from Bond’s past sends him o...</td>\n",
       "      <td>[Action, Adventure, Crime]</td>\n",
       "      <td>[spy, based on novel, secret agent, sequel, mi...</td>\n",
       "    </tr>\n",
       "    <tr>\n",
       "      <th>3</th>\n",
       "      <td>49026</td>\n",
       "      <td>http://www.thedarkknightrises.com/</td>\n",
       "      <td>The Dark Knight Rises</td>\n",
       "      <td>[ChristianBale, MichaelCaine, GaryOldman]</td>\n",
       "      <td>[Christopher Nolan]</td>\n",
       "      <td>Following the death of District Attorney Harve...</td>\n",
       "      <td>[Action, Crime, Drama, Thriller]</td>\n",
       "      <td>[dc comics, crime fighter, terrorist, secret i...</td>\n",
       "    </tr>\n",
       "    <tr>\n",
       "      <th>4</th>\n",
       "      <td>49529</td>\n",
       "      <td>http://movies.disney.com/john-carter</td>\n",
       "      <td>John Carter</td>\n",
       "      <td>[TaylorKitsch, LynnCollins, SamanthaMorton]</td>\n",
       "      <td>[Andrew Stanton]</td>\n",
       "      <td>John Carter is a war-weary, former military ca...</td>\n",
       "      <td>[Action, Adventure, Science Fiction]</td>\n",
       "      <td>[based on novel, mars, medallion, space travel...</td>\n",
       "    </tr>\n",
       "  </tbody>\n",
       "</table>\n",
       "</div>"
      ],
      "text/plain": [
       "       id                                      homepage  \\\n",
       "0   19995                   http://www.avatarmovie.com/   \n",
       "1     285  http://disney.go.com/disneypictures/pirates/   \n",
       "2  206647   http://www.sonypictures.com/movies/spectre/   \n",
       "3   49026            http://www.thedarkknightrises.com/   \n",
       "4   49529          http://movies.disney.com/john-carter   \n",
       "\n",
       "                                      title  \\\n",
       "0                                    Avatar   \n",
       "1  Pirates of the Caribbean: At World's End   \n",
       "2                                   Spectre   \n",
       "3                     The Dark Knight Rises   \n",
       "4                               John Carter   \n",
       "\n",
       "                                            cast                 crew  \\\n",
       "0  [SamWorthington, ZoeSaldana, SigourneyWeaver]      [James Cameron]   \n",
       "1     [JohnnyDepp, OrlandoBloom, KeiraKnightley]     [Gore Verbinski]   \n",
       "2      [DanielCraig, ChristophWaltz, LéaSeydoux]         [Sam Mendes]   \n",
       "3      [ChristianBale, MichaelCaine, GaryOldman]  [Christopher Nolan]   \n",
       "4    [TaylorKitsch, LynnCollins, SamanthaMorton]     [Andrew Stanton]   \n",
       "\n",
       "                                            overview  \\\n",
       "0  In the 22nd century, a paraplegic Marine is di...   \n",
       "1  Captain Barbossa, long believed to be dead, ha...   \n",
       "2  A cryptic message from Bond’s past sends him o...   \n",
       "3  Following the death of District Attorney Harve...   \n",
       "4  John Carter is a war-weary, former military ca...   \n",
       "\n",
       "                                          genres  \\\n",
       "0  [Action, Adventure, Fantasy, Science Fiction]   \n",
       "1                   [Adventure, Fantasy, Action]   \n",
       "2                     [Action, Adventure, Crime]   \n",
       "3               [Action, Crime, Drama, Thriller]   \n",
       "4           [Action, Adventure, Science Fiction]   \n",
       "\n",
       "                                            keywords  \n",
       "0  [culture clash, future, space war, space colon...  \n",
       "1  [ocean, drug abuse, exotic island, east india ...  \n",
       "2  [spy, based on novel, secret agent, sequel, mi...  \n",
       "3  [dc comics, crime fighter, terrorist, secret i...  \n",
       "4  [based on novel, mars, medallion, space travel...  "
      ]
     },
     "execution_count": 26,
     "metadata": {},
     "output_type": "execute_result"
    }
   ],
   "source": [
    "new_df.head(5)"
   ]
  },
  {
   "cell_type": "code",
   "execution_count": 27,
   "id": "79f04603",
   "metadata": {
    "execution": {
     "iopub.execute_input": "2023-10-26T05:54:26.828349Z",
     "iopub.status.busy": "2023-10-26T05:54:26.827911Z",
     "iopub.status.idle": "2023-10-26T05:54:26.840422Z",
     "shell.execute_reply": "2023-10-26T05:54:26.839225Z"
    },
    "papermill": {
     "duration": 0.047438,
     "end_time": "2023-10-26T05:54:26.842845",
     "exception": false,
     "start_time": "2023-10-26T05:54:26.795407",
     "status": "completed"
    },
    "tags": []
   },
   "outputs": [],
   "source": [
    "new_df['crew']=new_df['crew'].apply(_join)"
   ]
  },
  {
   "cell_type": "code",
   "execution_count": 28,
   "id": "0b896188",
   "metadata": {
    "execution": {
     "iopub.execute_input": "2023-10-26T05:54:26.906196Z",
     "iopub.status.busy": "2023-10-26T05:54:26.905738Z",
     "iopub.status.idle": "2023-10-26T05:54:26.930343Z",
     "shell.execute_reply": "2023-10-26T05:54:26.929237Z"
    },
    "papermill": {
     "duration": 0.05925,
     "end_time": "2023-10-26T05:54:26.932615",
     "exception": false,
     "start_time": "2023-10-26T05:54:26.873365",
     "status": "completed"
    },
    "tags": []
   },
   "outputs": [
    {
     "data": {
      "text/html": [
       "<div>\n",
       "<style scoped>\n",
       "    .dataframe tbody tr th:only-of-type {\n",
       "        vertical-align: middle;\n",
       "    }\n",
       "\n",
       "    .dataframe tbody tr th {\n",
       "        vertical-align: top;\n",
       "    }\n",
       "\n",
       "    .dataframe thead th {\n",
       "        text-align: right;\n",
       "    }\n",
       "</style>\n",
       "<table border=\"1\" class=\"dataframe\">\n",
       "  <thead>\n",
       "    <tr style=\"text-align: right;\">\n",
       "      <th></th>\n",
       "      <th>id</th>\n",
       "      <th>homepage</th>\n",
       "      <th>title</th>\n",
       "      <th>cast</th>\n",
       "      <th>crew</th>\n",
       "      <th>overview</th>\n",
       "      <th>genres</th>\n",
       "      <th>keywords</th>\n",
       "    </tr>\n",
       "  </thead>\n",
       "  <tbody>\n",
       "    <tr>\n",
       "      <th>0</th>\n",
       "      <td>19995</td>\n",
       "      <td>http://www.avatarmovie.com/</td>\n",
       "      <td>Avatar</td>\n",
       "      <td>[SamWorthington, ZoeSaldana, SigourneyWeaver]</td>\n",
       "      <td>[JamesCameron]</td>\n",
       "      <td>In the 22nd century, a paraplegic Marine is di...</td>\n",
       "      <td>[Action, Adventure, Fantasy, Science Fiction]</td>\n",
       "      <td>[culture clash, future, space war, space colon...</td>\n",
       "    </tr>\n",
       "    <tr>\n",
       "      <th>1</th>\n",
       "      <td>285</td>\n",
       "      <td>http://disney.go.com/disneypictures/pirates/</td>\n",
       "      <td>Pirates of the Caribbean: At World's End</td>\n",
       "      <td>[JohnnyDepp, OrlandoBloom, KeiraKnightley]</td>\n",
       "      <td>[GoreVerbinski]</td>\n",
       "      <td>Captain Barbossa, long believed to be dead, ha...</td>\n",
       "      <td>[Adventure, Fantasy, Action]</td>\n",
       "      <td>[ocean, drug abuse, exotic island, east india ...</td>\n",
       "    </tr>\n",
       "    <tr>\n",
       "      <th>2</th>\n",
       "      <td>206647</td>\n",
       "      <td>http://www.sonypictures.com/movies/spectre/</td>\n",
       "      <td>Spectre</td>\n",
       "      <td>[DanielCraig, ChristophWaltz, LéaSeydoux]</td>\n",
       "      <td>[SamMendes]</td>\n",
       "      <td>A cryptic message from Bond’s past sends him o...</td>\n",
       "      <td>[Action, Adventure, Crime]</td>\n",
       "      <td>[spy, based on novel, secret agent, sequel, mi...</td>\n",
       "    </tr>\n",
       "    <tr>\n",
       "      <th>3</th>\n",
       "      <td>49026</td>\n",
       "      <td>http://www.thedarkknightrises.com/</td>\n",
       "      <td>The Dark Knight Rises</td>\n",
       "      <td>[ChristianBale, MichaelCaine, GaryOldman]</td>\n",
       "      <td>[ChristopherNolan]</td>\n",
       "      <td>Following the death of District Attorney Harve...</td>\n",
       "      <td>[Action, Crime, Drama, Thriller]</td>\n",
       "      <td>[dc comics, crime fighter, terrorist, secret i...</td>\n",
       "    </tr>\n",
       "    <tr>\n",
       "      <th>4</th>\n",
       "      <td>49529</td>\n",
       "      <td>http://movies.disney.com/john-carter</td>\n",
       "      <td>John Carter</td>\n",
       "      <td>[TaylorKitsch, LynnCollins, SamanthaMorton]</td>\n",
       "      <td>[AndrewStanton]</td>\n",
       "      <td>John Carter is a war-weary, former military ca...</td>\n",
       "      <td>[Action, Adventure, Science Fiction]</td>\n",
       "      <td>[based on novel, mars, medallion, space travel...</td>\n",
       "    </tr>\n",
       "  </tbody>\n",
       "</table>\n",
       "</div>"
      ],
      "text/plain": [
       "       id                                      homepage  \\\n",
       "0   19995                   http://www.avatarmovie.com/   \n",
       "1     285  http://disney.go.com/disneypictures/pirates/   \n",
       "2  206647   http://www.sonypictures.com/movies/spectre/   \n",
       "3   49026            http://www.thedarkknightrises.com/   \n",
       "4   49529          http://movies.disney.com/john-carter   \n",
       "\n",
       "                                      title  \\\n",
       "0                                    Avatar   \n",
       "1  Pirates of the Caribbean: At World's End   \n",
       "2                                   Spectre   \n",
       "3                     The Dark Knight Rises   \n",
       "4                               John Carter   \n",
       "\n",
       "                                            cast                crew  \\\n",
       "0  [SamWorthington, ZoeSaldana, SigourneyWeaver]      [JamesCameron]   \n",
       "1     [JohnnyDepp, OrlandoBloom, KeiraKnightley]     [GoreVerbinski]   \n",
       "2      [DanielCraig, ChristophWaltz, LéaSeydoux]         [SamMendes]   \n",
       "3      [ChristianBale, MichaelCaine, GaryOldman]  [ChristopherNolan]   \n",
       "4    [TaylorKitsch, LynnCollins, SamanthaMorton]     [AndrewStanton]   \n",
       "\n",
       "                                            overview  \\\n",
       "0  In the 22nd century, a paraplegic Marine is di...   \n",
       "1  Captain Barbossa, long believed to be dead, ha...   \n",
       "2  A cryptic message from Bond’s past sends him o...   \n",
       "3  Following the death of District Attorney Harve...   \n",
       "4  John Carter is a war-weary, former military ca...   \n",
       "\n",
       "                                          genres  \\\n",
       "0  [Action, Adventure, Fantasy, Science Fiction]   \n",
       "1                   [Adventure, Fantasy, Action]   \n",
       "2                     [Action, Adventure, Crime]   \n",
       "3               [Action, Crime, Drama, Thriller]   \n",
       "4           [Action, Adventure, Science Fiction]   \n",
       "\n",
       "                                            keywords  \n",
       "0  [culture clash, future, space war, space colon...  \n",
       "1  [ocean, drug abuse, exotic island, east india ...  \n",
       "2  [spy, based on novel, secret agent, sequel, mi...  \n",
       "3  [dc comics, crime fighter, terrorist, secret i...  \n",
       "4  [based on novel, mars, medallion, space travel...  "
      ]
     },
     "execution_count": 28,
     "metadata": {},
     "output_type": "execute_result"
    }
   ],
   "source": [
    "new_df.head()"
   ]
  },
  {
   "cell_type": "code",
   "execution_count": 29,
   "id": "763b4a08",
   "metadata": {
    "execution": {
     "iopub.execute_input": "2023-10-26T05:54:26.998001Z",
     "iopub.status.busy": "2023-10-26T05:54:26.997613Z",
     "iopub.status.idle": "2023-10-26T05:54:27.012517Z",
     "shell.execute_reply": "2023-10-26T05:54:27.011205Z"
    },
    "papermill": {
     "duration": 0.051173,
     "end_time": "2023-10-26T05:54:27.014953",
     "exception": false,
     "start_time": "2023-10-26T05:54:26.963780",
     "status": "completed"
    },
    "tags": []
   },
   "outputs": [
    {
     "data": {
      "text/plain": [
       "id             0\n",
       "homepage    3096\n",
       "title          0\n",
       "cast           0\n",
       "crew           0\n",
       "overview       3\n",
       "genres         0\n",
       "keywords       0\n",
       "dtype: int64"
      ]
     },
     "execution_count": 29,
     "metadata": {},
     "output_type": "execute_result"
    }
   ],
   "source": [
    "new_df.isna().sum()"
   ]
  },
  {
   "cell_type": "code",
   "execution_count": 30,
   "id": "217b153d",
   "metadata": {
    "execution": {
     "iopub.execute_input": "2023-10-26T05:54:27.081176Z",
     "iopub.status.busy": "2023-10-26T05:54:27.080764Z",
     "iopub.status.idle": "2023-10-26T05:54:27.087724Z",
     "shell.execute_reply": "2023-10-26T05:54:27.086635Z"
    },
    "papermill": {
     "duration": 0.043258,
     "end_time": "2023-10-26T05:54:27.090334",
     "exception": false,
     "start_time": "2023-10-26T05:54:27.047076",
     "status": "completed"
    },
    "tags": []
   },
   "outputs": [],
   "source": [
    "new_df[\"homepage\"]=new_df[\"homepage\"].fillna(0)"
   ]
  },
  {
   "cell_type": "code",
   "execution_count": 31,
   "id": "ba277105",
   "metadata": {
    "execution": {
     "iopub.execute_input": "2023-10-26T05:54:27.155095Z",
     "iopub.status.busy": "2023-10-26T05:54:27.154710Z",
     "iopub.status.idle": "2023-10-26T05:54:27.348934Z",
     "shell.execute_reply": "2023-10-26T05:54:27.347820Z"
    },
    "papermill": {
     "duration": 0.230463,
     "end_time": "2023-10-26T05:54:27.352232",
     "exception": false,
     "start_time": "2023-10-26T05:54:27.121769",
     "status": "completed"
    },
    "tags": []
   },
   "outputs": [
    {
     "name": "stderr",
     "output_type": "stream",
     "text": [
      "/tmp/ipykernel_20/3303242796.py:10: SettingWithCopyWarning: \n",
      "A value is trying to be set on a copy of a slice from a DataFrame\n",
      "\n",
      "See the caveats in the documentation: https://pandas.pydata.org/pandas-docs/stable/user_guide/indexing.html#returning-a-view-versus-a-copy\n",
      "  new_df[\"urls\"][i]=new_df[\"homepage\"][i]\n"
     ]
    }
   ],
   "source": [
    "url=list(enumerate(new_df[\"homepage\"]))\n",
    "new_df[\"urls\"]=0\n",
    "for i in range(len(url)):\n",
    "  if new_df[\"homepage\"][i]==0:\n",
    "    \n",
    "    x=(\"{}/{}\".format(\"https://www.\",str(\"\".join(list(new_df[\"title\"][url[i][0]].split())))))\n",
    "\n",
    "    new_df[\"urls\"][i]=x\n",
    "  else:\n",
    "    new_df[\"urls\"][i]=new_df[\"homepage\"][i]"
   ]
  },
  {
   "cell_type": "code",
   "execution_count": 32,
   "id": "9a35102c",
   "metadata": {
    "execution": {
     "iopub.execute_input": "2023-10-26T05:54:27.418859Z",
     "iopub.status.busy": "2023-10-26T05:54:27.418481Z",
     "iopub.status.idle": "2023-10-26T05:54:27.427779Z",
     "shell.execute_reply": "2023-10-26T05:54:27.426538Z"
    },
    "papermill": {
     "duration": 0.045307,
     "end_time": "2023-10-26T05:54:27.430400",
     "exception": false,
     "start_time": "2023-10-26T05:54:27.385093",
     "status": "completed"
    },
    "tags": []
   },
   "outputs": [
    {
     "data": {
      "text/plain": [
       "0                             http://www.avatarmovie.com/\n",
       "1            http://disney.go.com/disneypictures/pirates/\n",
       "2             http://www.sonypictures.com/movies/spectre/\n",
       "3                      http://www.thedarkknightrises.com/\n",
       "4                    http://movies.disney.com/john-carter\n",
       "                              ...                        \n",
       "4804                              https://www./ElMariachi\n",
       "4805                               https://www./Newlyweds\n",
       "4806    http://www.hallmarkchannel.com/signedsealeddel...\n",
       "4807                          http://shanghaicalling.com/\n",
       "4808                          https://www./MyDatewithDrew\n",
       "Name: urls, Length: 4809, dtype: object"
      ]
     },
     "execution_count": 32,
     "metadata": {},
     "output_type": "execute_result"
    }
   ],
   "source": [
    "# def link(url,i):\n",
    "#   s=url\n",
    "#   x=\"{} + {}\".format(\"https://www.\",str(new_df.iloc[[url[i][0]]].title))\n",
    "#   iF s is \"link\" \n",
    "#     return x\n",
    "#   else:\n",
    "#     return s\n",
    "# # new_df[new_df[\"homepage\"].fillna(\"{} + {}\".format(\"https://www.\",new_df[\"title\"]]))\n",
    "new_df[\"urls\"]\n"
   ]
  },
  {
   "cell_type": "code",
   "execution_count": 33,
   "id": "863e61ff",
   "metadata": {
    "execution": {
     "iopub.execute_input": "2023-10-26T05:54:27.496189Z",
     "iopub.status.busy": "2023-10-26T05:54:27.495722Z",
     "iopub.status.idle": "2023-10-26T05:54:27.520791Z",
     "shell.execute_reply": "2023-10-26T05:54:27.519653Z"
    },
    "papermill": {
     "duration": 0.061166,
     "end_time": "2023-10-26T05:54:27.523482",
     "exception": false,
     "start_time": "2023-10-26T05:54:27.462316",
     "status": "completed"
    },
    "tags": []
   },
   "outputs": [
    {
     "data": {
      "text/html": [
       "<div>\n",
       "<style scoped>\n",
       "    .dataframe tbody tr th:only-of-type {\n",
       "        vertical-align: middle;\n",
       "    }\n",
       "\n",
       "    .dataframe tbody tr th {\n",
       "        vertical-align: top;\n",
       "    }\n",
       "\n",
       "    .dataframe thead th {\n",
       "        text-align: right;\n",
       "    }\n",
       "</style>\n",
       "<table border=\"1\" class=\"dataframe\">\n",
       "  <thead>\n",
       "    <tr style=\"text-align: right;\">\n",
       "      <th></th>\n",
       "      <th>id</th>\n",
       "      <th>homepage</th>\n",
       "      <th>title</th>\n",
       "      <th>cast</th>\n",
       "      <th>crew</th>\n",
       "      <th>overview</th>\n",
       "      <th>genres</th>\n",
       "      <th>keywords</th>\n",
       "      <th>urls</th>\n",
       "    </tr>\n",
       "  </thead>\n",
       "  <tbody>\n",
       "    <tr>\n",
       "      <th>1896</th>\n",
       "      <td>1909</td>\n",
       "      <td>0</td>\n",
       "      <td>Don Juan DeMarco</td>\n",
       "      <td>[JohnnyDepp, MarlonBrando, FayeDunaway]</td>\n",
       "      <td>[JeremyLeven]</td>\n",
       "      <td>John Arnold DeMarco is a man who believes he i...</td>\n",
       "      <td>[Romance, Drama, Comedy]</td>\n",
       "      <td>[sex addiction, love, mental institution, pati...</td>\n",
       "      <td>https://www./DonJuanDeMarco</td>\n",
       "    </tr>\n",
       "    <tr>\n",
       "      <th>2458</th>\n",
       "      <td>11093</td>\n",
       "      <td>0</td>\n",
       "      <td>House of Sand and Fog</td>\n",
       "      <td>[JenniferConnelly, BenKingsley, RonEldard]</td>\n",
       "      <td>[VadimPerelman]</td>\n",
       "      <td>Behrani, an Iranian immigrant buys a Californi...</td>\n",
       "      <td>[Drama]</td>\n",
       "      <td>[san francisco, immigrant, house, intimidation...</td>\n",
       "      <td>https://www./HouseofSandandFog</td>\n",
       "    </tr>\n",
       "    <tr>\n",
       "      <th>55</th>\n",
       "      <td>62177</td>\n",
       "      <td>http://disney.go.com/brave/#/home</td>\n",
       "      <td>Brave</td>\n",
       "      <td>[KellyMacdonald, JulieWalters, BillyConnolly]</td>\n",
       "      <td>[BrendaChapman, MarkAndrews, StevePurcell]</td>\n",
       "      <td>Brave is set in the mystical Scottish Highland...</td>\n",
       "      <td>[Animation, Adventure, Comedy, Family, Action,...</td>\n",
       "      <td>[scotland, rebel, bravery, kingdom, archer, wi...</td>\n",
       "      <td>http://disney.go.com/brave/#/home</td>\n",
       "    </tr>\n",
       "    <tr>\n",
       "      <th>3578</th>\n",
       "      <td>77</td>\n",
       "      <td>http://www.otnemem.com/</td>\n",
       "      <td>Memento</td>\n",
       "      <td>[GuyPearce, Carrie-AnneMoss, JoePantoliano]</td>\n",
       "      <td>[ChristopherNolan]</td>\n",
       "      <td>Suffering short-term memory loss after a head ...</td>\n",
       "      <td>[Mystery, Thriller]</td>\n",
       "      <td>[individual, insulin, tattoo, waitress, amnesi...</td>\n",
       "      <td>http://www.otnemem.com/</td>\n",
       "    </tr>\n",
       "    <tr>\n",
       "      <th>3692</th>\n",
       "      <td>11577</td>\n",
       "      <td>0</td>\n",
       "      <td>Pat Garrett &amp; Billy the Kid</td>\n",
       "      <td>[JamesCoburn, KrisKristofferson, RichardJaeckel]</td>\n",
       "      <td>[SamPeckinpah]</td>\n",
       "      <td>An aging Pat Garrett is hired as a lawman on b...</td>\n",
       "      <td>[Western]</td>\n",
       "      <td>[sheriff, aging, billy the kid, lawlessness, g...</td>\n",
       "      <td>https://www./PatGarrett&amp;BillytheKid</td>\n",
       "    </tr>\n",
       "  </tbody>\n",
       "</table>\n",
       "</div>"
      ],
      "text/plain": [
       "         id                           homepage                        title  \\\n",
       "1896   1909                                  0             Don Juan DeMarco   \n",
       "2458  11093                                  0        House of Sand and Fog   \n",
       "55    62177  http://disney.go.com/brave/#/home                        Brave   \n",
       "3578     77            http://www.otnemem.com/                      Memento   \n",
       "3692  11577                                  0  Pat Garrett & Billy the Kid   \n",
       "\n",
       "                                                  cast  \\\n",
       "1896           [JohnnyDepp, MarlonBrando, FayeDunaway]   \n",
       "2458        [JenniferConnelly, BenKingsley, RonEldard]   \n",
       "55       [KellyMacdonald, JulieWalters, BillyConnolly]   \n",
       "3578       [GuyPearce, Carrie-AnneMoss, JoePantoliano]   \n",
       "3692  [JamesCoburn, KrisKristofferson, RichardJaeckel]   \n",
       "\n",
       "                                            crew  \\\n",
       "1896                               [JeremyLeven]   \n",
       "2458                             [VadimPerelman]   \n",
       "55    [BrendaChapman, MarkAndrews, StevePurcell]   \n",
       "3578                          [ChristopherNolan]   \n",
       "3692                              [SamPeckinpah]   \n",
       "\n",
       "                                               overview  \\\n",
       "1896  John Arnold DeMarco is a man who believes he i...   \n",
       "2458  Behrani, an Iranian immigrant buys a Californi...   \n",
       "55    Brave is set in the mystical Scottish Highland...   \n",
       "3578  Suffering short-term memory loss after a head ...   \n",
       "3692  An aging Pat Garrett is hired as a lawman on b...   \n",
       "\n",
       "                                                 genres  \\\n",
       "1896                           [Romance, Drama, Comedy]   \n",
       "2458                                            [Drama]   \n",
       "55    [Animation, Adventure, Comedy, Family, Action,...   \n",
       "3578                                [Mystery, Thriller]   \n",
       "3692                                          [Western]   \n",
       "\n",
       "                                               keywords  \\\n",
       "1896  [sex addiction, love, mental institution, pati...   \n",
       "2458  [san francisco, immigrant, house, intimidation...   \n",
       "55    [scotland, rebel, bravery, kingdom, archer, wi...   \n",
       "3578  [individual, insulin, tattoo, waitress, amnesi...   \n",
       "3692  [sheriff, aging, billy the kid, lawlessness, g...   \n",
       "\n",
       "                                     urls  \n",
       "1896          https://www./DonJuanDeMarco  \n",
       "2458       https://www./HouseofSandandFog  \n",
       "55      http://disney.go.com/brave/#/home  \n",
       "3578              http://www.otnemem.com/  \n",
       "3692  https://www./PatGarrett&BillytheKid  "
      ]
     },
     "execution_count": 33,
     "metadata": {},
     "output_type": "execute_result"
    }
   ],
   "source": [
    "# new_df.iloc[[0]].title\n",
    "new_df.sample(5)"
   ]
  },
  {
   "cell_type": "code",
   "execution_count": 34,
   "id": "8051e81e",
   "metadata": {
    "execution": {
     "iopub.execute_input": "2023-10-26T05:54:27.592861Z",
     "iopub.status.busy": "2023-10-26T05:54:27.591390Z",
     "iopub.status.idle": "2023-10-26T05:54:27.597959Z",
     "shell.execute_reply": "2023-10-26T05:54:27.596469Z"
    },
    "papermill": {
     "duration": 0.044505,
     "end_time": "2023-10-26T05:54:27.600568",
     "exception": false,
     "start_time": "2023-10-26T05:54:27.556063",
     "status": "completed"
    },
    "tags": []
   },
   "outputs": [],
   "source": [
    "# to convert string into list of strings \n",
    "def spliting(text):\n",
    "  text=str(text).split()\n",
    "  return text"
   ]
  },
  {
   "cell_type": "code",
   "execution_count": 35,
   "id": "fbcf5ee3",
   "metadata": {
    "execution": {
     "iopub.execute_input": "2023-10-26T05:54:27.667341Z",
     "iopub.status.busy": "2023-10-26T05:54:27.666582Z",
     "iopub.status.idle": "2023-10-26T05:54:27.704639Z",
     "shell.execute_reply": "2023-10-26T05:54:27.703696Z"
    },
    "papermill": {
     "duration": 0.074452,
     "end_time": "2023-10-26T05:54:27.707427",
     "exception": false,
     "start_time": "2023-10-26T05:54:27.632975",
     "status": "completed"
    },
    "tags": []
   },
   "outputs": [],
   "source": [
    "new_df['overview']=new_df['overview'].apply(spliting)"
   ]
  },
  {
   "cell_type": "code",
   "execution_count": 36,
   "id": "d2dcc9ab",
   "metadata": {
    "execution": {
     "iopub.execute_input": "2023-10-26T05:54:27.775473Z",
     "iopub.status.busy": "2023-10-26T05:54:27.774532Z",
     "iopub.status.idle": "2023-10-26T05:54:27.937390Z",
     "shell.execute_reply": "2023-10-26T05:54:27.936012Z"
    },
    "papermill": {
     "duration": 0.199681,
     "end_time": "2023-10-26T05:54:27.940271",
     "exception": false,
     "start_time": "2023-10-26T05:54:27.740590",
     "status": "completed"
    },
    "tags": []
   },
   "outputs": [],
   "source": [
    "new_df['all_tags']=new_df['overview'] + new_df['genres'] + new_df['keywords'] + new_df['cast'] + new_df['crew']"
   ]
  },
  {
   "cell_type": "code",
   "execution_count": 37,
   "id": "42d70085",
   "metadata": {
    "execution": {
     "iopub.execute_input": "2023-10-26T05:54:28.006948Z",
     "iopub.status.busy": "2023-10-26T05:54:28.006556Z",
     "iopub.status.idle": "2023-10-26T05:54:28.016821Z",
     "shell.execute_reply": "2023-10-26T05:54:28.015422Z"
    },
    "papermill": {
     "duration": 0.046125,
     "end_time": "2023-10-26T05:54:28.019425",
     "exception": false,
     "start_time": "2023-10-26T05:54:27.973300",
     "status": "completed"
    },
    "tags": []
   },
   "outputs": [],
   "source": [
    "new_df.drop(columns=['overview','genres' ,'keywords','cast' , 'crew','homepage'],inplace=True)"
   ]
  },
  {
   "cell_type": "code",
   "execution_count": 38,
   "id": "a3b2440f",
   "metadata": {
    "execution": {
     "iopub.execute_input": "2023-10-26T05:54:28.085687Z",
     "iopub.status.busy": "2023-10-26T05:54:28.085283Z",
     "iopub.status.idle": "2023-10-26T05:54:28.103486Z",
     "shell.execute_reply": "2023-10-26T05:54:28.102250Z"
    },
    "papermill": {
     "duration": 0.054274,
     "end_time": "2023-10-26T05:54:28.105791",
     "exception": false,
     "start_time": "2023-10-26T05:54:28.051517",
     "status": "completed"
    },
    "tags": []
   },
   "outputs": [
    {
     "data": {
      "text/html": [
       "<div>\n",
       "<style scoped>\n",
       "    .dataframe tbody tr th:only-of-type {\n",
       "        vertical-align: middle;\n",
       "    }\n",
       "\n",
       "    .dataframe tbody tr th {\n",
       "        vertical-align: top;\n",
       "    }\n",
       "\n",
       "    .dataframe thead th {\n",
       "        text-align: right;\n",
       "    }\n",
       "</style>\n",
       "<table border=\"1\" class=\"dataframe\">\n",
       "  <thead>\n",
       "    <tr style=\"text-align: right;\">\n",
       "      <th></th>\n",
       "      <th>id</th>\n",
       "      <th>title</th>\n",
       "      <th>urls</th>\n",
       "      <th>all_tags</th>\n",
       "    </tr>\n",
       "  </thead>\n",
       "  <tbody>\n",
       "    <tr>\n",
       "      <th>0</th>\n",
       "      <td>19995</td>\n",
       "      <td>Avatar</td>\n",
       "      <td>http://www.avatarmovie.com/</td>\n",
       "      <td>[In, the, 22nd, century,, a, paraplegic, Marin...</td>\n",
       "    </tr>\n",
       "    <tr>\n",
       "      <th>1</th>\n",
       "      <td>285</td>\n",
       "      <td>Pirates of the Caribbean: At World's End</td>\n",
       "      <td>http://disney.go.com/disneypictures/pirates/</td>\n",
       "      <td>[Captain, Barbossa,, long, believed, to, be, d...</td>\n",
       "    </tr>\n",
       "    <tr>\n",
       "      <th>2</th>\n",
       "      <td>206647</td>\n",
       "      <td>Spectre</td>\n",
       "      <td>http://www.sonypictures.com/movies/spectre/</td>\n",
       "      <td>[A, cryptic, message, from, Bond’s, past, send...</td>\n",
       "    </tr>\n",
       "    <tr>\n",
       "      <th>3</th>\n",
       "      <td>49026</td>\n",
       "      <td>The Dark Knight Rises</td>\n",
       "      <td>http://www.thedarkknightrises.com/</td>\n",
       "      <td>[Following, the, death, of, District, Attorney...</td>\n",
       "    </tr>\n",
       "    <tr>\n",
       "      <th>4</th>\n",
       "      <td>49529</td>\n",
       "      <td>John Carter</td>\n",
       "      <td>http://movies.disney.com/john-carter</td>\n",
       "      <td>[John, Carter, is, a, war-weary,, former, mili...</td>\n",
       "    </tr>\n",
       "  </tbody>\n",
       "</table>\n",
       "</div>"
      ],
      "text/plain": [
       "       id                                     title  \\\n",
       "0   19995                                    Avatar   \n",
       "1     285  Pirates of the Caribbean: At World's End   \n",
       "2  206647                                   Spectre   \n",
       "3   49026                     The Dark Knight Rises   \n",
       "4   49529                               John Carter   \n",
       "\n",
       "                                           urls  \\\n",
       "0                   http://www.avatarmovie.com/   \n",
       "1  http://disney.go.com/disneypictures/pirates/   \n",
       "2   http://www.sonypictures.com/movies/spectre/   \n",
       "3            http://www.thedarkknightrises.com/   \n",
       "4          http://movies.disney.com/john-carter   \n",
       "\n",
       "                                            all_tags  \n",
       "0  [In, the, 22nd, century,, a, paraplegic, Marin...  \n",
       "1  [Captain, Barbossa,, long, believed, to, be, d...  \n",
       "2  [A, cryptic, message, from, Bond’s, past, send...  \n",
       "3  [Following, the, death, of, District, Attorney...  \n",
       "4  [John, Carter, is, a, war-weary,, former, mili...  "
      ]
     },
     "execution_count": 38,
     "metadata": {},
     "output_type": "execute_result"
    }
   ],
   "source": [
    "new_df.head()"
   ]
  },
  {
   "cell_type": "code",
   "execution_count": 39,
   "id": "8033e883",
   "metadata": {
    "execution": {
     "iopub.execute_input": "2023-10-26T05:54:28.173075Z",
     "iopub.status.busy": "2023-10-26T05:54:28.172426Z",
     "iopub.status.idle": "2023-10-26T05:54:28.177801Z",
     "shell.execute_reply": "2023-10-26T05:54:28.177016Z"
    },
    "papermill": {
     "duration": 0.041282,
     "end_time": "2023-10-26T05:54:28.180011",
     "exception": false,
     "start_time": "2023-10-26T05:54:28.138729",
     "status": "completed"
    },
    "tags": []
   },
   "outputs": [],
   "source": [
    "def convert_lower(text):\n",
    "  l=[]\n",
    "  for item in text:\n",
    "    l.append(item.lower())\n",
    "  return l"
   ]
  },
  {
   "cell_type": "code",
   "execution_count": 40,
   "id": "915bd191",
   "metadata": {
    "execution": {
     "iopub.execute_input": "2023-10-26T05:54:28.246954Z",
     "iopub.status.busy": "2023-10-26T05:54:28.246318Z",
     "iopub.status.idle": "2023-10-26T05:54:28.362330Z",
     "shell.execute_reply": "2023-10-26T05:54:28.361297Z"
    },
    "papermill": {
     "duration": 0.152426,
     "end_time": "2023-10-26T05:54:28.365142",
     "exception": false,
     "start_time": "2023-10-26T05:54:28.212716",
     "status": "completed"
    },
    "tags": []
   },
   "outputs": [],
   "source": [
    "new_df['all_tags']=new_df['all_tags'].apply(convert_lower)"
   ]
  },
  {
   "cell_type": "code",
   "execution_count": 41,
   "id": "7eac008e",
   "metadata": {
    "execution": {
     "iopub.execute_input": "2023-10-26T05:54:28.432863Z",
     "iopub.status.busy": "2023-10-26T05:54:28.432243Z",
     "iopub.status.idle": "2023-10-26T05:54:28.448174Z",
     "shell.execute_reply": "2023-10-26T05:54:28.447377Z"
    },
    "papermill": {
     "duration": 0.052312,
     "end_time": "2023-10-26T05:54:28.450561",
     "exception": false,
     "start_time": "2023-10-26T05:54:28.398249",
     "status": "completed"
    },
    "tags": []
   },
   "outputs": [
    {
     "data": {
      "text/html": [
       "<div>\n",
       "<style scoped>\n",
       "    .dataframe tbody tr th:only-of-type {\n",
       "        vertical-align: middle;\n",
       "    }\n",
       "\n",
       "    .dataframe tbody tr th {\n",
       "        vertical-align: top;\n",
       "    }\n",
       "\n",
       "    .dataframe thead th {\n",
       "        text-align: right;\n",
       "    }\n",
       "</style>\n",
       "<table border=\"1\" class=\"dataframe\">\n",
       "  <thead>\n",
       "    <tr style=\"text-align: right;\">\n",
       "      <th></th>\n",
       "      <th>id</th>\n",
       "      <th>title</th>\n",
       "      <th>urls</th>\n",
       "      <th>all_tags</th>\n",
       "    </tr>\n",
       "  </thead>\n",
       "  <tbody>\n",
       "    <tr>\n",
       "      <th>0</th>\n",
       "      <td>19995</td>\n",
       "      <td>Avatar</td>\n",
       "      <td>http://www.avatarmovie.com/</td>\n",
       "      <td>[in, the, 22nd, century,, a, paraplegic, marin...</td>\n",
       "    </tr>\n",
       "    <tr>\n",
       "      <th>1</th>\n",
       "      <td>285</td>\n",
       "      <td>Pirates of the Caribbean: At World's End</td>\n",
       "      <td>http://disney.go.com/disneypictures/pirates/</td>\n",
       "      <td>[captain, barbossa,, long, believed, to, be, d...</td>\n",
       "    </tr>\n",
       "    <tr>\n",
       "      <th>2</th>\n",
       "      <td>206647</td>\n",
       "      <td>Spectre</td>\n",
       "      <td>http://www.sonypictures.com/movies/spectre/</td>\n",
       "      <td>[a, cryptic, message, from, bond’s, past, send...</td>\n",
       "    </tr>\n",
       "    <tr>\n",
       "      <th>3</th>\n",
       "      <td>49026</td>\n",
       "      <td>The Dark Knight Rises</td>\n",
       "      <td>http://www.thedarkknightrises.com/</td>\n",
       "      <td>[following, the, death, of, district, attorney...</td>\n",
       "    </tr>\n",
       "    <tr>\n",
       "      <th>4</th>\n",
       "      <td>49529</td>\n",
       "      <td>John Carter</td>\n",
       "      <td>http://movies.disney.com/john-carter</td>\n",
       "      <td>[john, carter, is, a, war-weary,, former, mili...</td>\n",
       "    </tr>\n",
       "  </tbody>\n",
       "</table>\n",
       "</div>"
      ],
      "text/plain": [
       "       id                                     title  \\\n",
       "0   19995                                    Avatar   \n",
       "1     285  Pirates of the Caribbean: At World's End   \n",
       "2  206647                                   Spectre   \n",
       "3   49026                     The Dark Knight Rises   \n",
       "4   49529                               John Carter   \n",
       "\n",
       "                                           urls  \\\n",
       "0                   http://www.avatarmovie.com/   \n",
       "1  http://disney.go.com/disneypictures/pirates/   \n",
       "2   http://www.sonypictures.com/movies/spectre/   \n",
       "3            http://www.thedarkknightrises.com/   \n",
       "4          http://movies.disney.com/john-carter   \n",
       "\n",
       "                                            all_tags  \n",
       "0  [in, the, 22nd, century,, a, paraplegic, marin...  \n",
       "1  [captain, barbossa,, long, believed, to, be, d...  \n",
       "2  [a, cryptic, message, from, bond’s, past, send...  \n",
       "3  [following, the, death, of, district, attorney...  \n",
       "4  [john, carter, is, a, war-weary,, former, mili...  "
      ]
     },
     "execution_count": 41,
     "metadata": {},
     "output_type": "execute_result"
    }
   ],
   "source": [
    "new_df.head()"
   ]
  },
  {
   "cell_type": "code",
   "execution_count": 42,
   "id": "e08e73f5",
   "metadata": {
    "execution": {
     "iopub.execute_input": "2023-10-26T05:54:28.519774Z",
     "iopub.status.busy": "2023-10-26T05:54:28.518794Z",
     "iopub.status.idle": "2023-10-26T05:54:42.601795Z",
     "shell.execute_reply": "2023-10-26T05:54:42.600231Z"
    },
    "papermill": {
     "duration": 14.120264,
     "end_time": "2023-10-26T05:54:42.604808",
     "exception": false,
     "start_time": "2023-10-26T05:54:28.484544",
     "status": "completed"
    },
    "tags": []
   },
   "outputs": [
    {
     "name": "stdout",
     "output_type": "stream",
     "text": [
      "Requirement already satisfied: nltk in /opt/conda/lib/python3.10/site-packages (3.2.4)\r\n",
      "Requirement already satisfied: six in /opt/conda/lib/python3.10/site-packages (from nltk) (1.16.0)\r\n"
     ]
    }
   ],
   "source": [
    "!pip install nltk"
   ]
  },
  {
   "cell_type": "code",
   "execution_count": 43,
   "id": "6c873e16",
   "metadata": {
    "execution": {
     "iopub.execute_input": "2023-10-26T05:54:42.673339Z",
     "iopub.status.busy": "2023-10-26T05:54:42.672894Z",
     "iopub.status.idle": "2023-10-26T05:54:45.168494Z",
     "shell.execute_reply": "2023-10-26T05:54:45.167121Z"
    },
    "papermill": {
     "duration": 2.533981,
     "end_time": "2023-10-26T05:54:45.171682",
     "exception": false,
     "start_time": "2023-10-26T05:54:42.637701",
     "status": "completed"
    },
    "tags": []
   },
   "outputs": [],
   "source": [
    "import nltk\n",
    "from nltk.stem.porter import PorterStemmer\n",
    "ps=PorterStemmer()\n",
    "def steming(text):\n",
    "  l=[]\n",
    "  for i in text:\n",
    "\n",
    "    l.append(ps.stem(i))\n",
    "  return l"
   ]
  },
  {
   "cell_type": "code",
   "execution_count": 44,
   "id": "34de41fc",
   "metadata": {
    "execution": {
     "iopub.execute_input": "2023-10-26T05:54:45.241252Z",
     "iopub.status.busy": "2023-10-26T05:54:45.240848Z",
     "iopub.status.idle": "2023-10-26T05:54:55.902245Z",
     "shell.execute_reply": "2023-10-26T05:54:55.901038Z"
    },
    "papermill": {
     "duration": 10.699927,
     "end_time": "2023-10-26T05:54:55.905300",
     "exception": false,
     "start_time": "2023-10-26T05:54:45.205373",
     "status": "completed"
    },
    "tags": []
   },
   "outputs": [],
   "source": [
    "new_df['all_tags']=new_df['all_tags'].apply(steming)"
   ]
  },
  {
   "cell_type": "code",
   "execution_count": 45,
   "id": "3fdfce91",
   "metadata": {
    "execution": {
     "iopub.execute_input": "2023-10-26T05:54:55.972700Z",
     "iopub.status.busy": "2023-10-26T05:54:55.972299Z",
     "iopub.status.idle": "2023-10-26T05:54:55.989630Z",
     "shell.execute_reply": "2023-10-26T05:54:55.988576Z"
    },
    "papermill": {
     "duration": 0.053748,
     "end_time": "2023-10-26T05:54:55.991765",
     "exception": false,
     "start_time": "2023-10-26T05:54:55.938017",
     "status": "completed"
    },
    "tags": []
   },
   "outputs": [
    {
     "data": {
      "text/html": [
       "<div>\n",
       "<style scoped>\n",
       "    .dataframe tbody tr th:only-of-type {\n",
       "        vertical-align: middle;\n",
       "    }\n",
       "\n",
       "    .dataframe tbody tr th {\n",
       "        vertical-align: top;\n",
       "    }\n",
       "\n",
       "    .dataframe thead th {\n",
       "        text-align: right;\n",
       "    }\n",
       "</style>\n",
       "<table border=\"1\" class=\"dataframe\">\n",
       "  <thead>\n",
       "    <tr style=\"text-align: right;\">\n",
       "      <th></th>\n",
       "      <th>id</th>\n",
       "      <th>title</th>\n",
       "      <th>urls</th>\n",
       "      <th>all_tags</th>\n",
       "    </tr>\n",
       "  </thead>\n",
       "  <tbody>\n",
       "    <tr>\n",
       "      <th>66</th>\n",
       "      <td>14160</td>\n",
       "      <td>Up</td>\n",
       "      <td>http://disney.go.com/disneypictures/up/</td>\n",
       "      <td>[carl, fredricksen, spent, hi, entir, life, dr...</td>\n",
       "    </tr>\n",
       "    <tr>\n",
       "      <th>3693</th>\n",
       "      <td>77987</td>\n",
       "      <td>Only God Forgives</td>\n",
       "      <td>https://www./OnlyGodForgives</td>\n",
       "      <td>[julian,, who, run, a, thai, box, club, as, a,...</td>\n",
       "    </tr>\n",
       "    <tr>\n",
       "      <th>109</th>\n",
       "      <td>10140</td>\n",
       "      <td>The Chronicles of Narnia: The Voyage of the Da...</td>\n",
       "      <td>https://www./TheChroniclesofNarnia:TheVoyageof...</td>\n",
       "      <td>[thi, time, around, edmund, and, luci, pevensi...</td>\n",
       "    </tr>\n",
       "    <tr>\n",
       "      <th>2005</th>\n",
       "      <td>227707</td>\n",
       "      <td>The Adventurer: The Curse of the Midas Box</td>\n",
       "      <td>https://www./TheAdventurer:TheCurseoftheMidasBox</td>\n",
       "      <td>[17-year-old, mariah, mundi', life, is, turn, ...</td>\n",
       "    </tr>\n",
       "    <tr>\n",
       "      <th>357</th>\n",
       "      <td>271969</td>\n",
       "      <td>Ben-Hur</td>\n",
       "      <td>http://www.benhurmovie.com/</td>\n",
       "      <td>[a, fals, accus, nobleman, surviv, year, of, s...</td>\n",
       "    </tr>\n",
       "  </tbody>\n",
       "</table>\n",
       "</div>"
      ],
      "text/plain": [
       "          id                                              title  \\\n",
       "66     14160                                                 Up   \n",
       "3693   77987                                  Only God Forgives   \n",
       "109    10140  The Chronicles of Narnia: The Voyage of the Da...   \n",
       "2005  227707         The Adventurer: The Curse of the Midas Box   \n",
       "357   271969                                            Ben-Hur   \n",
       "\n",
       "                                                   urls  \\\n",
       "66              http://disney.go.com/disneypictures/up/   \n",
       "3693                       https://www./OnlyGodForgives   \n",
       "109   https://www./TheChroniclesofNarnia:TheVoyageof...   \n",
       "2005   https://www./TheAdventurer:TheCurseoftheMidasBox   \n",
       "357                         http://www.benhurmovie.com/   \n",
       "\n",
       "                                               all_tags  \n",
       "66    [carl, fredricksen, spent, hi, entir, life, dr...  \n",
       "3693  [julian,, who, run, a, thai, box, club, as, a,...  \n",
       "109   [thi, time, around, edmund, and, luci, pevensi...  \n",
       "2005  [17-year-old, mariah, mundi', life, is, turn, ...  \n",
       "357   [a, fals, accus, nobleman, surviv, year, of, s...  "
      ]
     },
     "execution_count": 45,
     "metadata": {},
     "output_type": "execute_result"
    }
   ],
   "source": [
    "new_df.sample(5)"
   ]
  },
  {
   "cell_type": "code",
   "execution_count": 46,
   "id": "56a14976",
   "metadata": {
    "execution": {
     "iopub.execute_input": "2023-10-26T05:54:56.059864Z",
     "iopub.status.busy": "2023-10-26T05:54:56.058825Z",
     "iopub.status.idle": "2023-10-26T05:54:56.169885Z",
     "shell.execute_reply": "2023-10-26T05:54:56.168743Z"
    },
    "papermill": {
     "duration": 0.148158,
     "end_time": "2023-10-26T05:54:56.172630",
     "exception": false,
     "start_time": "2023-10-26T05:54:56.024472",
     "status": "completed"
    },
    "tags": []
   },
   "outputs": [],
   "source": [
    "new_df[\"all_tags\"]=new_df[\"all_tags\"].apply(_join)"
   ]
  },
  {
   "cell_type": "code",
   "execution_count": 47,
   "id": "2adec622",
   "metadata": {
    "execution": {
     "iopub.execute_input": "2023-10-26T05:54:56.240054Z",
     "iopub.status.busy": "2023-10-26T05:54:56.239680Z",
     "iopub.status.idle": "2023-10-26T05:54:56.276386Z",
     "shell.execute_reply": "2023-10-26T05:54:56.275132Z"
    },
    "papermill": {
     "duration": 0.073652,
     "end_time": "2023-10-26T05:54:56.279132",
     "exception": false,
     "start_time": "2023-10-26T05:54:56.205480",
     "status": "completed"
    },
    "tags": []
   },
   "outputs": [],
   "source": [
    "new_df['all_tags'] = new_df['all_tags'].apply(lambda x: \" \".join(x))"
   ]
  },
  {
   "cell_type": "code",
   "execution_count": 48,
   "id": "3c0f2440",
   "metadata": {
    "execution": {
     "iopub.execute_input": "2023-10-26T05:54:56.348396Z",
     "iopub.status.busy": "2023-10-26T05:54:56.347982Z",
     "iopub.status.idle": "2023-10-26T05:54:56.352904Z",
     "shell.execute_reply": "2023-10-26T05:54:56.351734Z"
    },
    "papermill": {
     "duration": 0.043346,
     "end_time": "2023-10-26T05:54:56.355396",
     "exception": false,
     "start_time": "2023-10-26T05:54:56.312050",
     "status": "completed"
    },
    "tags": []
   },
   "outputs": [],
   "source": [
    "from sklearn.feature_extraction.text import CountVectorizer\n",
    "cv = CountVectorizer(stop_words='english')"
   ]
  },
  {
   "cell_type": "code",
   "execution_count": 49,
   "id": "c9c9f999",
   "metadata": {
    "execution": {
     "iopub.execute_input": "2023-10-26T05:54:56.423549Z",
     "iopub.status.busy": "2023-10-26T05:54:56.423170Z",
     "iopub.status.idle": "2023-10-26T05:54:57.324745Z",
     "shell.execute_reply": "2023-10-26T05:54:57.323519Z"
    },
    "papermill": {
     "duration": 0.938675,
     "end_time": "2023-10-26T05:54:57.327571",
     "exception": false,
     "start_time": "2023-10-26T05:54:56.388896",
     "status": "completed"
    },
    "tags": []
   },
   "outputs": [
    {
     "data": {
      "text/plain": [
       "array([[0, 0, 0, ..., 0, 0, 0],\n",
       "       [0, 0, 0, ..., 0, 0, 0],\n",
       "       [0, 0, 0, ..., 0, 0, 0],\n",
       "       ...,\n",
       "       [0, 0, 0, ..., 0, 0, 0],\n",
       "       [0, 0, 0, ..., 0, 0, 0],\n",
       "       [0, 0, 0, ..., 0, 0, 0]])"
      ]
     },
     "execution_count": 49,
     "metadata": {},
     "output_type": "execute_result"
    }
   ],
   "source": [
    "data = cv.fit_transform(new_df['all_tags']).toarray()\n",
    "data"
   ]
  },
  {
   "cell_type": "code",
   "execution_count": 50,
   "id": "bbc6ffa6",
   "metadata": {
    "execution": {
     "iopub.execute_input": "2023-10-26T05:54:57.396104Z",
     "iopub.status.busy": "2023-10-26T05:54:57.395741Z",
     "iopub.status.idle": "2023-10-26T05:55:12.561817Z",
     "shell.execute_reply": "2023-10-26T05:55:12.560323Z"
    },
    "papermill": {
     "duration": 15.204205,
     "end_time": "2023-10-26T05:55:12.565403",
     "exception": false,
     "start_time": "2023-10-26T05:54:57.361198",
     "status": "completed"
    },
    "tags": []
   },
   "outputs": [
    {
     "data": {
      "text/plain": [
       "array([[1.        , 0.06776309, 0.06862635, ..., 0.03571429, 0.        ,\n",
       "        0.        ],\n",
       "       [0.06776309, 1.        , 0.05063697, ..., 0.01976424, 0.        ,\n",
       "        0.0209427 ],\n",
       "       [0.06862635, 0.05063697, 1.        , ..., 0.02001602, 0.        ,\n",
       "        0.        ],\n",
       "       ...,\n",
       "       [0.03571429, 0.01976424, 0.02001602, ..., 1.        , 0.03311331,\n",
       "        0.03311331],\n",
       "       [0.        , 0.        , 0.        , ..., 0.03311331, 1.        ,\n",
       "        0.07017544],\n",
       "       [0.        , 0.0209427 , 0.        , ..., 0.03311331, 0.07017544,\n",
       "        1.        ]])"
      ]
     },
     "execution_count": 50,
     "metadata": {},
     "output_type": "execute_result"
    }
   ],
   "source": [
    "from sklearn.metrics.pairwise import cosine_similarity\n",
    "similarity = cosine_similarity(data)\n",
    "similarity"
   ]
  },
  {
   "cell_type": "code",
   "execution_count": 51,
   "id": "76ce78c2",
   "metadata": {
    "execution": {
     "iopub.execute_input": "2023-10-26T05:55:12.640908Z",
     "iopub.status.busy": "2023-10-26T05:55:12.639314Z",
     "iopub.status.idle": "2023-10-26T05:55:12.648869Z",
     "shell.execute_reply": "2023-10-26T05:55:12.647483Z"
    },
    "papermill": {
     "duration": 0.048168,
     "end_time": "2023-10-26T05:55:12.651628",
     "exception": false,
     "start_time": "2023-10-26T05:55:12.603460",
     "status": "completed"
    },
    "tags": []
   },
   "outputs": [],
   "source": [
    "def movie_recommend(movie):\n",
    "    index = new_df[new_df['title'] == movie].index[0]\n",
    "    distances = sorted(list(enumerate(similarity[index])),reverse=True,key = lambda x: x[1])\n",
    "    for i in distances[1:8]:\n",
    "\n",
    "      \n",
    "      print(\"{} {}\".format(new_df.iloc[i[0]].title,new_df.iloc[i[0]].urls))"
   ]
  },
  {
   "cell_type": "code",
   "execution_count": 52,
   "id": "ce1ad168",
   "metadata": {
    "execution": {
     "iopub.execute_input": "2023-10-26T05:55:12.722737Z",
     "iopub.status.busy": "2023-10-26T05:55:12.722308Z",
     "iopub.status.idle": "2023-10-26T05:55:12.737291Z",
     "shell.execute_reply": "2023-10-26T05:55:12.736017Z"
    },
    "papermill": {
     "duration": 0.052526,
     "end_time": "2023-10-26T05:55:12.740000",
     "exception": false,
     "start_time": "2023-10-26T05:55:12.687474",
     "status": "completed"
    },
    "tags": []
   },
   "outputs": [
    {
     "name": "stdout",
     "output_type": "stream",
     "text": [
      "Aliens https://www./Aliens\n",
      "Aliens vs Predator: Requiem http://www.avp-r.com/\n",
      "Titan A.E. https://www./TitanA.E.\n",
      "Independence Day https://www./IndependenceDay\n",
      "Battle: Los Angeles http://www.battlela.com\n",
      "Meet Dave http://www.meetdavemovie.com/\n",
      "Predators https://www./Predators\n"
     ]
    }
   ],
   "source": [
    "movie_recommend(\"Avatar\")"
   ]
  },
  {
   "cell_type": "code",
   "execution_count": 53,
   "id": "ab568fef",
   "metadata": {
    "execution": {
     "iopub.execute_input": "2023-10-26T05:55:12.810032Z",
     "iopub.status.busy": "2023-10-26T05:55:12.809606Z",
     "iopub.status.idle": "2023-10-26T05:55:12.824757Z",
     "shell.execute_reply": "2023-10-26T05:55:12.823652Z"
    },
    "papermill": {
     "duration": 0.052738,
     "end_time": "2023-10-26T05:55:12.827123",
     "exception": false,
     "start_time": "2023-10-26T05:55:12.774385",
     "status": "completed"
    },
    "tags": []
   },
   "outputs": [
    {
     "name": "stdout",
     "output_type": "stream",
     "text": [
      "Batman https://www./Batman\n",
      "Batman & Robin https://www./Batman&Robin\n",
      "The R.M. http://www.halestormentertainment.com/p_movies_details.asp?mID=jnlppmp8\n",
      "Batman Begins http://www2.warnerbros.com/batmanbegins/index.html\n",
      "Batman Returns https://www./BatmanReturns\n",
      "The Dark Knight http://thedarkknight.warnerbros.com/dvdsite/\n",
      "The Dark Knight Rises http://www.thedarkknightrises.com/\n"
     ]
    }
   ],
   "source": [
    "movie_recommend(\"Batman\")"
   ]
  },
  {
   "cell_type": "code",
   "execution_count": 54,
   "id": "f4b7bc76",
   "metadata": {
    "execution": {
     "iopub.execute_input": "2023-10-26T05:55:12.897833Z",
     "iopub.status.busy": "2023-10-26T05:55:12.896832Z",
     "iopub.status.idle": "2023-10-26T05:55:12.912257Z",
     "shell.execute_reply": "2023-10-26T05:55:12.910926Z"
    },
    "papermill": {
     "duration": 0.052703,
     "end_time": "2023-10-26T05:55:12.914648",
     "exception": false,
     "start_time": "2023-10-26T05:55:12.861945",
     "status": "completed"
    },
    "tags": []
   },
   "outputs": [
    {
     "name": "stdout",
     "output_type": "stream",
     "text": [
      "Captain America: The Winter Soldier http://www.captainamericathewintersoldiermovie.com\n",
      "Bowling for Columbine http://www.bowlingforcolumbine.com/index.php\n",
      "Captain America: The First Avenger http://captainamerica.marvel.com/\n",
      "The Algerian http://thealgerianmovie.com/\n",
      "Team America: World Police http://www.teamamerica.com\n",
      "Beavis and Butt-Head Do America https://www./BeavisandButt-HeadDoAmerica\n",
      "Nothing But a Man https://www./NothingButaMan\n"
     ]
    }
   ],
   "source": [
    "movie_recommend(\"2016: Obama's America\")"
   ]
  },
  {
   "cell_type": "code",
   "execution_count": 55,
   "id": "3e629813",
   "metadata": {
    "execution": {
     "iopub.execute_input": "2023-10-26T05:55:12.984002Z",
     "iopub.status.busy": "2023-10-26T05:55:12.983605Z",
     "iopub.status.idle": "2023-10-26T05:55:12.988418Z",
     "shell.execute_reply": "2023-10-26T05:55:12.987234Z"
    },
    "papermill": {
     "duration": 0.042344,
     "end_time": "2023-10-26T05:55:12.990862",
     "exception": false,
     "start_time": "2023-10-26T05:55:12.948518",
     "status": "completed"
    },
    "tags": []
   },
   "outputs": [],
   "source": [
    "import pickle"
   ]
  },
  {
   "cell_type": "code",
   "execution_count": 56,
   "id": "7cef1b50",
   "metadata": {
    "execution": {
     "iopub.execute_input": "2023-10-26T05:55:13.063372Z",
     "iopub.status.busy": "2023-10-26T05:55:13.062924Z",
     "iopub.status.idle": "2023-10-26T05:55:13.412685Z",
     "shell.execute_reply": "2023-10-26T05:55:13.411458Z"
    },
    "papermill": {
     "duration": 0.389332,
     "end_time": "2023-10-26T05:55:13.415590",
     "exception": false,
     "start_time": "2023-10-26T05:55:13.026258",
     "status": "completed"
    },
    "tags": []
   },
   "outputs": [],
   "source": [
    "pickle.dump(new_df,open(\"movie_recm.pkl\",\"wb\"))\n",
    "pickle.dump(similarity,open(\"similarity.pkl\",\"wb\"))"
   ]
  },
  {
   "cell_type": "code",
   "execution_count": 57,
   "id": "ef7e0b5d",
   "metadata": {
    "execution": {
     "iopub.execute_input": "2023-10-26T05:55:13.486417Z",
     "iopub.status.busy": "2023-10-26T05:55:13.485942Z",
     "iopub.status.idle": "2023-10-26T05:55:13.494450Z",
     "shell.execute_reply": "2023-10-26T05:55:13.493253Z"
    },
    "papermill": {
     "duration": 0.046286,
     "end_time": "2023-10-26T05:55:13.496936",
     "exception": false,
     "start_time": "2023-10-26T05:55:13.450650",
     "status": "completed"
    },
    "tags": []
   },
   "outputs": [
    {
     "data": {
      "text/plain": [
       "array(['Avatar', \"Pirates of the Caribbean: At World's End\", 'Spectre',\n",
       "       ..., 'Signed, Sealed, Delivered', 'Shanghai Calling',\n",
       "       'My Date with Drew'], dtype=object)"
      ]
     },
     "execution_count": 57,
     "metadata": {},
     "output_type": "execute_result"
    }
   ],
   "source": [
    "np.array(new_df[\"title\"])"
   ]
  }
 ],
 "metadata": {
  "kernelspec": {
   "display_name": "Python 3",
   "language": "python",
   "name": "python3"
  },
  "language_info": {
   "codemirror_mode": {
    "name": "ipython",
    "version": 3
   },
   "file_extension": ".py",
   "mimetype": "text/x-python",
   "name": "python",
   "nbconvert_exporter": "python",
   "pygments_lexer": "ipython3",
   "version": "3.10.12"
  },
  "papermill": {
   "default_parameters": {},
   "duration": 119.621951,
   "end_time": "2023-10-26T05:55:14.355519",
   "environment_variables": {},
   "exception": null,
   "input_path": "__notebook__.ipynb",
   "output_path": "__notebook__.ipynb",
   "parameters": {},
   "start_time": "2023-10-26T05:53:14.733568",
   "version": "2.4.0"
  }
 },
 "nbformat": 4,
 "nbformat_minor": 5
}
