{
 "cells": [
  {
   "cell_type": "code",
   "execution_count": 1,
   "id": "dda9a783",
   "metadata": {
    "_cell_guid": "b1076dfc-b9ad-4769-8c92-a6c4dae69d19",
    "_uuid": "8f2839f25d086af736a60e9eeb907d3b93b6e0e5",
    "execution": {
     "iopub.execute_input": "2023-10-26T05:49:49.454140Z",
     "iopub.status.busy": "2023-10-26T05:49:49.453801Z",
     "iopub.status.idle": "2023-10-26T05:50:35.948822Z",
     "shell.execute_reply": "2023-10-26T05:50:35.948045Z"
    },
    "papermill": {
     "duration": 46.514154,
     "end_time": "2023-10-26T05:50:35.951095",
     "exception": false,
     "start_time": "2023-10-26T05:49:49.436941",
     "status": "completed"
    },
    "tags": []
   },
   "outputs": [
    {
     "name": "stdout",
     "output_type": "stream",
     "text": [
      "Collecting pyspark\r\n",
      "  Downloading pyspark-3.5.0.tar.gz (316.9 MB)\r\n",
      "\u001b[2K     \u001b[90m━━━━━━━━━━━━━━━━━━━━━━━━━━━━━━━━━━━━━━━\u001b[0m \u001b[32m316.9/316.9 MB\u001b[0m \u001b[31m3.8 MB/s\u001b[0m eta \u001b[36m0:00:00\u001b[0m\r\n",
      "\u001b[?25h  Preparing metadata (setup.py) ... \u001b[?25l-\b \bdone\r\n",
      "\u001b[?25hRequirement already satisfied: py4j==0.10.9.7 in /opt/conda/lib/python3.10/site-packages (from pyspark) (0.10.9.7)\r\n",
      "Building wheels for collected packages: pyspark\r\n",
      "  Building wheel for pyspark (setup.py) ... \u001b[?25l-\b \b\\\b \b|\b \bdone\r\n",
      "\u001b[?25h  Created wheel for pyspark: filename=pyspark-3.5.0-py2.py3-none-any.whl size=317425350 sha256=eabc27e0216d17eddef1090ff845ba0f7e82ffaf1c56ac24e40b62da504530e2\r\n",
      "  Stored in directory: /root/.cache/pip/wheels/41/4e/10/c2cf2467f71c678cfc8a6b9ac9241e5e44a01940da8fbb17fc\r\n",
      "Successfully built pyspark\r\n",
      "Installing collected packages: pyspark\r\n",
      "Successfully installed pyspark-3.5.0\r\n"
     ]
    }
   ],
   "source": [
    "!pip install pyspark\n",
    "import pandas as pd\n",
    "import numpy as np\n",
    "import csv"
   ]
  },
  {
   "cell_type": "code",
   "execution_count": 2,
   "id": "2461a12c",
   "metadata": {
    "execution": {
     "iopub.execute_input": "2023-10-26T05:50:35.999532Z",
     "iopub.status.busy": "2023-10-26T05:50:35.998925Z",
     "iopub.status.idle": "2023-10-26T05:50:36.167878Z",
     "shell.execute_reply": "2023-10-26T05:50:36.167135Z"
    },
    "papermill": {
     "duration": 0.195567,
     "end_time": "2023-10-26T05:50:36.170262",
     "exception": false,
     "start_time": "2023-10-26T05:50:35.974695",
     "status": "completed"
    },
    "tags": []
   },
   "outputs": [],
   "source": [
    "movies=pd.read_csv(\"../input/phatdt/movie.csv\")"
   ]
  },
  {
   "cell_type": "code",
   "execution_count": 3,
   "id": "38842f27",
   "metadata": {
    "execution": {
     "iopub.execute_input": "2023-10-26T05:50:36.222442Z",
     "iopub.status.busy": "2023-10-26T05:50:36.221713Z",
     "iopub.status.idle": "2023-10-26T05:50:36.255745Z",
     "shell.execute_reply": "2023-10-26T05:50:36.254896Z"
    },
    "papermill": {
     "duration": 0.063262,
     "end_time": "2023-10-26T05:50:36.257727",
     "exception": false,
     "start_time": "2023-10-26T05:50:36.194465",
     "status": "completed"
    },
    "tags": []
   },
   "outputs": [
    {
     "data": {
      "text/html": [
       "<div>\n",
       "<style scoped>\n",
       "    .dataframe tbody tr th:only-of-type {\n",
       "        vertical-align: middle;\n",
       "    }\n",
       "\n",
       "    .dataframe tbody tr th {\n",
       "        vertical-align: top;\n",
       "    }\n",
       "\n",
       "    .dataframe thead th {\n",
       "        text-align: right;\n",
       "    }\n",
       "</style>\n",
       "<table border=\"1\" class=\"dataframe\">\n",
       "  <thead>\n",
       "    <tr style=\"text-align: right;\">\n",
       "      <th></th>\n",
       "      <th>budget</th>\n",
       "      <th>genres</th>\n",
       "      <th>homepage</th>\n",
       "      <th>id</th>\n",
       "      <th>keywords</th>\n",
       "      <th>original_language</th>\n",
       "      <th>original_title</th>\n",
       "      <th>overview</th>\n",
       "      <th>popularity</th>\n",
       "      <th>production_companies</th>\n",
       "      <th>production_countries</th>\n",
       "      <th>release_date</th>\n",
       "      <th>revenue</th>\n",
       "      <th>runtime</th>\n",
       "      <th>spoken_languages</th>\n",
       "      <th>status</th>\n",
       "      <th>tagline</th>\n",
       "      <th>title</th>\n",
       "      <th>vote_average</th>\n",
       "      <th>vote_count</th>\n",
       "    </tr>\n",
       "  </thead>\n",
       "  <tbody>\n",
       "    <tr>\n",
       "      <th>0</th>\n",
       "      <td>237000000</td>\n",
       "      <td>[{\"id\": 28, \"name\": \"Action\"}, {\"id\": 12, \"nam...</td>\n",
       "      <td>http://www.avatarmovie.com/</td>\n",
       "      <td>19995</td>\n",
       "      <td>[{\"id\": 1463, \"name\": \"culture clash\"}, {\"id\":...</td>\n",
       "      <td>en</td>\n",
       "      <td>Avatar</td>\n",
       "      <td>In the 22nd century, a paraplegic Marine is di...</td>\n",
       "      <td>150.437577</td>\n",
       "      <td>[{\"name\": \"Ingenious Film Partners\", \"id\": 289...</td>\n",
       "      <td>[{\"iso_3166_1\": \"US\", \"name\": \"United States o...</td>\n",
       "      <td>2009-12-10</td>\n",
       "      <td>2787965087</td>\n",
       "      <td>162.0</td>\n",
       "      <td>[{\"iso_639_1\": \"en\", \"name\": \"English\"}, {\"iso...</td>\n",
       "      <td>Released</td>\n",
       "      <td>Enter the World of Pandora.</td>\n",
       "      <td>Avatar</td>\n",
       "      <td>7.2</td>\n",
       "      <td>11800</td>\n",
       "    </tr>\n",
       "    <tr>\n",
       "      <th>1</th>\n",
       "      <td>300000000</td>\n",
       "      <td>[{\"id\": 12, \"name\": \"Adventure\"}, {\"id\": 14, \"...</td>\n",
       "      <td>http://disney.go.com/disneypictures/pirates/</td>\n",
       "      <td>285</td>\n",
       "      <td>[{\"id\": 270, \"name\": \"ocean\"}, {\"id\": 726, \"na...</td>\n",
       "      <td>en</td>\n",
       "      <td>Pirates of the Caribbean: At World's End</td>\n",
       "      <td>Captain Barbossa, long believed to be dead, ha...</td>\n",
       "      <td>139.082615</td>\n",
       "      <td>[{\"name\": \"Walt Disney Pictures\", \"id\": 2}, {\"...</td>\n",
       "      <td>[{\"iso_3166_1\": \"US\", \"name\": \"United States o...</td>\n",
       "      <td>2007-05-19</td>\n",
       "      <td>961000000</td>\n",
       "      <td>169.0</td>\n",
       "      <td>[{\"iso_639_1\": \"en\", \"name\": \"English\"}]</td>\n",
       "      <td>Released</td>\n",
       "      <td>At the end of the world, the adventure begins.</td>\n",
       "      <td>Pirates of the Caribbean: At World's End</td>\n",
       "      <td>6.9</td>\n",
       "      <td>4500</td>\n",
       "    </tr>\n",
       "    <tr>\n",
       "      <th>2</th>\n",
       "      <td>245000000</td>\n",
       "      <td>[{\"id\": 28, \"name\": \"Action\"}, {\"id\": 12, \"nam...</td>\n",
       "      <td>http://www.sonypictures.com/movies/spectre/</td>\n",
       "      <td>206647</td>\n",
       "      <td>[{\"id\": 470, \"name\": \"spy\"}, {\"id\": 818, \"name...</td>\n",
       "      <td>en</td>\n",
       "      <td>Spectre</td>\n",
       "      <td>A cryptic message from Bond’s past sends him o...</td>\n",
       "      <td>107.376788</td>\n",
       "      <td>[{\"name\": \"Columbia Pictures\", \"id\": 5}, {\"nam...</td>\n",
       "      <td>[{\"iso_3166_1\": \"GB\", \"name\": \"United Kingdom\"...</td>\n",
       "      <td>2015-10-26</td>\n",
       "      <td>880674609</td>\n",
       "      <td>148.0</td>\n",
       "      <td>[{\"iso_639_1\": \"fr\", \"name\": \"Fran\\u00e7ais\"},...</td>\n",
       "      <td>Released</td>\n",
       "      <td>A Plan No One Escapes</td>\n",
       "      <td>Spectre</td>\n",
       "      <td>6.3</td>\n",
       "      <td>4466</td>\n",
       "    </tr>\n",
       "    <tr>\n",
       "      <th>3</th>\n",
       "      <td>250000000</td>\n",
       "      <td>[{\"id\": 28, \"name\": \"Action\"}, {\"id\": 80, \"nam...</td>\n",
       "      <td>http://www.thedarkknightrises.com/</td>\n",
       "      <td>49026</td>\n",
       "      <td>[{\"id\": 849, \"name\": \"dc comics\"}, {\"id\": 853,...</td>\n",
       "      <td>en</td>\n",
       "      <td>The Dark Knight Rises</td>\n",
       "      <td>Following the death of District Attorney Harve...</td>\n",
       "      <td>112.312950</td>\n",
       "      <td>[{\"name\": \"Legendary Pictures\", \"id\": 923}, {\"...</td>\n",
       "      <td>[{\"iso_3166_1\": \"US\", \"name\": \"United States o...</td>\n",
       "      <td>2012-07-16</td>\n",
       "      <td>1084939099</td>\n",
       "      <td>165.0</td>\n",
       "      <td>[{\"iso_639_1\": \"en\", \"name\": \"English\"}]</td>\n",
       "      <td>Released</td>\n",
       "      <td>The Legend Ends</td>\n",
       "      <td>The Dark Knight Rises</td>\n",
       "      <td>7.6</td>\n",
       "      <td>9106</td>\n",
       "    </tr>\n",
       "    <tr>\n",
       "      <th>4</th>\n",
       "      <td>260000000</td>\n",
       "      <td>[{\"id\": 28, \"name\": \"Action\"}, {\"id\": 12, \"nam...</td>\n",
       "      <td>http://movies.disney.com/john-carter</td>\n",
       "      <td>49529</td>\n",
       "      <td>[{\"id\": 818, \"name\": \"based on novel\"}, {\"id\":...</td>\n",
       "      <td>en</td>\n",
       "      <td>John Carter</td>\n",
       "      <td>John Carter is a war-weary, former military ca...</td>\n",
       "      <td>43.926995</td>\n",
       "      <td>[{\"name\": \"Walt Disney Pictures\", \"id\": 2}]</td>\n",
       "      <td>[{\"iso_3166_1\": \"US\", \"name\": \"United States o...</td>\n",
       "      <td>2012-03-07</td>\n",
       "      <td>284139100</td>\n",
       "      <td>132.0</td>\n",
       "      <td>[{\"iso_639_1\": \"en\", \"name\": \"English\"}]</td>\n",
       "      <td>Released</td>\n",
       "      <td>Lost in our world, found in another.</td>\n",
       "      <td>John Carter</td>\n",
       "      <td>6.1</td>\n",
       "      <td>2124</td>\n",
       "    </tr>\n",
       "  </tbody>\n",
       "</table>\n",
       "</div>"
      ],
      "text/plain": [
       "      budget                                             genres  \\\n",
       "0  237000000  [{\"id\": 28, \"name\": \"Action\"}, {\"id\": 12, \"nam...   \n",
       "1  300000000  [{\"id\": 12, \"name\": \"Adventure\"}, {\"id\": 14, \"...   \n",
       "2  245000000  [{\"id\": 28, \"name\": \"Action\"}, {\"id\": 12, \"nam...   \n",
       "3  250000000  [{\"id\": 28, \"name\": \"Action\"}, {\"id\": 80, \"nam...   \n",
       "4  260000000  [{\"id\": 28, \"name\": \"Action\"}, {\"id\": 12, \"nam...   \n",
       "\n",
       "                                       homepage      id  \\\n",
       "0                   http://www.avatarmovie.com/   19995   \n",
       "1  http://disney.go.com/disneypictures/pirates/     285   \n",
       "2   http://www.sonypictures.com/movies/spectre/  206647   \n",
       "3            http://www.thedarkknightrises.com/   49026   \n",
       "4          http://movies.disney.com/john-carter   49529   \n",
       "\n",
       "                                            keywords original_language  \\\n",
       "0  [{\"id\": 1463, \"name\": \"culture clash\"}, {\"id\":...                en   \n",
       "1  [{\"id\": 270, \"name\": \"ocean\"}, {\"id\": 726, \"na...                en   \n",
       "2  [{\"id\": 470, \"name\": \"spy\"}, {\"id\": 818, \"name...                en   \n",
       "3  [{\"id\": 849, \"name\": \"dc comics\"}, {\"id\": 853,...                en   \n",
       "4  [{\"id\": 818, \"name\": \"based on novel\"}, {\"id\":...                en   \n",
       "\n",
       "                             original_title  \\\n",
       "0                                    Avatar   \n",
       "1  Pirates of the Caribbean: At World's End   \n",
       "2                                   Spectre   \n",
       "3                     The Dark Knight Rises   \n",
       "4                               John Carter   \n",
       "\n",
       "                                            overview  popularity  \\\n",
       "0  In the 22nd century, a paraplegic Marine is di...  150.437577   \n",
       "1  Captain Barbossa, long believed to be dead, ha...  139.082615   \n",
       "2  A cryptic message from Bond’s past sends him o...  107.376788   \n",
       "3  Following the death of District Attorney Harve...  112.312950   \n",
       "4  John Carter is a war-weary, former military ca...   43.926995   \n",
       "\n",
       "                                production_companies  \\\n",
       "0  [{\"name\": \"Ingenious Film Partners\", \"id\": 289...   \n",
       "1  [{\"name\": \"Walt Disney Pictures\", \"id\": 2}, {\"...   \n",
       "2  [{\"name\": \"Columbia Pictures\", \"id\": 5}, {\"nam...   \n",
       "3  [{\"name\": \"Legendary Pictures\", \"id\": 923}, {\"...   \n",
       "4        [{\"name\": \"Walt Disney Pictures\", \"id\": 2}]   \n",
       "\n",
       "                                production_countries release_date     revenue  \\\n",
       "0  [{\"iso_3166_1\": \"US\", \"name\": \"United States o...   2009-12-10  2787965087   \n",
       "1  [{\"iso_3166_1\": \"US\", \"name\": \"United States o...   2007-05-19   961000000   \n",
       "2  [{\"iso_3166_1\": \"GB\", \"name\": \"United Kingdom\"...   2015-10-26   880674609   \n",
       "3  [{\"iso_3166_1\": \"US\", \"name\": \"United States o...   2012-07-16  1084939099   \n",
       "4  [{\"iso_3166_1\": \"US\", \"name\": \"United States o...   2012-03-07   284139100   \n",
       "\n",
       "   runtime                                   spoken_languages    status  \\\n",
       "0    162.0  [{\"iso_639_1\": \"en\", \"name\": \"English\"}, {\"iso...  Released   \n",
       "1    169.0           [{\"iso_639_1\": \"en\", \"name\": \"English\"}]  Released   \n",
       "2    148.0  [{\"iso_639_1\": \"fr\", \"name\": \"Fran\\u00e7ais\"},...  Released   \n",
       "3    165.0           [{\"iso_639_1\": \"en\", \"name\": \"English\"}]  Released   \n",
       "4    132.0           [{\"iso_639_1\": \"en\", \"name\": \"English\"}]  Released   \n",
       "\n",
       "                                          tagline  \\\n",
       "0                     Enter the World of Pandora.   \n",
       "1  At the end of the world, the adventure begins.   \n",
       "2                           A Plan No One Escapes   \n",
       "3                                 The Legend Ends   \n",
       "4            Lost in our world, found in another.   \n",
       "\n",
       "                                      title  vote_average  vote_count  \n",
       "0                                    Avatar           7.2       11800  \n",
       "1  Pirates of the Caribbean: At World's End           6.9        4500  \n",
       "2                                   Spectre           6.3        4466  \n",
       "3                     The Dark Knight Rises           7.6        9106  \n",
       "4                               John Carter           6.1        2124  "
      ]
     },
     "execution_count": 3,
     "metadata": {},
     "output_type": "execute_result"
    }
   ],
   "source": [
    "movies.head()"
   ]
  },
  {
   "cell_type": "code",
   "execution_count": 4,
   "id": "9ee5cdba",
   "metadata": {
    "execution": {
     "iopub.execute_input": "2023-10-26T05:50:36.305013Z",
     "iopub.status.busy": "2023-10-26T05:50:36.304469Z",
     "iopub.status.idle": "2023-10-26T05:50:36.310214Z",
     "shell.execute_reply": "2023-10-26T05:50:36.309320Z"
    },
    "papermill": {
     "duration": 0.030529,
     "end_time": "2023-10-26T05:50:36.312019",
     "exception": false,
     "start_time": "2023-10-26T05:50:36.281490",
     "status": "completed"
    },
    "tags": []
   },
   "outputs": [
    {
     "data": {
      "text/plain": [
       "'[{\"id\": 1463, \"name\": \"culture clash\"}, {\"id\": 2964, \"name\": \"future\"}, {\"id\": 3386, \"name\": \"space war\"}, {\"id\": 3388, \"name\": \"space colony\"}, {\"id\": 3679, \"name\": \"society\"}, {\"id\": 3801, \"name\": \"space travel\"}, {\"id\": 9685, \"name\": \"futuristic\"}, {\"id\": 9840, \"name\": \"romance\"}, {\"id\": 9882, \"name\": \"space\"}, {\"id\": 9951, \"name\": \"alien\"}, {\"id\": 10148, \"name\": \"tribe\"}, {\"id\": 10158, \"name\": \"alien planet\"}, {\"id\": 10987, \"name\": \"cgi\"}, {\"id\": 11399, \"name\": \"marine\"}, {\"id\": 13065, \"name\": \"soldier\"}, {\"id\": 14643, \"name\": \"battle\"}, {\"id\": 14720, \"name\": \"love affair\"}, {\"id\": 165431, \"name\": \"anti war\"}, {\"id\": 193554, \"name\": \"power relations\"}, {\"id\": 206690, \"name\": \"mind and soul\"}, {\"id\": 209714, \"name\": \"3d\"}]'"
      ]
     },
     "execution_count": 4,
     "metadata": {},
     "output_type": "execute_result"
    }
   ],
   "source": [
    "movies[\"keywords\"][0]"
   ]
  },
  {
   "cell_type": "code",
   "execution_count": 5,
   "id": "4e79697d",
   "metadata": {
    "execution": {
     "iopub.execute_input": "2023-10-26T05:50:36.357825Z",
     "iopub.status.busy": "2023-10-26T05:50:36.357557Z",
     "iopub.status.idle": "2023-10-26T05:50:36.362674Z",
     "shell.execute_reply": "2023-10-26T05:50:36.361742Z"
    },
    "papermill": {
     "duration": 0.030382,
     "end_time": "2023-10-26T05:50:36.364620",
     "exception": false,
     "start_time": "2023-10-26T05:50:36.334238",
     "status": "completed"
    },
    "tags": []
   },
   "outputs": [
    {
     "data": {
      "text/plain": [
       "'In the 22nd century, a paraplegic Marine is dispatched to the moon Pandora on a unique mission, but becomes torn between following orders and protecting an alien civilization.'"
      ]
     },
     "execution_count": 5,
     "metadata": {},
     "output_type": "execute_result"
    }
   ],
   "source": [
    "movies[\"overview\"][0]"
   ]
  },
  {
   "cell_type": "code",
   "execution_count": 6,
   "id": "1f0e2424",
   "metadata": {
    "execution": {
     "iopub.execute_input": "2023-10-26T05:50:36.412333Z",
     "iopub.status.busy": "2023-10-26T05:50:36.412062Z",
     "iopub.status.idle": "2023-10-26T05:50:37.325629Z",
     "shell.execute_reply": "2023-10-26T05:50:37.324442Z"
    },
    "papermill": {
     "duration": 0.940476,
     "end_time": "2023-10-26T05:50:37.328218",
     "exception": false,
     "start_time": "2023-10-26T05:50:36.387742",
     "status": "completed"
    },
    "tags": []
   },
   "outputs": [],
   "source": [
    "df2=pd.read_csv(\"../input/phatdt/movie_credit.csv\")"
   ]
  },
  {
   "cell_type": "code",
   "execution_count": 7,
   "id": "4eb13435",
   "metadata": {
    "execution": {
     "iopub.execute_input": "2023-10-26T05:50:37.380030Z",
     "iopub.status.busy": "2023-10-26T05:50:37.379705Z",
     "iopub.status.idle": "2023-10-26T05:50:37.390600Z",
     "shell.execute_reply": "2023-10-26T05:50:37.389705Z"
    },
    "papermill": {
     "duration": 0.038738,
     "end_time": "2023-10-26T05:50:37.392555",
     "exception": false,
     "start_time": "2023-10-26T05:50:37.353817",
     "status": "completed"
    },
    "tags": []
   },
   "outputs": [
    {
     "data": {
      "text/html": [
       "<div>\n",
       "<style scoped>\n",
       "    .dataframe tbody tr th:only-of-type {\n",
       "        vertical-align: middle;\n",
       "    }\n",
       "\n",
       "    .dataframe tbody tr th {\n",
       "        vertical-align: top;\n",
       "    }\n",
       "\n",
       "    .dataframe thead th {\n",
       "        text-align: right;\n",
       "    }\n",
       "</style>\n",
       "<table border=\"1\" class=\"dataframe\">\n",
       "  <thead>\n",
       "    <tr style=\"text-align: right;\">\n",
       "      <th></th>\n",
       "      <th>movie_id</th>\n",
       "      <th>title</th>\n",
       "      <th>cast</th>\n",
       "      <th>crew</th>\n",
       "    </tr>\n",
       "  </thead>\n",
       "  <tbody>\n",
       "    <tr>\n",
       "      <th>0</th>\n",
       "      <td>19995</td>\n",
       "      <td>Avatar</td>\n",
       "      <td>[{\"cast_id\": 242, \"character\": \"Jake Sully\", \"...</td>\n",
       "      <td>[{\"credit_id\": \"52fe48009251416c750aca23\", \"de...</td>\n",
       "    </tr>\n",
       "    <tr>\n",
       "      <th>1</th>\n",
       "      <td>285</td>\n",
       "      <td>Pirates of the Caribbean: At World's End</td>\n",
       "      <td>[{\"cast_id\": 4, \"character\": \"Captain Jack Spa...</td>\n",
       "      <td>[{\"credit_id\": \"52fe4232c3a36847f800b579\", \"de...</td>\n",
       "    </tr>\n",
       "    <tr>\n",
       "      <th>2</th>\n",
       "      <td>206647</td>\n",
       "      <td>Spectre</td>\n",
       "      <td>[{\"cast_id\": 1, \"character\": \"James Bond\", \"cr...</td>\n",
       "      <td>[{\"credit_id\": \"54805967c3a36829b5002c41\", \"de...</td>\n",
       "    </tr>\n",
       "    <tr>\n",
       "      <th>3</th>\n",
       "      <td>49026</td>\n",
       "      <td>The Dark Knight Rises</td>\n",
       "      <td>[{\"cast_id\": 2, \"character\": \"Bruce Wayne / Ba...</td>\n",
       "      <td>[{\"credit_id\": \"52fe4781c3a36847f81398c3\", \"de...</td>\n",
       "    </tr>\n",
       "    <tr>\n",
       "      <th>4</th>\n",
       "      <td>49529</td>\n",
       "      <td>John Carter</td>\n",
       "      <td>[{\"cast_id\": 5, \"character\": \"John Carter\", \"c...</td>\n",
       "      <td>[{\"credit_id\": \"52fe479ac3a36847f813eaa3\", \"de...</td>\n",
       "    </tr>\n",
       "  </tbody>\n",
       "</table>\n",
       "</div>"
      ],
      "text/plain": [
       "   movie_id                                     title  \\\n",
       "0     19995                                    Avatar   \n",
       "1       285  Pirates of the Caribbean: At World's End   \n",
       "2    206647                                   Spectre   \n",
       "3     49026                     The Dark Knight Rises   \n",
       "4     49529                               John Carter   \n",
       "\n",
       "                                                cast  \\\n",
       "0  [{\"cast_id\": 242, \"character\": \"Jake Sully\", \"...   \n",
       "1  [{\"cast_id\": 4, \"character\": \"Captain Jack Spa...   \n",
       "2  [{\"cast_id\": 1, \"character\": \"James Bond\", \"cr...   \n",
       "3  [{\"cast_id\": 2, \"character\": \"Bruce Wayne / Ba...   \n",
       "4  [{\"cast_id\": 5, \"character\": \"John Carter\", \"c...   \n",
       "\n",
       "                                                crew  \n",
       "0  [{\"credit_id\": \"52fe48009251416c750aca23\", \"de...  \n",
       "1  [{\"credit_id\": \"52fe4232c3a36847f800b579\", \"de...  \n",
       "2  [{\"credit_id\": \"54805967c3a36829b5002c41\", \"de...  \n",
       "3  [{\"credit_id\": \"52fe4781c3a36847f81398c3\", \"de...  \n",
       "4  [{\"credit_id\": \"52fe479ac3a36847f813eaa3\", \"de...  "
      ]
     },
     "execution_count": 7,
     "metadata": {},
     "output_type": "execute_result"
    }
   ],
   "source": [
    "df2.head()"
   ]
  },
  {
   "cell_type": "code",
   "execution_count": 8,
   "id": "1971db87",
   "metadata": {
    "execution": {
     "iopub.execute_input": "2023-10-26T05:50:37.439055Z",
     "iopub.status.busy": "2023-10-26T05:50:37.438641Z",
     "iopub.status.idle": "2023-10-26T05:50:37.447014Z",
     "shell.execute_reply": "2023-10-26T05:50:37.446112Z"
    },
    "papermill": {
     "duration": 0.034504,
     "end_time": "2023-10-26T05:50:37.449320",
     "exception": false,
     "start_time": "2023-10-26T05:50:37.414816",
     "status": "completed"
    },
    "tags": []
   },
   "outputs": [
    {
     "data": {
      "text/plain": [
       "0       [{\"cast_id\": 242, \"character\": \"Jake Sully\", \"...\n",
       "1       [{\"cast_id\": 4, \"character\": \"Captain Jack Spa...\n",
       "2       [{\"cast_id\": 1, \"character\": \"James Bond\", \"cr...\n",
       "3       [{\"cast_id\": 2, \"character\": \"Bruce Wayne / Ba...\n",
       "4       [{\"cast_id\": 5, \"character\": \"John Carter\", \"c...\n",
       "                              ...                        \n",
       "4798    [{\"cast_id\": 1, \"character\": \"El Mariachi\", \"c...\n",
       "4799    [{\"cast_id\": 1, \"character\": \"Buzzy\", \"credit_...\n",
       "4800    [{\"cast_id\": 8, \"character\": \"Oliver O\\u2019To...\n",
       "4801    [{\"cast_id\": 3, \"character\": \"Sam\", \"credit_id...\n",
       "4802    [{\"cast_id\": 3, \"character\": \"Herself\", \"credi...\n",
       "Name: cast, Length: 4803, dtype: object"
      ]
     },
     "execution_count": 8,
     "metadata": {},
     "output_type": "execute_result"
    }
   ],
   "source": [
    "df2[\"cast\"]"
   ]
  },
  {
   "cell_type": "code",
   "execution_count": 9,
   "id": "fea8c80b",
   "metadata": {
    "execution": {
     "iopub.execute_input": "2023-10-26T05:50:37.539920Z",
     "iopub.status.busy": "2023-10-26T05:50:37.539594Z",
     "iopub.status.idle": "2023-10-26T05:50:37.566194Z",
     "shell.execute_reply": "2023-10-26T05:50:37.565264Z"
    },
    "papermill": {
     "duration": 0.096364,
     "end_time": "2023-10-26T05:50:37.568366",
     "exception": false,
     "start_time": "2023-10-26T05:50:37.472002",
     "status": "completed"
    },
    "tags": []
   },
   "outputs": [],
   "source": [
    "movies=movies.merge(df2,on=\"title\")"
   ]
  },
  {
   "cell_type": "code",
   "execution_count": 10,
   "id": "547891ca",
   "metadata": {
    "execution": {
     "iopub.execute_input": "2023-10-26T05:50:37.617150Z",
     "iopub.status.busy": "2023-10-26T05:50:37.616323Z",
     "iopub.status.idle": "2023-10-26T05:50:37.641467Z",
     "shell.execute_reply": "2023-10-26T05:50:37.639972Z"
    },
    "papermill": {
     "duration": 0.051363,
     "end_time": "2023-10-26T05:50:37.643538",
     "exception": false,
     "start_time": "2023-10-26T05:50:37.592175",
     "status": "completed"
    },
    "tags": []
   },
   "outputs": [
    {
     "name": "stdout",
     "output_type": "stream",
     "text": [
      "<class 'pandas.core.frame.DataFrame'>\n",
      "RangeIndex: 4809 entries, 0 to 4808\n",
      "Data columns (total 23 columns):\n",
      " #   Column                Non-Null Count  Dtype  \n",
      "---  ------                --------------  -----  \n",
      " 0   budget                4809 non-null   int64  \n",
      " 1   genres                4809 non-null   object \n",
      " 2   homepage              1713 non-null   object \n",
      " 3   id                    4809 non-null   int64  \n",
      " 4   keywords              4809 non-null   object \n",
      " 5   original_language     4809 non-null   object \n",
      " 6   original_title        4809 non-null   object \n",
      " 7   overview              4806 non-null   object \n",
      " 8   popularity            4809 non-null   float64\n",
      " 9   production_companies  4809 non-null   object \n",
      " 10  production_countries  4809 non-null   object \n",
      " 11  release_date          4808 non-null   object \n",
      " 12  revenue               4809 non-null   int64  \n",
      " 13  runtime               4807 non-null   float64\n",
      " 14  spoken_languages      4809 non-null   object \n",
      " 15  status                4809 non-null   object \n",
      " 16  tagline               3965 non-null   object \n",
      " 17  title                 4809 non-null   object \n",
      " 18  vote_average          4809 non-null   float64\n",
      " 19  vote_count            4809 non-null   int64  \n",
      " 20  movie_id              4809 non-null   int64  \n",
      " 21  cast                  4809 non-null   object \n",
      " 22  crew                  4809 non-null   object \n",
      "dtypes: float64(3), int64(5), object(15)\n",
      "memory usage: 864.2+ KB\n"
     ]
    }
   ],
   "source": [
    "movies.info()"
   ]
  },
  {
   "cell_type": "code",
   "execution_count": 11,
   "id": "5a7c4711",
   "metadata": {
    "execution": {
     "iopub.execute_input": "2023-10-26T05:50:37.691006Z",
     "iopub.status.busy": "2023-10-26T05:50:37.690256Z",
     "iopub.status.idle": "2023-10-26T05:50:37.694410Z",
     "shell.execute_reply": "2023-10-26T05:50:37.693523Z"
    },
    "papermill": {
     "duration": 0.030013,
     "end_time": "2023-10-26T05:50:37.696391",
     "exception": false,
     "start_time": "2023-10-26T05:50:37.666378",
     "status": "completed"
    },
    "tags": []
   },
   "outputs": [],
   "source": [
    "# extract hero names and director name from credit csv"
   ]
  },
  {
   "cell_type": "code",
   "execution_count": 12,
   "id": "30bcd315",
   "metadata": {
    "execution": {
     "iopub.execute_input": "2023-10-26T05:50:37.743498Z",
     "iopub.status.busy": "2023-10-26T05:50:37.743219Z",
     "iopub.status.idle": "2023-10-26T05:50:37.747785Z",
     "shell.execute_reply": "2023-10-26T05:50:37.746872Z"
    },
    "papermill": {
     "duration": 0.030055,
     "end_time": "2023-10-26T05:50:37.749645",
     "exception": false,
     "start_time": "2023-10-26T05:50:37.719590",
     "status": "completed"
    },
    "tags": []
   },
   "outputs": [],
   "source": [
    "import ast\n",
    "def str_list(x):\n",
    "  x=ast.literal_eval(x)\n",
    "  l=[]\n",
    "  for item in x:\n",
    "\n",
    "    l.append(item['name'])\n",
    "  \n",
    "  return l"
   ]
  },
  {
   "cell_type": "code",
   "execution_count": 13,
   "id": "9337581c",
   "metadata": {
    "execution": {
     "iopub.execute_input": "2023-10-26T05:50:37.798503Z",
     "iopub.status.busy": "2023-10-26T05:50:37.798181Z",
     "iopub.status.idle": "2023-10-26T05:50:41.287105Z",
     "shell.execute_reply": "2023-10-26T05:50:41.286368Z"
    },
    "papermill": {
     "duration": 3.516523,
     "end_time": "2023-10-26T05:50:41.289284",
     "exception": false,
     "start_time": "2023-10-26T05:50:37.772761",
     "status": "completed"
    },
    "tags": []
   },
   "outputs": [],
   "source": [
    "movies[\"cast\"]=movies[\"cast\"].apply(str_list)"
   ]
  },
  {
   "cell_type": "code",
   "execution_count": 14,
   "id": "61642bd0",
   "metadata": {
    "execution": {
     "iopub.execute_input": "2023-10-26T05:50:41.342775Z",
     "iopub.status.busy": "2023-10-26T05:50:41.342022Z",
     "iopub.status.idle": "2023-10-26T05:50:41.347221Z",
     "shell.execute_reply": "2023-10-26T05:50:41.346337Z"
    },
    "papermill": {
     "duration": 0.032211,
     "end_time": "2023-10-26T05:50:41.349152",
     "exception": false,
     "start_time": "2023-10-26T05:50:41.316941",
     "status": "completed"
    },
    "tags": []
   },
   "outputs": [],
   "source": [
    "import ast\n",
    "def str2_list(x):\n",
    "  x=ast.literal_eval(x)\n",
    "  l=[]\n",
    "  for item in x:\n",
    "    if item['job']==\"Director\":\n",
    "      l.append(item['name'])\n",
    "  \n",
    "  return l"
   ]
  },
  {
   "cell_type": "code",
   "execution_count": 15,
   "id": "0a725234",
   "metadata": {
    "execution": {
     "iopub.execute_input": "2023-10-26T05:50:41.400546Z",
     "iopub.status.busy": "2023-10-26T05:50:41.399915Z",
     "iopub.status.idle": "2023-10-26T05:50:45.394709Z",
     "shell.execute_reply": "2023-10-26T05:50:45.393860Z"
    },
    "papermill": {
     "duration": 4.02327,
     "end_time": "2023-10-26T05:50:45.397190",
     "exception": false,
     "start_time": "2023-10-26T05:50:41.373920",
     "status": "completed"
    },
    "tags": []
   },
   "outputs": [],
   "source": [
    "movies[\"crew\"]=movies[\"crew\"].apply(str2_list)"
   ]
  },
  {
   "cell_type": "code",
   "execution_count": 16,
   "id": "489e0454",
   "metadata": {
    "execution": {
     "iopub.execute_input": "2023-10-26T05:50:45.450394Z",
     "iopub.status.busy": "2023-10-26T05:50:45.450060Z",
     "iopub.status.idle": "2023-10-26T05:50:45.461645Z",
     "shell.execute_reply": "2023-10-26T05:50:45.460704Z"
    },
    "papermill": {
     "duration": 0.04059,
     "end_time": "2023-10-26T05:50:45.463788",
     "exception": false,
     "start_time": "2023-10-26T05:50:45.423198",
     "status": "completed"
    },
    "tags": []
   },
   "outputs": [
    {
     "data": {
      "text/plain": [
       "0       [Sam Worthington, Zoe Saldana, Sigourney Weave...\n",
       "1       [Johnny Depp, Orlando Bloom, Keira Knightley, ...\n",
       "2       [Daniel Craig, Christoph Waltz, Léa Seydoux, R...\n",
       "3       [Christian Bale, Michael Caine, Gary Oldman, A...\n",
       "4       [Taylor Kitsch, Lynn Collins, Samantha Morton,...\n",
       "                              ...                        \n",
       "4804    [Carlos Gallardo, Jaime de Hoyos, Peter Marqua...\n",
       "4805    [Edward Burns, Kerry Bishé, Marsha Dietlein, C...\n",
       "4806    [Eric Mabius, Kristin Booth, Crystal Lowe, Geo...\n",
       "4807    [Daniel Henney, Eliza Coupe, Bill Paxton, Alan...\n",
       "4808    [Drew Barrymore, Brian Herzlinger, Corey Feldm...\n",
       "Name: cast, Length: 4809, dtype: object"
      ]
     },
     "execution_count": 16,
     "metadata": {},
     "output_type": "execute_result"
    }
   ],
   "source": [
    "movies[\"cast\"]"
   ]
  },
  {
   "cell_type": "code",
   "execution_count": 17,
   "id": "4205b8dd",
   "metadata": {
    "execution": {
     "iopub.execute_input": "2023-10-26T05:50:45.515864Z",
     "iopub.status.busy": "2023-10-26T05:50:45.515194Z",
     "iopub.status.idle": "2023-10-26T05:50:45.524281Z",
     "shell.execute_reply": "2023-10-26T05:50:45.523578Z"
    },
    "papermill": {
     "duration": 0.037288,
     "end_time": "2023-10-26T05:50:45.526184",
     "exception": false,
     "start_time": "2023-10-26T05:50:45.488896",
     "status": "completed"
    },
    "tags": []
   },
   "outputs": [
    {
     "data": {
      "text/plain": [
       "0                                [James Cameron]\n",
       "1                               [Gore Verbinski]\n",
       "2                                   [Sam Mendes]\n",
       "3                            [Christopher Nolan]\n",
       "4                               [Andrew Stanton]\n",
       "                          ...                   \n",
       "4804                          [Robert Rodriguez]\n",
       "4805                              [Edward Burns]\n",
       "4806                               [Scott Smith]\n",
       "4807                               [Daniel Hsia]\n",
       "4808    [Brian Herzlinger, Jon Gunn, Brett Winn]\n",
       "Name: crew, Length: 4809, dtype: object"
      ]
     },
     "execution_count": 17,
     "metadata": {},
     "output_type": "execute_result"
    }
   ],
   "source": [
    "movies[\"crew\"]"
   ]
  },
  {
   "cell_type": "code",
   "execution_count": 18,
   "id": "a12c7e39",
   "metadata": {
    "execution": {
     "iopub.execute_input": "2023-10-26T05:50:45.576070Z",
     "iopub.status.busy": "2023-10-26T05:50:45.575740Z",
     "iopub.status.idle": "2023-10-26T05:50:46.235643Z",
     "shell.execute_reply": "2023-10-26T05:50:46.234666Z"
    },
    "papermill": {
     "duration": 0.688204,
     "end_time": "2023-10-26T05:50:46.237966",
     "exception": false,
     "start_time": "2023-10-26T05:50:45.549762",
     "status": "completed"
    },
    "tags": []
   },
   "outputs": [],
   "source": [
    "movies[\"genres\"]=movies['genres'].apply(str_list)\n",
    "movies[\"keywords\"]=movies['keywords'].apply(str_list)"
   ]
  },
  {
   "cell_type": "code",
   "execution_count": 19,
   "id": "86677fdf",
   "metadata": {
    "execution": {
     "iopub.execute_input": "2023-10-26T05:50:46.287683Z",
     "iopub.status.busy": "2023-10-26T05:50:46.287319Z",
     "iopub.status.idle": "2023-10-26T05:50:46.304036Z",
     "shell.execute_reply": "2023-10-26T05:50:46.303189Z"
    },
    "papermill": {
     "duration": 0.044586,
     "end_time": "2023-10-26T05:50:46.306895",
     "exception": false,
     "start_time": "2023-10-26T05:50:46.262309",
     "status": "completed"
    },
    "tags": []
   },
   "outputs": [
    {
     "data": {
      "text/plain": [
       "budget                     0\n",
       "genres                     0\n",
       "homepage                3096\n",
       "id                         0\n",
       "keywords                   0\n",
       "original_language          0\n",
       "original_title             0\n",
       "overview                   3\n",
       "popularity                 0\n",
       "production_companies       0\n",
       "production_countries       0\n",
       "release_date               1\n",
       "revenue                    0\n",
       "runtime                    2\n",
       "spoken_languages           0\n",
       "status                     0\n",
       "tagline                  844\n",
       "title                      0\n",
       "vote_average               0\n",
       "vote_count                 0\n",
       "movie_id                   0\n",
       "cast                       0\n",
       "crew                       0\n",
       "dtype: int64"
      ]
     },
     "execution_count": 19,
     "metadata": {},
     "output_type": "execute_result"
    }
   ],
   "source": [
    "movies.isna().sum()"
   ]
  },
  {
   "cell_type": "code",
   "execution_count": 20,
   "id": "37fa0683",
   "metadata": {
    "execution": {
     "iopub.execute_input": "2023-10-26T05:50:46.366087Z",
     "iopub.status.busy": "2023-10-26T05:50:46.365421Z",
     "iopub.status.idle": "2023-10-26T05:50:46.395144Z",
     "shell.execute_reply": "2023-10-26T05:50:46.394484Z"
    },
    "papermill": {
     "duration": 0.059584,
     "end_time": "2023-10-26T05:50:46.396969",
     "exception": false,
     "start_time": "2023-10-26T05:50:46.337385",
     "status": "completed"
    },
    "tags": []
   },
   "outputs": [
    {
     "data": {
      "text/html": [
       "<div>\n",
       "<style scoped>\n",
       "    .dataframe tbody tr th:only-of-type {\n",
       "        vertical-align: middle;\n",
       "    }\n",
       "\n",
       "    .dataframe tbody tr th {\n",
       "        vertical-align: top;\n",
       "    }\n",
       "\n",
       "    .dataframe thead th {\n",
       "        text-align: right;\n",
       "    }\n",
       "</style>\n",
       "<table border=\"1\" class=\"dataframe\">\n",
       "  <thead>\n",
       "    <tr style=\"text-align: right;\">\n",
       "      <th></th>\n",
       "      <th>budget</th>\n",
       "      <th>genres</th>\n",
       "      <th>homepage</th>\n",
       "      <th>id</th>\n",
       "      <th>keywords</th>\n",
       "      <th>original_language</th>\n",
       "      <th>original_title</th>\n",
       "      <th>overview</th>\n",
       "      <th>popularity</th>\n",
       "      <th>production_companies</th>\n",
       "      <th>...</th>\n",
       "      <th>runtime</th>\n",
       "      <th>spoken_languages</th>\n",
       "      <th>status</th>\n",
       "      <th>tagline</th>\n",
       "      <th>title</th>\n",
       "      <th>vote_average</th>\n",
       "      <th>vote_count</th>\n",
       "      <th>movie_id</th>\n",
       "      <th>cast</th>\n",
       "      <th>crew</th>\n",
       "    </tr>\n",
       "  </thead>\n",
       "  <tbody>\n",
       "    <tr>\n",
       "      <th>2175</th>\n",
       "      <td>20000000</td>\n",
       "      <td>[Action, Drama, Fantasy, Horror, Thriller]</td>\n",
       "      <td>http://www.theofficialjohncarpenter.com/vampires/</td>\n",
       "      <td>9945</td>\n",
       "      <td>[based on novel, new mexico, party, vampire hu...</td>\n",
       "      <td>en</td>\n",
       "      <td>Vampires</td>\n",
       "      <td>The church enlists a team of vampire-hunters t...</td>\n",
       "      <td>17.016284</td>\n",
       "      <td>[{\"name\": \"Columbia Pictures\", \"id\": 5}, {\"nam...</td>\n",
       "      <td>...</td>\n",
       "      <td>108.0</td>\n",
       "      <td>[{\"iso_639_1\": \"en\", \"name\": \"English\"}, {\"iso...</td>\n",
       "      <td>Released</td>\n",
       "      <td>From the Master of Evil. Comes a New Breed of ...</td>\n",
       "      <td>Vampires</td>\n",
       "      <td>5.8</td>\n",
       "      <td>255</td>\n",
       "      <td>9945</td>\n",
       "      <td>[James Woods, Daniel Baldwin, Sheryl Lee, Thom...</td>\n",
       "      <td>[John Carpenter]</td>\n",
       "    </tr>\n",
       "    <tr>\n",
       "      <th>3519</th>\n",
       "      <td>4000000</td>\n",
       "      <td>[Drama, History, War]</td>\n",
       "      <td>http://www.sonyclassics.com/winterinwartime/</td>\n",
       "      <td>16564</td>\n",
       "      <td>[netherlands, world war ii]</td>\n",
       "      <td>nl</td>\n",
       "      <td>Oorlogswinter</td>\n",
       "      <td>During World War II in the freezing Netherland...</td>\n",
       "      <td>5.013575</td>\n",
       "      <td>[{\"name\": \"Max TV\", \"id\": 11301}, {\"name\": \"Pr...</td>\n",
       "      <td>...</td>\n",
       "      <td>103.0</td>\n",
       "      <td>[{\"iso_639_1\": \"nl\", \"name\": \"Nederlands\"}, {\"...</td>\n",
       "      <td>Released</td>\n",
       "      <td>In 1945 Holland, a boy must choose between goo...</td>\n",
       "      <td>Winter in Wartime</td>\n",
       "      <td>6.8</td>\n",
       "      <td>66</td>\n",
       "      <td>16564</td>\n",
       "      <td>[Martijn Lakemeier, Melody Klaver, Yorick van ...</td>\n",
       "      <td>[Martin Koolhoven]</td>\n",
       "    </tr>\n",
       "    <tr>\n",
       "      <th>4231</th>\n",
       "      <td>1500000</td>\n",
       "      <td>[Horror, Thriller]</td>\n",
       "      <td>http://www.insidious-movie.com/</td>\n",
       "      <td>49018</td>\n",
       "      <td>[medium, evil spirit, house warming, aftercred...</td>\n",
       "      <td>en</td>\n",
       "      <td>Insidious</td>\n",
       "      <td>A family discovers that dark spirits have inva...</td>\n",
       "      <td>58.594852</td>\n",
       "      <td>[{\"name\": \"Alliance Films\", \"id\": 2514}, {\"nam...</td>\n",
       "      <td>...</td>\n",
       "      <td>103.0</td>\n",
       "      <td>[{\"iso_639_1\": \"en\", \"name\": \"English\"}]</td>\n",
       "      <td>Released</td>\n",
       "      <td>It's not the house that's haunted.</td>\n",
       "      <td>Insidious</td>\n",
       "      <td>6.8</td>\n",
       "      <td>1737</td>\n",
       "      <td>49018</td>\n",
       "      <td>[Patrick Wilson, Rose Byrne, Ty Simpkins, Barb...</td>\n",
       "      <td>[James Wan]</td>\n",
       "    </tr>\n",
       "    <tr>\n",
       "      <th>1519</th>\n",
       "      <td>32000000</td>\n",
       "      <td>[Action, Thriller, Crime]</td>\n",
       "      <td>NaN</td>\n",
       "      <td>9335</td>\n",
       "      <td>[martial arts, war on drugs, kidnapping, bodyg...</td>\n",
       "      <td>en</td>\n",
       "      <td>Transporter 2</td>\n",
       "      <td>Professional driver Frank Martin is living in ...</td>\n",
       "      <td>47.561200</td>\n",
       "      <td>[{\"name\": \"Canal Plus\", \"id\": 104}, {\"name\": \"...</td>\n",
       "      <td>...</td>\n",
       "      <td>87.0</td>\n",
       "      <td>[{\"iso_639_1\": \"en\", \"name\": \"English\"}, {\"iso...</td>\n",
       "      <td>Released</td>\n",
       "      <td>The Best In The Business Is Back In The Game.</td>\n",
       "      <td>Transporter 2</td>\n",
       "      <td>6.2</td>\n",
       "      <td>1061</td>\n",
       "      <td>9335</td>\n",
       "      <td>[Jason Statham, Amber Valletta, Kate Nauta, Al...</td>\n",
       "      <td>[Louis Leterrier]</td>\n",
       "    </tr>\n",
       "    <tr>\n",
       "      <th>4476</th>\n",
       "      <td>750000</td>\n",
       "      <td>[Comedy, Romance, Science Fiction, Drama]</td>\n",
       "      <td>NaN</td>\n",
       "      <td>84332</td>\n",
       "      <td>[time travel]</td>\n",
       "      <td>en</td>\n",
       "      <td>Safety Not Guaranteed</td>\n",
       "      <td>Three magazine employees head out on an assign...</td>\n",
       "      <td>25.186002</td>\n",
       "      <td>[{\"name\": \"Duplass Brothers Productions\", \"id\"...</td>\n",
       "      <td>...</td>\n",
       "      <td>85.0</td>\n",
       "      <td>[{\"iso_639_1\": \"en\", \"name\": \"English\"}]</td>\n",
       "      <td>Released</td>\n",
       "      <td>What would you go back for?</td>\n",
       "      <td>Safety Not Guaranteed</td>\n",
       "      <td>6.8</td>\n",
       "      <td>556</td>\n",
       "      <td>84332</td>\n",
       "      <td>[Aubrey Plaza, Mark Duplass, Jake Johnson, Kar...</td>\n",
       "      <td>[Colin Trevorrow]</td>\n",
       "    </tr>\n",
       "  </tbody>\n",
       "</table>\n",
       "<p>5 rows × 23 columns</p>\n",
       "</div>"
      ],
      "text/plain": [
       "        budget                                      genres  \\\n",
       "2175  20000000  [Action, Drama, Fantasy, Horror, Thriller]   \n",
       "3519   4000000                       [Drama, History, War]   \n",
       "4231   1500000                          [Horror, Thriller]   \n",
       "1519  32000000                   [Action, Thriller, Crime]   \n",
       "4476    750000   [Comedy, Romance, Science Fiction, Drama]   \n",
       "\n",
       "                                               homepage     id  \\\n",
       "2175  http://www.theofficialjohncarpenter.com/vampires/   9945   \n",
       "3519       http://www.sonyclassics.com/winterinwartime/  16564   \n",
       "4231                    http://www.insidious-movie.com/  49018   \n",
       "1519                                                NaN   9335   \n",
       "4476                                                NaN  84332   \n",
       "\n",
       "                                               keywords original_language  \\\n",
       "2175  [based on novel, new mexico, party, vampire hu...                en   \n",
       "3519                        [netherlands, world war ii]                nl   \n",
       "4231  [medium, evil spirit, house warming, aftercred...                en   \n",
       "1519  [martial arts, war on drugs, kidnapping, bodyg...                en   \n",
       "4476                                      [time travel]                en   \n",
       "\n",
       "             original_title  \\\n",
       "2175               Vampires   \n",
       "3519          Oorlogswinter   \n",
       "4231              Insidious   \n",
       "1519          Transporter 2   \n",
       "4476  Safety Not Guaranteed   \n",
       "\n",
       "                                               overview  popularity  \\\n",
       "2175  The church enlists a team of vampire-hunters t...   17.016284   \n",
       "3519  During World War II in the freezing Netherland...    5.013575   \n",
       "4231  A family discovers that dark spirits have inva...   58.594852   \n",
       "1519  Professional driver Frank Martin is living in ...   47.561200   \n",
       "4476  Three magazine employees head out on an assign...   25.186002   \n",
       "\n",
       "                                   production_companies  ... runtime  \\\n",
       "2175  [{\"name\": \"Columbia Pictures\", \"id\": 5}, {\"nam...  ...   108.0   \n",
       "3519  [{\"name\": \"Max TV\", \"id\": 11301}, {\"name\": \"Pr...  ...   103.0   \n",
       "4231  [{\"name\": \"Alliance Films\", \"id\": 2514}, {\"nam...  ...   103.0   \n",
       "1519  [{\"name\": \"Canal Plus\", \"id\": 104}, {\"name\": \"...  ...    87.0   \n",
       "4476  [{\"name\": \"Duplass Brothers Productions\", \"id\"...  ...    85.0   \n",
       "\n",
       "                                       spoken_languages    status  \\\n",
       "2175  [{\"iso_639_1\": \"en\", \"name\": \"English\"}, {\"iso...  Released   \n",
       "3519  [{\"iso_639_1\": \"nl\", \"name\": \"Nederlands\"}, {\"...  Released   \n",
       "4231           [{\"iso_639_1\": \"en\", \"name\": \"English\"}]  Released   \n",
       "1519  [{\"iso_639_1\": \"en\", \"name\": \"English\"}, {\"iso...  Released   \n",
       "4476           [{\"iso_639_1\": \"en\", \"name\": \"English\"}]  Released   \n",
       "\n",
       "                                                tagline  \\\n",
       "2175  From the Master of Evil. Comes a New Breed of ...   \n",
       "3519  In 1945 Holland, a boy must choose between goo...   \n",
       "4231                 It's not the house that's haunted.   \n",
       "1519      The Best In The Business Is Back In The Game.   \n",
       "4476                        What would you go back for?   \n",
       "\n",
       "                      title vote_average vote_count movie_id  \\\n",
       "2175               Vampires          5.8        255     9945   \n",
       "3519      Winter in Wartime          6.8         66    16564   \n",
       "4231              Insidious          6.8       1737    49018   \n",
       "1519          Transporter 2          6.2       1061     9335   \n",
       "4476  Safety Not Guaranteed          6.8        556    84332   \n",
       "\n",
       "                                                   cast                crew  \n",
       "2175  [James Woods, Daniel Baldwin, Sheryl Lee, Thom...    [John Carpenter]  \n",
       "3519  [Martijn Lakemeier, Melody Klaver, Yorick van ...  [Martin Koolhoven]  \n",
       "4231  [Patrick Wilson, Rose Byrne, Ty Simpkins, Barb...         [James Wan]  \n",
       "1519  [Jason Statham, Amber Valletta, Kate Nauta, Al...   [Louis Leterrier]  \n",
       "4476  [Aubrey Plaza, Mark Duplass, Jake Johnson, Kar...   [Colin Trevorrow]  \n",
       "\n",
       "[5 rows x 23 columns]"
      ]
     },
     "execution_count": 20,
     "metadata": {},
     "output_type": "execute_result"
    }
   ],
   "source": [
    "movies.sample(5)"
   ]
  },
  {
   "cell_type": "code",
   "execution_count": 21,
   "id": "81f00270",
   "metadata": {
    "execution": {
     "iopub.execute_input": "2023-10-26T05:50:46.453156Z",
     "iopub.status.busy": "2023-10-26T05:50:46.452113Z",
     "iopub.status.idle": "2023-10-26T05:50:46.457497Z",
     "shell.execute_reply": "2023-10-26T05:50:46.456612Z"
    },
    "papermill": {
     "duration": 0.035273,
     "end_time": "2023-10-26T05:50:46.459679",
     "exception": false,
     "start_time": "2023-10-26T05:50:46.424406",
     "status": "completed"
    },
    "tags": []
   },
   "outputs": [],
   "source": [
    "# removing space \n",
    "def _join(x):\n",
    "  l=[]\n",
    "  for i in x:\n",
    "    l.append(i.replace(\" \",\"\"))\n",
    "  return l\n",
    "     "
   ]
  },
  {
   "cell_type": "code",
   "execution_count": 22,
   "id": "0ddf4389",
   "metadata": {
    "execution": {
     "iopub.execute_input": "2023-10-26T05:50:46.512752Z",
     "iopub.status.busy": "2023-10-26T05:50:46.512367Z",
     "iopub.status.idle": "2023-10-26T05:50:46.564880Z",
     "shell.execute_reply": "2023-10-26T05:50:46.563888Z"
    },
    "papermill": {
     "duration": 0.081594,
     "end_time": "2023-10-26T05:50:46.567248",
     "exception": false,
     "start_time": "2023-10-26T05:50:46.485654",
     "status": "completed"
    },
    "tags": []
   },
   "outputs": [],
   "source": [
    "movies[\"cast\"]=movies[\"cast\"].apply(_join)"
   ]
  },
  {
   "cell_type": "code",
   "execution_count": 23,
   "id": "2820298f",
   "metadata": {
    "execution": {
     "iopub.execute_input": "2023-10-26T05:50:46.621686Z",
     "iopub.status.busy": "2023-10-26T05:50:46.621347Z",
     "iopub.status.idle": "2023-10-26T05:50:46.632055Z",
     "shell.execute_reply": "2023-10-26T05:50:46.631033Z"
    },
    "papermill": {
     "duration": 0.040099,
     "end_time": "2023-10-26T05:50:46.634372",
     "exception": false,
     "start_time": "2023-10-26T05:50:46.594273",
     "status": "completed"
    },
    "tags": []
   },
   "outputs": [],
   "source": [
    "movies[\"cast\"]=movies[\"cast\"].apply(lambda i:i[0:3])"
   ]
  },
  {
   "cell_type": "code",
   "execution_count": 24,
   "id": "a423957c",
   "metadata": {
    "execution": {
     "iopub.execute_input": "2023-10-26T05:50:46.686114Z",
     "iopub.status.busy": "2023-10-26T05:50:46.685791Z",
     "iopub.status.idle": "2023-10-26T05:50:46.695680Z",
     "shell.execute_reply": "2023-10-26T05:50:46.694042Z"
    },
    "papermill": {
     "duration": 0.038172,
     "end_time": "2023-10-26T05:50:46.697597",
     "exception": false,
     "start_time": "2023-10-26T05:50:46.659425",
     "status": "completed"
    },
    "tags": []
   },
   "outputs": [
    {
     "data": {
      "text/plain": [
       "0        [SamWorthington, ZoeSaldana, SigourneyWeaver]\n",
       "1           [JohnnyDepp, OrlandoBloom, KeiraKnightley]\n",
       "2            [DanielCraig, ChristophWaltz, LéaSeydoux]\n",
       "3            [ChristianBale, MichaelCaine, GaryOldman]\n",
       "4          [TaylorKitsch, LynnCollins, SamanthaMorton]\n",
       "                             ...                      \n",
       "4804    [CarlosGallardo, JaimedeHoyos, PeterMarquardt]\n",
       "4805         [EdwardBurns, KerryBishé, MarshaDietlein]\n",
       "4806           [EricMabius, KristinBooth, CrystalLowe]\n",
       "4807            [DanielHenney, ElizaCoupe, BillPaxton]\n",
       "4808    [DrewBarrymore, BrianHerzlinger, CoreyFeldman]\n",
       "Name: cast, Length: 4809, dtype: object"
      ]
     },
     "execution_count": 24,
     "metadata": {},
     "output_type": "execute_result"
    }
   ],
   "source": [
    "movies[\"cast\"]"
   ]
  },
  {
   "cell_type": "code",
   "execution_count": 25,
   "id": "ea65514e",
   "metadata": {
    "execution": {
     "iopub.execute_input": "2023-10-26T05:50:46.749679Z",
     "iopub.status.busy": "2023-10-26T05:50:46.748909Z",
     "iopub.status.idle": "2023-10-26T05:50:46.755890Z",
     "shell.execute_reply": "2023-10-26T05:50:46.755012Z"
    },
    "papermill": {
     "duration": 0.035413,
     "end_time": "2023-10-26T05:50:46.757818",
     "exception": false,
     "start_time": "2023-10-26T05:50:46.722405",
     "status": "completed"
    },
    "tags": []
   },
   "outputs": [],
   "source": [
    "new_df=pd.DataFrame(movies,columns=['id','homepage','title','cast','crew','overview','genres','keywords'])"
   ]
  },
  {
   "cell_type": "markdown",
   "id": "38bda008",
   "metadata": {
    "papermill": {
     "duration": 0.026299,
     "end_time": "2023-10-26T05:50:46.809059",
     "exception": false,
     "start_time": "2023-10-26T05:50:46.782760",
     "status": "completed"
    },
    "tags": []
   },
   "source": []
  },
  {
   "cell_type": "code",
   "execution_count": 26,
   "id": "04616159",
   "metadata": {
    "execution": {
     "iopub.execute_input": "2023-10-26T05:50:46.860536Z",
     "iopub.status.busy": "2023-10-26T05:50:46.860190Z",
     "iopub.status.idle": "2023-10-26T05:50:46.879974Z",
     "shell.execute_reply": "2023-10-26T05:50:46.879271Z"
    },
    "papermill": {
     "duration": 0.046738,
     "end_time": "2023-10-26T05:50:46.881710",
     "exception": false,
     "start_time": "2023-10-26T05:50:46.834972",
     "status": "completed"
    },
    "tags": []
   },
   "outputs": [
    {
     "data": {
      "text/html": [
       "<div>\n",
       "<style scoped>\n",
       "    .dataframe tbody tr th:only-of-type {\n",
       "        vertical-align: middle;\n",
       "    }\n",
       "\n",
       "    .dataframe tbody tr th {\n",
       "        vertical-align: top;\n",
       "    }\n",
       "\n",
       "    .dataframe thead th {\n",
       "        text-align: right;\n",
       "    }\n",
       "</style>\n",
       "<table border=\"1\" class=\"dataframe\">\n",
       "  <thead>\n",
       "    <tr style=\"text-align: right;\">\n",
       "      <th></th>\n",
       "      <th>id</th>\n",
       "      <th>homepage</th>\n",
       "      <th>title</th>\n",
       "      <th>cast</th>\n",
       "      <th>crew</th>\n",
       "      <th>overview</th>\n",
       "      <th>genres</th>\n",
       "      <th>keywords</th>\n",
       "    </tr>\n",
       "  </thead>\n",
       "  <tbody>\n",
       "    <tr>\n",
       "      <th>0</th>\n",
       "      <td>19995</td>\n",
       "      <td>http://www.avatarmovie.com/</td>\n",
       "      <td>Avatar</td>\n",
       "      <td>[SamWorthington, ZoeSaldana, SigourneyWeaver]</td>\n",
       "      <td>[James Cameron]</td>\n",
       "      <td>In the 22nd century, a paraplegic Marine is di...</td>\n",
       "      <td>[Action, Adventure, Fantasy, Science Fiction]</td>\n",
       "      <td>[culture clash, future, space war, space colon...</td>\n",
       "    </tr>\n",
       "    <tr>\n",
       "      <th>1</th>\n",
       "      <td>285</td>\n",
       "      <td>http://disney.go.com/disneypictures/pirates/</td>\n",
       "      <td>Pirates of the Caribbean: At World's End</td>\n",
       "      <td>[JohnnyDepp, OrlandoBloom, KeiraKnightley]</td>\n",
       "      <td>[Gore Verbinski]</td>\n",
       "      <td>Captain Barbossa, long believed to be dead, ha...</td>\n",
       "      <td>[Adventure, Fantasy, Action]</td>\n",
       "      <td>[ocean, drug abuse, exotic island, east india ...</td>\n",
       "    </tr>\n",
       "    <tr>\n",
       "      <th>2</th>\n",
       "      <td>206647</td>\n",
       "      <td>http://www.sonypictures.com/movies/spectre/</td>\n",
       "      <td>Spectre</td>\n",
       "      <td>[DanielCraig, ChristophWaltz, LéaSeydoux]</td>\n",
       "      <td>[Sam Mendes]</td>\n",
       "      <td>A cryptic message from Bond’s past sends him o...</td>\n",
       "      <td>[Action, Adventure, Crime]</td>\n",
       "      <td>[spy, based on novel, secret agent, sequel, mi...</td>\n",
       "    </tr>\n",
       "    <tr>\n",
       "      <th>3</th>\n",
       "      <td>49026</td>\n",
       "      <td>http://www.thedarkknightrises.com/</td>\n",
       "      <td>The Dark Knight Rises</td>\n",
       "      <td>[ChristianBale, MichaelCaine, GaryOldman]</td>\n",
       "      <td>[Christopher Nolan]</td>\n",
       "      <td>Following the death of District Attorney Harve...</td>\n",
       "      <td>[Action, Crime, Drama, Thriller]</td>\n",
       "      <td>[dc comics, crime fighter, terrorist, secret i...</td>\n",
       "    </tr>\n",
       "    <tr>\n",
       "      <th>4</th>\n",
       "      <td>49529</td>\n",
       "      <td>http://movies.disney.com/john-carter</td>\n",
       "      <td>John Carter</td>\n",
       "      <td>[TaylorKitsch, LynnCollins, SamanthaMorton]</td>\n",
       "      <td>[Andrew Stanton]</td>\n",
       "      <td>John Carter is a war-weary, former military ca...</td>\n",
       "      <td>[Action, Adventure, Science Fiction]</td>\n",
       "      <td>[based on novel, mars, medallion, space travel...</td>\n",
       "    </tr>\n",
       "  </tbody>\n",
       "</table>\n",
       "</div>"
      ],
      "text/plain": [
       "       id                                      homepage  \\\n",
       "0   19995                   http://www.avatarmovie.com/   \n",
       "1     285  http://disney.go.com/disneypictures/pirates/   \n",
       "2  206647   http://www.sonypictures.com/movies/spectre/   \n",
       "3   49026            http://www.thedarkknightrises.com/   \n",
       "4   49529          http://movies.disney.com/john-carter   \n",
       "\n",
       "                                      title  \\\n",
       "0                                    Avatar   \n",
       "1  Pirates of the Caribbean: At World's End   \n",
       "2                                   Spectre   \n",
       "3                     The Dark Knight Rises   \n",
       "4                               John Carter   \n",
       "\n",
       "                                            cast                 crew  \\\n",
       "0  [SamWorthington, ZoeSaldana, SigourneyWeaver]      [James Cameron]   \n",
       "1     [JohnnyDepp, OrlandoBloom, KeiraKnightley]     [Gore Verbinski]   \n",
       "2      [DanielCraig, ChristophWaltz, LéaSeydoux]         [Sam Mendes]   \n",
       "3      [ChristianBale, MichaelCaine, GaryOldman]  [Christopher Nolan]   \n",
       "4    [TaylorKitsch, LynnCollins, SamanthaMorton]     [Andrew Stanton]   \n",
       "\n",
       "                                            overview  \\\n",
       "0  In the 22nd century, a paraplegic Marine is di...   \n",
       "1  Captain Barbossa, long believed to be dead, ha...   \n",
       "2  A cryptic message from Bond’s past sends him o...   \n",
       "3  Following the death of District Attorney Harve...   \n",
       "4  John Carter is a war-weary, former military ca...   \n",
       "\n",
       "                                          genres  \\\n",
       "0  [Action, Adventure, Fantasy, Science Fiction]   \n",
       "1                   [Adventure, Fantasy, Action]   \n",
       "2                     [Action, Adventure, Crime]   \n",
       "3               [Action, Crime, Drama, Thriller]   \n",
       "4           [Action, Adventure, Science Fiction]   \n",
       "\n",
       "                                            keywords  \n",
       "0  [culture clash, future, space war, space colon...  \n",
       "1  [ocean, drug abuse, exotic island, east india ...  \n",
       "2  [spy, based on novel, secret agent, sequel, mi...  \n",
       "3  [dc comics, crime fighter, terrorist, secret i...  \n",
       "4  [based on novel, mars, medallion, space travel...  "
      ]
     },
     "execution_count": 26,
     "metadata": {},
     "output_type": "execute_result"
    }
   ],
   "source": [
    "new_df.head(5)"
   ]
  },
  {
   "cell_type": "code",
   "execution_count": 27,
   "id": "3fed04b0",
   "metadata": {
    "execution": {
     "iopub.execute_input": "2023-10-26T05:50:46.937900Z",
     "iopub.status.busy": "2023-10-26T05:50:46.937279Z",
     "iopub.status.idle": "2023-10-26T05:50:46.947968Z",
     "shell.execute_reply": "2023-10-26T05:50:46.946521Z"
    },
    "papermill": {
     "duration": 0.043437,
     "end_time": "2023-10-26T05:50:46.950073",
     "exception": false,
     "start_time": "2023-10-26T05:50:46.906636",
     "status": "completed"
    },
    "tags": []
   },
   "outputs": [],
   "source": [
    "new_df['crew']=new_df['crew'].apply(_join)"
   ]
  },
  {
   "cell_type": "code",
   "execution_count": 28,
   "id": "c1797126",
   "metadata": {
    "execution": {
     "iopub.execute_input": "2023-10-26T05:50:47.004857Z",
     "iopub.status.busy": "2023-10-26T05:50:47.004520Z",
     "iopub.status.idle": "2023-10-26T05:50:47.025074Z",
     "shell.execute_reply": "2023-10-26T05:50:47.024118Z"
    },
    "papermill": {
     "duration": 0.050895,
     "end_time": "2023-10-26T05:50:47.027128",
     "exception": false,
     "start_time": "2023-10-26T05:50:46.976233",
     "status": "completed"
    },
    "tags": []
   },
   "outputs": [
    {
     "data": {
      "text/html": [
       "<div>\n",
       "<style scoped>\n",
       "    .dataframe tbody tr th:only-of-type {\n",
       "        vertical-align: middle;\n",
       "    }\n",
       "\n",
       "    .dataframe tbody tr th {\n",
       "        vertical-align: top;\n",
       "    }\n",
       "\n",
       "    .dataframe thead th {\n",
       "        text-align: right;\n",
       "    }\n",
       "</style>\n",
       "<table border=\"1\" class=\"dataframe\">\n",
       "  <thead>\n",
       "    <tr style=\"text-align: right;\">\n",
       "      <th></th>\n",
       "      <th>id</th>\n",
       "      <th>homepage</th>\n",
       "      <th>title</th>\n",
       "      <th>cast</th>\n",
       "      <th>crew</th>\n",
       "      <th>overview</th>\n",
       "      <th>genres</th>\n",
       "      <th>keywords</th>\n",
       "    </tr>\n",
       "  </thead>\n",
       "  <tbody>\n",
       "    <tr>\n",
       "      <th>0</th>\n",
       "      <td>19995</td>\n",
       "      <td>http://www.avatarmovie.com/</td>\n",
       "      <td>Avatar</td>\n",
       "      <td>[SamWorthington, ZoeSaldana, SigourneyWeaver]</td>\n",
       "      <td>[JamesCameron]</td>\n",
       "      <td>In the 22nd century, a paraplegic Marine is di...</td>\n",
       "      <td>[Action, Adventure, Fantasy, Science Fiction]</td>\n",
       "      <td>[culture clash, future, space war, space colon...</td>\n",
       "    </tr>\n",
       "    <tr>\n",
       "      <th>1</th>\n",
       "      <td>285</td>\n",
       "      <td>http://disney.go.com/disneypictures/pirates/</td>\n",
       "      <td>Pirates of the Caribbean: At World's End</td>\n",
       "      <td>[JohnnyDepp, OrlandoBloom, KeiraKnightley]</td>\n",
       "      <td>[GoreVerbinski]</td>\n",
       "      <td>Captain Barbossa, long believed to be dead, ha...</td>\n",
       "      <td>[Adventure, Fantasy, Action]</td>\n",
       "      <td>[ocean, drug abuse, exotic island, east india ...</td>\n",
       "    </tr>\n",
       "    <tr>\n",
       "      <th>2</th>\n",
       "      <td>206647</td>\n",
       "      <td>http://www.sonypictures.com/movies/spectre/</td>\n",
       "      <td>Spectre</td>\n",
       "      <td>[DanielCraig, ChristophWaltz, LéaSeydoux]</td>\n",
       "      <td>[SamMendes]</td>\n",
       "      <td>A cryptic message from Bond’s past sends him o...</td>\n",
       "      <td>[Action, Adventure, Crime]</td>\n",
       "      <td>[spy, based on novel, secret agent, sequel, mi...</td>\n",
       "    </tr>\n",
       "    <tr>\n",
       "      <th>3</th>\n",
       "      <td>49026</td>\n",
       "      <td>http://www.thedarkknightrises.com/</td>\n",
       "      <td>The Dark Knight Rises</td>\n",
       "      <td>[ChristianBale, MichaelCaine, GaryOldman]</td>\n",
       "      <td>[ChristopherNolan]</td>\n",
       "      <td>Following the death of District Attorney Harve...</td>\n",
       "      <td>[Action, Crime, Drama, Thriller]</td>\n",
       "      <td>[dc comics, crime fighter, terrorist, secret i...</td>\n",
       "    </tr>\n",
       "    <tr>\n",
       "      <th>4</th>\n",
       "      <td>49529</td>\n",
       "      <td>http://movies.disney.com/john-carter</td>\n",
       "      <td>John Carter</td>\n",
       "      <td>[TaylorKitsch, LynnCollins, SamanthaMorton]</td>\n",
       "      <td>[AndrewStanton]</td>\n",
       "      <td>John Carter is a war-weary, former military ca...</td>\n",
       "      <td>[Action, Adventure, Science Fiction]</td>\n",
       "      <td>[based on novel, mars, medallion, space travel...</td>\n",
       "    </tr>\n",
       "  </tbody>\n",
       "</table>\n",
       "</div>"
      ],
      "text/plain": [
       "       id                                      homepage  \\\n",
       "0   19995                   http://www.avatarmovie.com/   \n",
       "1     285  http://disney.go.com/disneypictures/pirates/   \n",
       "2  206647   http://www.sonypictures.com/movies/spectre/   \n",
       "3   49026            http://www.thedarkknightrises.com/   \n",
       "4   49529          http://movies.disney.com/john-carter   \n",
       "\n",
       "                                      title  \\\n",
       "0                                    Avatar   \n",
       "1  Pirates of the Caribbean: At World's End   \n",
       "2                                   Spectre   \n",
       "3                     The Dark Knight Rises   \n",
       "4                               John Carter   \n",
       "\n",
       "                                            cast                crew  \\\n",
       "0  [SamWorthington, ZoeSaldana, SigourneyWeaver]      [JamesCameron]   \n",
       "1     [JohnnyDepp, OrlandoBloom, KeiraKnightley]     [GoreVerbinski]   \n",
       "2      [DanielCraig, ChristophWaltz, LéaSeydoux]         [SamMendes]   \n",
       "3      [ChristianBale, MichaelCaine, GaryOldman]  [ChristopherNolan]   \n",
       "4    [TaylorKitsch, LynnCollins, SamanthaMorton]     [AndrewStanton]   \n",
       "\n",
       "                                            overview  \\\n",
       "0  In the 22nd century, a paraplegic Marine is di...   \n",
       "1  Captain Barbossa, long believed to be dead, ha...   \n",
       "2  A cryptic message from Bond’s past sends him o...   \n",
       "3  Following the death of District Attorney Harve...   \n",
       "4  John Carter is a war-weary, former military ca...   \n",
       "\n",
       "                                          genres  \\\n",
       "0  [Action, Adventure, Fantasy, Science Fiction]   \n",
       "1                   [Adventure, Fantasy, Action]   \n",
       "2                     [Action, Adventure, Crime]   \n",
       "3               [Action, Crime, Drama, Thriller]   \n",
       "4           [Action, Adventure, Science Fiction]   \n",
       "\n",
       "                                            keywords  \n",
       "0  [culture clash, future, space war, space colon...  \n",
       "1  [ocean, drug abuse, exotic island, east india ...  \n",
       "2  [spy, based on novel, secret agent, sequel, mi...  \n",
       "3  [dc comics, crime fighter, terrorist, secret i...  \n",
       "4  [based on novel, mars, medallion, space travel...  "
      ]
     },
     "execution_count": 28,
     "metadata": {},
     "output_type": "execute_result"
    }
   ],
   "source": [
    "new_df.head()"
   ]
  },
  {
   "cell_type": "code",
   "execution_count": 29,
   "id": "f522d06b",
   "metadata": {
    "execution": {
     "iopub.execute_input": "2023-10-26T05:50:47.079978Z",
     "iopub.status.busy": "2023-10-26T05:50:47.079465Z",
     "iopub.status.idle": "2023-10-26T05:50:47.091103Z",
     "shell.execute_reply": "2023-10-26T05:50:47.090288Z"
    },
    "papermill": {
     "duration": 0.040417,
     "end_time": "2023-10-26T05:50:47.093146",
     "exception": false,
     "start_time": "2023-10-26T05:50:47.052729",
     "status": "completed"
    },
    "tags": []
   },
   "outputs": [
    {
     "data": {
      "text/plain": [
       "id             0\n",
       "homepage    3096\n",
       "title          0\n",
       "cast           0\n",
       "crew           0\n",
       "overview       3\n",
       "genres         0\n",
       "keywords       0\n",
       "dtype: int64"
      ]
     },
     "execution_count": 29,
     "metadata": {},
     "output_type": "execute_result"
    }
   ],
   "source": [
    "new_df.isna().sum()"
   ]
  },
  {
   "cell_type": "code",
   "execution_count": 30,
   "id": "93321593",
   "metadata": {
    "execution": {
     "iopub.execute_input": "2023-10-26T05:50:47.146192Z",
     "iopub.status.busy": "2023-10-26T05:50:47.145537Z",
     "iopub.status.idle": "2023-10-26T05:50:47.151179Z",
     "shell.execute_reply": "2023-10-26T05:50:47.150261Z"
    },
    "papermill": {
     "duration": 0.033945,
     "end_time": "2023-10-26T05:50:47.153072",
     "exception": false,
     "start_time": "2023-10-26T05:50:47.119127",
     "status": "completed"
    },
    "tags": []
   },
   "outputs": [],
   "source": [
    "new_df[\"homepage\"]=new_df[\"homepage\"].fillna(0)"
   ]
  },
  {
   "cell_type": "code",
   "execution_count": 31,
   "id": "9f924ef8",
   "metadata": {
    "execution": {
     "iopub.execute_input": "2023-10-26T05:50:47.206461Z",
     "iopub.status.busy": "2023-10-26T05:50:47.205821Z",
     "iopub.status.idle": "2023-10-26T05:50:47.373891Z",
     "shell.execute_reply": "2023-10-26T05:50:47.372865Z"
    },
    "papermill": {
     "duration": 0.197571,
     "end_time": "2023-10-26T05:50:47.376046",
     "exception": false,
     "start_time": "2023-10-26T05:50:47.178475",
     "status": "completed"
    },
    "tags": []
   },
   "outputs": [
    {
     "name": "stderr",
     "output_type": "stream",
     "text": [
      "/tmp/ipykernel_21/3303242796.py:10: SettingWithCopyWarning: \n",
      "A value is trying to be set on a copy of a slice from a DataFrame\n",
      "\n",
      "See the caveats in the documentation: https://pandas.pydata.org/pandas-docs/stable/user_guide/indexing.html#returning-a-view-versus-a-copy\n",
      "  new_df[\"urls\"][i]=new_df[\"homepage\"][i]\n"
     ]
    }
   ],
   "source": [
    "url=list(enumerate(new_df[\"homepage\"]))\n",
    "new_df[\"urls\"]=0\n",
    "for i in range(len(url)):\n",
    "  if new_df[\"homepage\"][i]==0:\n",
    "    \n",
    "    x=(\"{}/{}\".format(\"https://www.\",str(\"\".join(list(new_df[\"title\"][url[i][0]].split())))))\n",
    "\n",
    "    new_df[\"urls\"][i]=x\n",
    "  else:\n",
    "    new_df[\"urls\"][i]=new_df[\"homepage\"][i]"
   ]
  },
  {
   "cell_type": "code",
   "execution_count": 32,
   "id": "6869a2c4",
   "metadata": {
    "execution": {
     "iopub.execute_input": "2023-10-26T05:50:47.430395Z",
     "iopub.status.busy": "2023-10-26T05:50:47.429769Z",
     "iopub.status.idle": "2023-10-26T05:50:47.437696Z",
     "shell.execute_reply": "2023-10-26T05:50:47.436803Z"
    },
    "papermill": {
     "duration": 0.03665,
     "end_time": "2023-10-26T05:50:47.439548",
     "exception": false,
     "start_time": "2023-10-26T05:50:47.402898",
     "status": "completed"
    },
    "tags": []
   },
   "outputs": [
    {
     "data": {
      "text/plain": [
       "0                             http://www.avatarmovie.com/\n",
       "1            http://disney.go.com/disneypictures/pirates/\n",
       "2             http://www.sonypictures.com/movies/spectre/\n",
       "3                      http://www.thedarkknightrises.com/\n",
       "4                    http://movies.disney.com/john-carter\n",
       "                              ...                        \n",
       "4804                              https://www./ElMariachi\n",
       "4805                               https://www./Newlyweds\n",
       "4806    http://www.hallmarkchannel.com/signedsealeddel...\n",
       "4807                          http://shanghaicalling.com/\n",
       "4808                          https://www./MyDatewithDrew\n",
       "Name: urls, Length: 4809, dtype: object"
      ]
     },
     "execution_count": 32,
     "metadata": {},
     "output_type": "execute_result"
    }
   ],
   "source": [
    "# def link(url,i):\n",
    "#   s=url\n",
    "#   x=\"{} + {}\".format(\"https://www.\",str(new_df.iloc[[url[i][0]]].title))\n",
    "#   iF s is \"link\" \n",
    "#     return x\n",
    "#   else:\n",
    "#     return s\n",
    "# # new_df[new_df[\"homepage\"].fillna(\"{} + {}\".format(\"https://www.\",new_df[\"title\"]]))\n",
    "new_df[\"urls\"]\n"
   ]
  },
  {
   "cell_type": "code",
   "execution_count": 33,
   "id": "79e4c6c2",
   "metadata": {
    "execution": {
     "iopub.execute_input": "2023-10-26T05:50:47.495152Z",
     "iopub.status.busy": "2023-10-26T05:50:47.494825Z",
     "iopub.status.idle": "2023-10-26T05:50:47.515293Z",
     "shell.execute_reply": "2023-10-26T05:50:47.514033Z"
    },
    "papermill": {
     "duration": 0.051271,
     "end_time": "2023-10-26T05:50:47.517242",
     "exception": false,
     "start_time": "2023-10-26T05:50:47.465971",
     "status": "completed"
    },
    "tags": []
   },
   "outputs": [
    {
     "data": {
      "text/html": [
       "<div>\n",
       "<style scoped>\n",
       "    .dataframe tbody tr th:only-of-type {\n",
       "        vertical-align: middle;\n",
       "    }\n",
       "\n",
       "    .dataframe tbody tr th {\n",
       "        vertical-align: top;\n",
       "    }\n",
       "\n",
       "    .dataframe thead th {\n",
       "        text-align: right;\n",
       "    }\n",
       "</style>\n",
       "<table border=\"1\" class=\"dataframe\">\n",
       "  <thead>\n",
       "    <tr style=\"text-align: right;\">\n",
       "      <th></th>\n",
       "      <th>id</th>\n",
       "      <th>homepage</th>\n",
       "      <th>title</th>\n",
       "      <th>cast</th>\n",
       "      <th>crew</th>\n",
       "      <th>overview</th>\n",
       "      <th>genres</th>\n",
       "      <th>keywords</th>\n",
       "      <th>urls</th>\n",
       "    </tr>\n",
       "  </thead>\n",
       "  <tbody>\n",
       "    <tr>\n",
       "      <th>904</th>\n",
       "      <td>2898</td>\n",
       "      <td>0</td>\n",
       "      <td>As Good as It Gets</td>\n",
       "      <td>[JackNicholson, HelenHunt, GregKinnear]</td>\n",
       "      <td>[JamesL.Brooks]</td>\n",
       "      <td>New York City. Melvin Udall, a cranky, bigoted...</td>\n",
       "      <td>[Comedy, Romance]</td>\n",
       "      <td>[single parent, waitress, lone wolf, friendshi...</td>\n",
       "      <td>https://www./AsGoodasItGets</td>\n",
       "    </tr>\n",
       "    <tr>\n",
       "      <th>1394</th>\n",
       "      <td>89492</td>\n",
       "      <td>http://www.thisis40movie.com/</td>\n",
       "      <td>This Is 40</td>\n",
       "      <td>[PaulRudd, LeslieMann, JasonSegel]</td>\n",
       "      <td>[JuddApatow]</td>\n",
       "      <td>Pete and Debbie are both about to turn 40, the...</td>\n",
       "      <td>[Comedy]</td>\n",
       "      <td>[wife husband relationship, children, family r...</td>\n",
       "      <td>http://www.thisis40movie.com/</td>\n",
       "    </tr>\n",
       "    <tr>\n",
       "      <th>3746</th>\n",
       "      <td>703</td>\n",
       "      <td>0</td>\n",
       "      <td>Annie Hall</td>\n",
       "      <td>[WoodyAllen, DianeKeaton, TonyRoberts]</td>\n",
       "      <td>[WoodyAllen]</td>\n",
       "      <td>In the city of New York, comedian Alvy Singer ...</td>\n",
       "      <td>[Comedy, Drama, Romance]</td>\n",
       "      <td>[narration, neurosis, comedian, job interview,...</td>\n",
       "      <td>https://www./AnnieHall</td>\n",
       "    </tr>\n",
       "    <tr>\n",
       "      <th>2493</th>\n",
       "      <td>18074</td>\n",
       "      <td>0</td>\n",
       "      <td>Duets</td>\n",
       "      <td>[GwynethPaltrow, ScottSpeedman, MariaBello]</td>\n",
       "      <td>[BrucePaltrow]</td>\n",
       "      <td>Duets is a road-trip comedy which revolves aro...</td>\n",
       "      <td>[Comedy, Drama, Music]</td>\n",
       "      <td>[musical]</td>\n",
       "      <td>https://www./Duets</td>\n",
       "    </tr>\n",
       "    <tr>\n",
       "      <th>2980</th>\n",
       "      <td>489</td>\n",
       "      <td>http://www.miramax.com/movie/good-will-hunting</td>\n",
       "      <td>Good Will Hunting</td>\n",
       "      <td>[RobinWilliams, MattDamon, BenAffleck]</td>\n",
       "      <td>[GusVanSant]</td>\n",
       "      <td>Will Hunting has a genius-level IQ but chooses...</td>\n",
       "      <td>[Drama]</td>\n",
       "      <td>[baseball, boston, professor, m.i.t., harvard ...</td>\n",
       "      <td>http://www.miramax.com/movie/good-will-hunting</td>\n",
       "    </tr>\n",
       "  </tbody>\n",
       "</table>\n",
       "</div>"
      ],
      "text/plain": [
       "         id                                        homepage  \\\n",
       "904    2898                                               0   \n",
       "1394  89492                   http://www.thisis40movie.com/   \n",
       "3746    703                                               0   \n",
       "2493  18074                                               0   \n",
       "2980    489  http://www.miramax.com/movie/good-will-hunting   \n",
       "\n",
       "                   title                                         cast  \\\n",
       "904   As Good as It Gets      [JackNicholson, HelenHunt, GregKinnear]   \n",
       "1394          This Is 40           [PaulRudd, LeslieMann, JasonSegel]   \n",
       "3746          Annie Hall       [WoodyAllen, DianeKeaton, TonyRoberts]   \n",
       "2493               Duets  [GwynethPaltrow, ScottSpeedman, MariaBello]   \n",
       "2980   Good Will Hunting       [RobinWilliams, MattDamon, BenAffleck]   \n",
       "\n",
       "                 crew                                           overview  \\\n",
       "904   [JamesL.Brooks]  New York City. Melvin Udall, a cranky, bigoted...   \n",
       "1394     [JuddApatow]  Pete and Debbie are both about to turn 40, the...   \n",
       "3746     [WoodyAllen]  In the city of New York, comedian Alvy Singer ...   \n",
       "2493   [BrucePaltrow]  Duets is a road-trip comedy which revolves aro...   \n",
       "2980     [GusVanSant]  Will Hunting has a genius-level IQ but chooses...   \n",
       "\n",
       "                        genres  \\\n",
       "904          [Comedy, Romance]   \n",
       "1394                  [Comedy]   \n",
       "3746  [Comedy, Drama, Romance]   \n",
       "2493    [Comedy, Drama, Music]   \n",
       "2980                   [Drama]   \n",
       "\n",
       "                                               keywords  \\\n",
       "904   [single parent, waitress, lone wolf, friendshi...   \n",
       "1394  [wife husband relationship, children, family r...   \n",
       "3746  [narration, neurosis, comedian, job interview,...   \n",
       "2493                                          [musical]   \n",
       "2980  [baseball, boston, professor, m.i.t., harvard ...   \n",
       "\n",
       "                                                urls  \n",
       "904                      https://www./AsGoodasItGets  \n",
       "1394                   http://www.thisis40movie.com/  \n",
       "3746                          https://www./AnnieHall  \n",
       "2493                              https://www./Duets  \n",
       "2980  http://www.miramax.com/movie/good-will-hunting  "
      ]
     },
     "execution_count": 33,
     "metadata": {},
     "output_type": "execute_result"
    }
   ],
   "source": [
    "# new_df.iloc[[0]].title\n",
    "new_df.sample(5)"
   ]
  },
  {
   "cell_type": "code",
   "execution_count": 34,
   "id": "fb0158e1",
   "metadata": {
    "execution": {
     "iopub.execute_input": "2023-10-26T05:50:47.577799Z",
     "iopub.status.busy": "2023-10-26T05:50:47.577480Z",
     "iopub.status.idle": "2023-10-26T05:50:47.582007Z",
     "shell.execute_reply": "2023-10-26T05:50:47.580666Z"
    },
    "papermill": {
     "duration": 0.03662,
     "end_time": "2023-10-26T05:50:47.583787",
     "exception": false,
     "start_time": "2023-10-26T05:50:47.547167",
     "status": "completed"
    },
    "tags": []
   },
   "outputs": [],
   "source": [
    "# to convert string into list of strings \n",
    "def spliting(text):\n",
    "  text=str(text).split()\n",
    "  return text"
   ]
  },
  {
   "cell_type": "code",
   "execution_count": 35,
   "id": "febb54e3",
   "metadata": {
    "execution": {
     "iopub.execute_input": "2023-10-26T05:50:47.638971Z",
     "iopub.status.busy": "2023-10-26T05:50:47.638675Z",
     "iopub.status.idle": "2023-10-26T05:50:47.670767Z",
     "shell.execute_reply": "2023-10-26T05:50:47.669755Z"
    },
    "papermill": {
     "duration": 0.062802,
     "end_time": "2023-10-26T05:50:47.673298",
     "exception": false,
     "start_time": "2023-10-26T05:50:47.610496",
     "status": "completed"
    },
    "tags": []
   },
   "outputs": [],
   "source": [
    "new_df['overview']=new_df['overview'].apply(spliting)"
   ]
  },
  {
   "cell_type": "code",
   "execution_count": 36,
   "id": "ff515672",
   "metadata": {
    "execution": {
     "iopub.execute_input": "2023-10-26T05:50:47.729113Z",
     "iopub.status.busy": "2023-10-26T05:50:47.728722Z",
     "iopub.status.idle": "2023-10-26T05:50:47.852732Z",
     "shell.execute_reply": "2023-10-26T05:50:47.851661Z"
    },
    "papermill": {
     "duration": 0.15471,
     "end_time": "2023-10-26T05:50:47.855334",
     "exception": false,
     "start_time": "2023-10-26T05:50:47.700624",
     "status": "completed"
    },
    "tags": []
   },
   "outputs": [],
   "source": [
    "new_df['all_tags']=new_df['overview'] + new_df['genres'] + new_df['keywords'] + new_df['cast'] + new_df['crew']"
   ]
  },
  {
   "cell_type": "code",
   "execution_count": 37,
   "id": "887ab45b",
   "metadata": {
    "execution": {
     "iopub.execute_input": "2023-10-26T05:50:47.909790Z",
     "iopub.status.busy": "2023-10-26T05:50:47.909472Z",
     "iopub.status.idle": "2023-10-26T05:50:47.917639Z",
     "shell.execute_reply": "2023-10-26T05:50:47.916749Z"
    },
    "papermill": {
     "duration": 0.03815,
     "end_time": "2023-10-26T05:50:47.919566",
     "exception": false,
     "start_time": "2023-10-26T05:50:47.881416",
     "status": "completed"
    },
    "tags": []
   },
   "outputs": [],
   "source": [
    "new_df.drop(columns=['overview','genres' ,'keywords','cast' , 'crew','homepage'],inplace=True)"
   ]
  },
  {
   "cell_type": "code",
   "execution_count": 38,
   "id": "65ea7146",
   "metadata": {
    "execution": {
     "iopub.execute_input": "2023-10-26T05:50:47.972243Z",
     "iopub.status.busy": "2023-10-26T05:50:47.971921Z",
     "iopub.status.idle": "2023-10-26T05:50:47.985873Z",
     "shell.execute_reply": "2023-10-26T05:50:47.984978Z"
    },
    "papermill": {
     "duration": 0.042836,
     "end_time": "2023-10-26T05:50:47.987766",
     "exception": false,
     "start_time": "2023-10-26T05:50:47.944930",
     "status": "completed"
    },
    "tags": []
   },
   "outputs": [
    {
     "data": {
      "text/html": [
       "<div>\n",
       "<style scoped>\n",
       "    .dataframe tbody tr th:only-of-type {\n",
       "        vertical-align: middle;\n",
       "    }\n",
       "\n",
       "    .dataframe tbody tr th {\n",
       "        vertical-align: top;\n",
       "    }\n",
       "\n",
       "    .dataframe thead th {\n",
       "        text-align: right;\n",
       "    }\n",
       "</style>\n",
       "<table border=\"1\" class=\"dataframe\">\n",
       "  <thead>\n",
       "    <tr style=\"text-align: right;\">\n",
       "      <th></th>\n",
       "      <th>id</th>\n",
       "      <th>title</th>\n",
       "      <th>urls</th>\n",
       "      <th>all_tags</th>\n",
       "    </tr>\n",
       "  </thead>\n",
       "  <tbody>\n",
       "    <tr>\n",
       "      <th>0</th>\n",
       "      <td>19995</td>\n",
       "      <td>Avatar</td>\n",
       "      <td>http://www.avatarmovie.com/</td>\n",
       "      <td>[In, the, 22nd, century,, a, paraplegic, Marin...</td>\n",
       "    </tr>\n",
       "    <tr>\n",
       "      <th>1</th>\n",
       "      <td>285</td>\n",
       "      <td>Pirates of the Caribbean: At World's End</td>\n",
       "      <td>http://disney.go.com/disneypictures/pirates/</td>\n",
       "      <td>[Captain, Barbossa,, long, believed, to, be, d...</td>\n",
       "    </tr>\n",
       "    <tr>\n",
       "      <th>2</th>\n",
       "      <td>206647</td>\n",
       "      <td>Spectre</td>\n",
       "      <td>http://www.sonypictures.com/movies/spectre/</td>\n",
       "      <td>[A, cryptic, message, from, Bond’s, past, send...</td>\n",
       "    </tr>\n",
       "    <tr>\n",
       "      <th>3</th>\n",
       "      <td>49026</td>\n",
       "      <td>The Dark Knight Rises</td>\n",
       "      <td>http://www.thedarkknightrises.com/</td>\n",
       "      <td>[Following, the, death, of, District, Attorney...</td>\n",
       "    </tr>\n",
       "    <tr>\n",
       "      <th>4</th>\n",
       "      <td>49529</td>\n",
       "      <td>John Carter</td>\n",
       "      <td>http://movies.disney.com/john-carter</td>\n",
       "      <td>[John, Carter, is, a, war-weary,, former, mili...</td>\n",
       "    </tr>\n",
       "  </tbody>\n",
       "</table>\n",
       "</div>"
      ],
      "text/plain": [
       "       id                                     title  \\\n",
       "0   19995                                    Avatar   \n",
       "1     285  Pirates of the Caribbean: At World's End   \n",
       "2  206647                                   Spectre   \n",
       "3   49026                     The Dark Knight Rises   \n",
       "4   49529                               John Carter   \n",
       "\n",
       "                                           urls  \\\n",
       "0                   http://www.avatarmovie.com/   \n",
       "1  http://disney.go.com/disneypictures/pirates/   \n",
       "2   http://www.sonypictures.com/movies/spectre/   \n",
       "3            http://www.thedarkknightrises.com/   \n",
       "4          http://movies.disney.com/john-carter   \n",
       "\n",
       "                                            all_tags  \n",
       "0  [In, the, 22nd, century,, a, paraplegic, Marin...  \n",
       "1  [Captain, Barbossa,, long, believed, to, be, d...  \n",
       "2  [A, cryptic, message, from, Bond’s, past, send...  \n",
       "3  [Following, the, death, of, District, Attorney...  \n",
       "4  [John, Carter, is, a, war-weary,, former, mili...  "
      ]
     },
     "execution_count": 38,
     "metadata": {},
     "output_type": "execute_result"
    }
   ],
   "source": [
    "new_df.head()"
   ]
  },
  {
   "cell_type": "code",
   "execution_count": 39,
   "id": "beaa9410",
   "metadata": {
    "execution": {
     "iopub.execute_input": "2023-10-26T05:50:48.042429Z",
     "iopub.status.busy": "2023-10-26T05:50:48.042127Z",
     "iopub.status.idle": "2023-10-26T05:50:48.046477Z",
     "shell.execute_reply": "2023-10-26T05:50:48.045613Z"
    },
    "papermill": {
     "duration": 0.03367,
     "end_time": "2023-10-26T05:50:48.048410",
     "exception": false,
     "start_time": "2023-10-26T05:50:48.014740",
     "status": "completed"
    },
    "tags": []
   },
   "outputs": [],
   "source": [
    "def convert_lower(text):\n",
    "  l=[]\n",
    "  for item in text:\n",
    "    l.append(item.lower())\n",
    "  return l"
   ]
  },
  {
   "cell_type": "code",
   "execution_count": 40,
   "id": "75dce714",
   "metadata": {
    "execution": {
     "iopub.execute_input": "2023-10-26T05:50:48.104011Z",
     "iopub.status.busy": "2023-10-26T05:50:48.103695Z",
     "iopub.status.idle": "2023-10-26T05:50:48.205245Z",
     "shell.execute_reply": "2023-10-26T05:50:48.204287Z"
    },
    "papermill": {
     "duration": 0.130739,
     "end_time": "2023-10-26T05:50:48.207546",
     "exception": false,
     "start_time": "2023-10-26T05:50:48.076807",
     "status": "completed"
    },
    "tags": []
   },
   "outputs": [],
   "source": [
    "new_df['all_tags']=new_df['all_tags'].apply(convert_lower)"
   ]
  },
  {
   "cell_type": "code",
   "execution_count": 41,
   "id": "f852f4e5",
   "metadata": {
    "execution": {
     "iopub.execute_input": "2023-10-26T05:50:48.260608Z",
     "iopub.status.busy": "2023-10-26T05:50:48.260283Z",
     "iopub.status.idle": "2023-10-26T05:50:48.275015Z",
     "shell.execute_reply": "2023-10-26T05:50:48.274137Z"
    },
    "papermill": {
     "duration": 0.043072,
     "end_time": "2023-10-26T05:50:48.276934",
     "exception": false,
     "start_time": "2023-10-26T05:50:48.233862",
     "status": "completed"
    },
    "tags": []
   },
   "outputs": [
    {
     "data": {
      "text/html": [
       "<div>\n",
       "<style scoped>\n",
       "    .dataframe tbody tr th:only-of-type {\n",
       "        vertical-align: middle;\n",
       "    }\n",
       "\n",
       "    .dataframe tbody tr th {\n",
       "        vertical-align: top;\n",
       "    }\n",
       "\n",
       "    .dataframe thead th {\n",
       "        text-align: right;\n",
       "    }\n",
       "</style>\n",
       "<table border=\"1\" class=\"dataframe\">\n",
       "  <thead>\n",
       "    <tr style=\"text-align: right;\">\n",
       "      <th></th>\n",
       "      <th>id</th>\n",
       "      <th>title</th>\n",
       "      <th>urls</th>\n",
       "      <th>all_tags</th>\n",
       "    </tr>\n",
       "  </thead>\n",
       "  <tbody>\n",
       "    <tr>\n",
       "      <th>0</th>\n",
       "      <td>19995</td>\n",
       "      <td>Avatar</td>\n",
       "      <td>http://www.avatarmovie.com/</td>\n",
       "      <td>[in, the, 22nd, century,, a, paraplegic, marin...</td>\n",
       "    </tr>\n",
       "    <tr>\n",
       "      <th>1</th>\n",
       "      <td>285</td>\n",
       "      <td>Pirates of the Caribbean: At World's End</td>\n",
       "      <td>http://disney.go.com/disneypictures/pirates/</td>\n",
       "      <td>[captain, barbossa,, long, believed, to, be, d...</td>\n",
       "    </tr>\n",
       "    <tr>\n",
       "      <th>2</th>\n",
       "      <td>206647</td>\n",
       "      <td>Spectre</td>\n",
       "      <td>http://www.sonypictures.com/movies/spectre/</td>\n",
       "      <td>[a, cryptic, message, from, bond’s, past, send...</td>\n",
       "    </tr>\n",
       "    <tr>\n",
       "      <th>3</th>\n",
       "      <td>49026</td>\n",
       "      <td>The Dark Knight Rises</td>\n",
       "      <td>http://www.thedarkknightrises.com/</td>\n",
       "      <td>[following, the, death, of, district, attorney...</td>\n",
       "    </tr>\n",
       "    <tr>\n",
       "      <th>4</th>\n",
       "      <td>49529</td>\n",
       "      <td>John Carter</td>\n",
       "      <td>http://movies.disney.com/john-carter</td>\n",
       "      <td>[john, carter, is, a, war-weary,, former, mili...</td>\n",
       "    </tr>\n",
       "  </tbody>\n",
       "</table>\n",
       "</div>"
      ],
      "text/plain": [
       "       id                                     title  \\\n",
       "0   19995                                    Avatar   \n",
       "1     285  Pirates of the Caribbean: At World's End   \n",
       "2  206647                                   Spectre   \n",
       "3   49026                     The Dark Knight Rises   \n",
       "4   49529                               John Carter   \n",
       "\n",
       "                                           urls  \\\n",
       "0                   http://www.avatarmovie.com/   \n",
       "1  http://disney.go.com/disneypictures/pirates/   \n",
       "2   http://www.sonypictures.com/movies/spectre/   \n",
       "3            http://www.thedarkknightrises.com/   \n",
       "4          http://movies.disney.com/john-carter   \n",
       "\n",
       "                                            all_tags  \n",
       "0  [in, the, 22nd, century,, a, paraplegic, marin...  \n",
       "1  [captain, barbossa,, long, believed, to, be, d...  \n",
       "2  [a, cryptic, message, from, bond’s, past, send...  \n",
       "3  [following, the, death, of, district, attorney...  \n",
       "4  [john, carter, is, a, war-weary,, former, mili...  "
      ]
     },
     "execution_count": 41,
     "metadata": {},
     "output_type": "execute_result"
    }
   ],
   "source": [
    "new_df.head()"
   ]
  },
  {
   "cell_type": "code",
   "execution_count": 42,
   "id": "5c591786",
   "metadata": {
    "execution": {
     "iopub.execute_input": "2023-10-26T05:50:48.331596Z",
     "iopub.status.busy": "2023-10-26T05:50:48.331298Z",
     "iopub.status.idle": "2023-10-26T05:51:00.108528Z",
     "shell.execute_reply": "2023-10-26T05:51:00.107255Z"
    },
    "papermill": {
     "duration": 11.808219,
     "end_time": "2023-10-26T05:51:00.110911",
     "exception": false,
     "start_time": "2023-10-26T05:50:48.302692",
     "status": "completed"
    },
    "tags": []
   },
   "outputs": [
    {
     "name": "stdout",
     "output_type": "stream",
     "text": [
      "Requirement already satisfied: nltk in /opt/conda/lib/python3.10/site-packages (3.2.4)\r\n",
      "Requirement already satisfied: six in /opt/conda/lib/python3.10/site-packages (from nltk) (1.16.0)\r\n"
     ]
    }
   ],
   "source": [
    "!pip install nltk"
   ]
  },
  {
   "cell_type": "code",
   "execution_count": 43,
   "id": "52239c97",
   "metadata": {
    "execution": {
     "iopub.execute_input": "2023-10-26T05:51:00.165439Z",
     "iopub.status.busy": "2023-10-26T05:51:00.164710Z",
     "iopub.status.idle": "2023-10-26T05:51:01.749681Z",
     "shell.execute_reply": "2023-10-26T05:51:01.748882Z"
    },
    "papermill": {
     "duration": 1.614767,
     "end_time": "2023-10-26T05:51:01.752099",
     "exception": false,
     "start_time": "2023-10-26T05:51:00.137332",
     "status": "completed"
    },
    "tags": []
   },
   "outputs": [],
   "source": [
    "import nltk\n",
    "from nltk.stem.porter import PorterStemmer\n",
    "ps=PorterStemmer()\n",
    "def steming(text):\n",
    "  l=[]\n",
    "  for i in text:\n",
    "\n",
    "    l.append(ps.stem(i))\n",
    "  return l"
   ]
  },
  {
   "cell_type": "code",
   "execution_count": 44,
   "id": "ba0c2d29",
   "metadata": {
    "execution": {
     "iopub.execute_input": "2023-10-26T05:51:01.805686Z",
     "iopub.status.busy": "2023-10-26T05:51:01.805337Z",
     "iopub.status.idle": "2023-10-26T05:51:11.135404Z",
     "shell.execute_reply": "2023-10-26T05:51:11.134563Z"
    },
    "papermill": {
     "duration": 9.359311,
     "end_time": "2023-10-26T05:51:11.137916",
     "exception": false,
     "start_time": "2023-10-26T05:51:01.778605",
     "status": "completed"
    },
    "tags": []
   },
   "outputs": [],
   "source": [
    "new_df['all_tags']=new_df['all_tags'].apply(steming)"
   ]
  },
  {
   "cell_type": "code",
   "execution_count": 45,
   "id": "124e2cb1",
   "metadata": {
    "execution": {
     "iopub.execute_input": "2023-10-26T05:51:11.195948Z",
     "iopub.status.busy": "2023-10-26T05:51:11.195561Z",
     "iopub.status.idle": "2023-10-26T05:51:11.212370Z",
     "shell.execute_reply": "2023-10-26T05:51:11.211358Z"
    },
    "papermill": {
     "duration": 0.048697,
     "end_time": "2023-10-26T05:51:11.214461",
     "exception": false,
     "start_time": "2023-10-26T05:51:11.165764",
     "status": "completed"
    },
    "tags": []
   },
   "outputs": [
    {
     "data": {
      "text/html": [
       "<div>\n",
       "<style scoped>\n",
       "    .dataframe tbody tr th:only-of-type {\n",
       "        vertical-align: middle;\n",
       "    }\n",
       "\n",
       "    .dataframe tbody tr th {\n",
       "        vertical-align: top;\n",
       "    }\n",
       "\n",
       "    .dataframe thead th {\n",
       "        text-align: right;\n",
       "    }\n",
       "</style>\n",
       "<table border=\"1\" class=\"dataframe\">\n",
       "  <thead>\n",
       "    <tr style=\"text-align: right;\">\n",
       "      <th></th>\n",
       "      <th>id</th>\n",
       "      <th>title</th>\n",
       "      <th>urls</th>\n",
       "      <th>all_tags</th>\n",
       "    </tr>\n",
       "  </thead>\n",
       "  <tbody>\n",
       "    <tr>\n",
       "      <th>360</th>\n",
       "      <td>2253</td>\n",
       "      <td>Valkyrie</td>\n",
       "      <td>https://www./Valkyrie</td>\n",
       "      <td>[wound, in, africa, dure, world, war, ii,, naz...</td>\n",
       "    </tr>\n",
       "    <tr>\n",
       "      <th>4277</th>\n",
       "      <td>27845</td>\n",
       "      <td>Trees Lounge</td>\n",
       "      <td>https://www./TreesLounge</td>\n",
       "      <td>[tommi, ha, lost, hi, job,, hi, love, and, hi,...</td>\n",
       "    </tr>\n",
       "    <tr>\n",
       "      <th>3184</th>\n",
       "      <td>24621</td>\n",
       "      <td>Chasing Papi</td>\n",
       "      <td>https://www./ChasingPapi</td>\n",
       "      <td>[playboy, thoma, fuent, ha, so, far, been, abl...</td>\n",
       "    </tr>\n",
       "    <tr>\n",
       "      <th>2061</th>\n",
       "      <td>12085</td>\n",
       "      <td>Mad Money</td>\n",
       "      <td>https://www./MadMoney</td>\n",
       "      <td>[three, femal, employe, of, the, feder, reserv...</td>\n",
       "    </tr>\n",
       "    <tr>\n",
       "      <th>496</th>\n",
       "      <td>109451</td>\n",
       "      <td>Cloudy with a Chance of Meatballs 2</td>\n",
       "      <td>https://www./CloudywithaChanceofMeatballs2</td>\n",
       "      <td>[after, the, disastr, food, storm, in, the, fi...</td>\n",
       "    </tr>\n",
       "  </tbody>\n",
       "</table>\n",
       "</div>"
      ],
      "text/plain": [
       "          id                                title  \\\n",
       "360     2253                             Valkyrie   \n",
       "4277   27845                         Trees Lounge   \n",
       "3184   24621                         Chasing Papi   \n",
       "2061   12085                            Mad Money   \n",
       "496   109451  Cloudy with a Chance of Meatballs 2   \n",
       "\n",
       "                                            urls  \\\n",
       "360                        https://www./Valkyrie   \n",
       "4277                    https://www./TreesLounge   \n",
       "3184                    https://www./ChasingPapi   \n",
       "2061                       https://www./MadMoney   \n",
       "496   https://www./CloudywithaChanceofMeatballs2   \n",
       "\n",
       "                                               all_tags  \n",
       "360   [wound, in, africa, dure, world, war, ii,, naz...  \n",
       "4277  [tommi, ha, lost, hi, job,, hi, love, and, hi,...  \n",
       "3184  [playboy, thoma, fuent, ha, so, far, been, abl...  \n",
       "2061  [three, femal, employe, of, the, feder, reserv...  \n",
       "496   [after, the, disastr, food, storm, in, the, fi...  "
      ]
     },
     "execution_count": 45,
     "metadata": {},
     "output_type": "execute_result"
    }
   ],
   "source": [
    "new_df.sample(5)"
   ]
  },
  {
   "cell_type": "code",
   "execution_count": 46,
   "id": "36d020a4",
   "metadata": {
    "execution": {
     "iopub.execute_input": "2023-10-26T05:51:11.271081Z",
     "iopub.status.busy": "2023-10-26T05:51:11.270735Z",
     "iopub.status.idle": "2023-10-26T05:51:11.367115Z",
     "shell.execute_reply": "2023-10-26T05:51:11.366167Z"
    },
    "papermill": {
     "duration": 0.127481,
     "end_time": "2023-10-26T05:51:11.369638",
     "exception": false,
     "start_time": "2023-10-26T05:51:11.242157",
     "status": "completed"
    },
    "tags": []
   },
   "outputs": [],
   "source": [
    "new_df[\"all_tags\"]=new_df[\"all_tags\"].apply(_join)"
   ]
  },
  {
   "cell_type": "code",
   "execution_count": 47,
   "id": "b6c14f4a",
   "metadata": {
    "execution": {
     "iopub.execute_input": "2023-10-26T05:51:11.427412Z",
     "iopub.status.busy": "2023-10-26T05:51:11.427054Z",
     "iopub.status.idle": "2023-10-26T05:51:11.458598Z",
     "shell.execute_reply": "2023-10-26T05:51:11.457674Z"
    },
    "papermill": {
     "duration": 0.063237,
     "end_time": "2023-10-26T05:51:11.460785",
     "exception": false,
     "start_time": "2023-10-26T05:51:11.397548",
     "status": "completed"
    },
    "tags": []
   },
   "outputs": [],
   "source": [
    "new_df['all_tags'] = new_df['all_tags'].apply(lambda x: \" \".join(x))"
   ]
  },
  {
   "cell_type": "code",
   "execution_count": 48,
   "id": "f7efd313",
   "metadata": {
    "execution": {
     "iopub.execute_input": "2023-10-26T05:51:11.518538Z",
     "iopub.status.busy": "2023-10-26T05:51:11.518169Z",
     "iopub.status.idle": "2023-10-26T05:51:11.522693Z",
     "shell.execute_reply": "2023-10-26T05:51:11.521776Z"
    },
    "papermill": {
     "duration": 0.036837,
     "end_time": "2023-10-26T05:51:11.524562",
     "exception": false,
     "start_time": "2023-10-26T05:51:11.487725",
     "status": "completed"
    },
    "tags": []
   },
   "outputs": [],
   "source": [
    "from sklearn.feature_extraction.text import CountVectorizer\n",
    "cv = CountVectorizer(stop_words='english')"
   ]
  },
  {
   "cell_type": "code",
   "execution_count": 49,
   "id": "445b0fe8",
   "metadata": {
    "execution": {
     "iopub.execute_input": "2023-10-26T05:51:11.582368Z",
     "iopub.status.busy": "2023-10-26T05:51:11.581765Z",
     "iopub.status.idle": "2023-10-26T05:51:12.335672Z",
     "shell.execute_reply": "2023-10-26T05:51:12.334702Z"
    },
    "papermill": {
     "duration": 0.785244,
     "end_time": "2023-10-26T05:51:12.337827",
     "exception": false,
     "start_time": "2023-10-26T05:51:11.552583",
     "status": "completed"
    },
    "tags": []
   },
   "outputs": [
    {
     "data": {
      "text/plain": [
       "array([[0, 0, 0, ..., 0, 0, 0],\n",
       "       [0, 0, 0, ..., 0, 0, 0],\n",
       "       [0, 0, 0, ..., 0, 0, 0],\n",
       "       ...,\n",
       "       [0, 0, 0, ..., 0, 0, 0],\n",
       "       [0, 0, 0, ..., 0, 0, 0],\n",
       "       [0, 0, 0, ..., 0, 0, 0]])"
      ]
     },
     "execution_count": 49,
     "metadata": {},
     "output_type": "execute_result"
    }
   ],
   "source": [
    "data = cv.fit_transform(new_df['all_tags']).toarray()\n",
    "data"
   ]
  },
  {
   "cell_type": "code",
   "execution_count": 50,
   "id": "91744c95",
   "metadata": {
    "execution": {
     "iopub.execute_input": "2023-10-26T05:51:12.392411Z",
     "iopub.status.busy": "2023-10-26T05:51:12.392110Z",
     "iopub.status.idle": "2023-10-26T05:51:25.597271Z",
     "shell.execute_reply": "2023-10-26T05:51:25.595716Z"
    },
    "papermill": {
     "duration": 13.234874,
     "end_time": "2023-10-26T05:51:25.599287",
     "exception": false,
     "start_time": "2023-10-26T05:51:12.364413",
     "status": "completed"
    },
    "tags": []
   },
   "outputs": [
    {
     "data": {
      "text/plain": [
       "array([[1.        , 0.06776309, 0.06862635, ..., 0.03571429, 0.        ,\n",
       "        0.        ],\n",
       "       [0.06776309, 1.        , 0.05063697, ..., 0.01976424, 0.        ,\n",
       "        0.0209427 ],\n",
       "       [0.06862635, 0.05063697, 1.        , ..., 0.02001602, 0.        ,\n",
       "        0.        ],\n",
       "       ...,\n",
       "       [0.03571429, 0.01976424, 0.02001602, ..., 1.        , 0.03311331,\n",
       "        0.03311331],\n",
       "       [0.        , 0.        , 0.        , ..., 0.03311331, 1.        ,\n",
       "        0.07017544],\n",
       "       [0.        , 0.0209427 , 0.        , ..., 0.03311331, 0.07017544,\n",
       "        1.        ]])"
      ]
     },
     "execution_count": 50,
     "metadata": {},
     "output_type": "execute_result"
    }
   ],
   "source": [
    "from sklearn.metrics.pairwise import cosine_similarity\n",
    "similarity = cosine_similarity(data)\n",
    "similarity"
   ]
  },
  {
   "cell_type": "code",
   "execution_count": 51,
   "id": "6f68f8ea",
   "metadata": {
    "execution": {
     "iopub.execute_input": "2023-10-26T05:51:25.655906Z",
     "iopub.status.busy": "2023-10-26T05:51:25.654820Z",
     "iopub.status.idle": "2023-10-26T05:51:25.661450Z",
     "shell.execute_reply": "2023-10-26T05:51:25.660643Z"
    },
    "papermill": {
     "duration": 0.037247,
     "end_time": "2023-10-26T05:51:25.663410",
     "exception": false,
     "start_time": "2023-10-26T05:51:25.626163",
     "status": "completed"
    },
    "tags": []
   },
   "outputs": [],
   "source": [
    "def movie_recommend(movie):\n",
    "    index = new_df[new_df['title'] == movie].index[0]\n",
    "    distances = sorted(list(enumerate(similarity[index])),reverse=True,key = lambda x: x[1])\n",
    "    for i in distances[1:8]:\n",
    "\n",
    "      \n",
    "      print(\"{} {}\".format(new_df.iloc[i[0]].title,new_df.iloc[i[0]].urls))"
   ]
  },
  {
   "cell_type": "code",
   "execution_count": 52,
   "id": "9412c7e0",
   "metadata": {
    "execution": {
     "iopub.execute_input": "2023-10-26T05:51:25.718761Z",
     "iopub.status.busy": "2023-10-26T05:51:25.718199Z",
     "iopub.status.idle": "2023-10-26T05:51:25.730817Z",
     "shell.execute_reply": "2023-10-26T05:51:25.729706Z"
    },
    "papermill": {
     "duration": 0.042358,
     "end_time": "2023-10-26T05:51:25.732781",
     "exception": false,
     "start_time": "2023-10-26T05:51:25.690423",
     "status": "completed"
    },
    "tags": []
   },
   "outputs": [
    {
     "name": "stdout",
     "output_type": "stream",
     "text": [
      "Aliens https://www./Aliens\n",
      "Aliens vs Predator: Requiem http://www.avp-r.com/\n",
      "Titan A.E. https://www./TitanA.E.\n",
      "Independence Day https://www./IndependenceDay\n",
      "Battle: Los Angeles http://www.battlela.com\n",
      "Meet Dave http://www.meetdavemovie.com/\n",
      "Predators https://www./Predators\n"
     ]
    }
   ],
   "source": [
    "movie_recommend(\"Avatar\")"
   ]
  },
  {
   "cell_type": "code",
   "execution_count": 53,
   "id": "327bbf03",
   "metadata": {
    "execution": {
     "iopub.execute_input": "2023-10-26T05:51:25.787675Z",
     "iopub.status.busy": "2023-10-26T05:51:25.787346Z",
     "iopub.status.idle": "2023-10-26T05:51:25.800026Z",
     "shell.execute_reply": "2023-10-26T05:51:25.798958Z"
    },
    "papermill": {
     "duration": 0.042401,
     "end_time": "2023-10-26T05:51:25.801881",
     "exception": false,
     "start_time": "2023-10-26T05:51:25.759480",
     "status": "completed"
    },
    "tags": []
   },
   "outputs": [
    {
     "name": "stdout",
     "output_type": "stream",
     "text": [
      "Batman https://www./Batman\n",
      "Batman & Robin https://www./Batman&Robin\n",
      "The R.M. http://www.halestormentertainment.com/p_movies_details.asp?mID=jnlppmp8\n",
      "Batman Begins http://www2.warnerbros.com/batmanbegins/index.html\n",
      "Batman Returns https://www./BatmanReturns\n",
      "The Dark Knight http://thedarkknight.warnerbros.com/dvdsite/\n",
      "The Dark Knight Rises http://www.thedarkknightrises.com/\n"
     ]
    }
   ],
   "source": [
    "movie_recommend(\"Batman\")"
   ]
  },
  {
   "cell_type": "code",
   "execution_count": 54,
   "id": "7fa93342",
   "metadata": {
    "execution": {
     "iopub.execute_input": "2023-10-26T05:51:25.857353Z",
     "iopub.status.busy": "2023-10-26T05:51:25.857034Z",
     "iopub.status.idle": "2023-10-26T05:51:25.869508Z",
     "shell.execute_reply": "2023-10-26T05:51:25.868504Z"
    },
    "papermill": {
     "duration": 0.042025,
     "end_time": "2023-10-26T05:51:25.871496",
     "exception": false,
     "start_time": "2023-10-26T05:51:25.829471",
     "status": "completed"
    },
    "tags": []
   },
   "outputs": [
    {
     "name": "stdout",
     "output_type": "stream",
     "text": [
      "Captain America: The Winter Soldier http://www.captainamericathewintersoldiermovie.com\n",
      "Bowling for Columbine http://www.bowlingforcolumbine.com/index.php\n",
      "Captain America: The First Avenger http://captainamerica.marvel.com/\n",
      "The Algerian http://thealgerianmovie.com/\n",
      "Team America: World Police http://www.teamamerica.com\n",
      "Beavis and Butt-Head Do America https://www./BeavisandButt-HeadDoAmerica\n",
      "Nothing But a Man https://www./NothingButaMan\n"
     ]
    }
   ],
   "source": [
    "movie_recommend(\"2016: Obama's America\")"
   ]
  },
  {
   "cell_type": "code",
   "execution_count": 55,
   "id": "071509c0",
   "metadata": {
    "execution": {
     "iopub.execute_input": "2023-10-26T05:51:25.927476Z",
     "iopub.status.busy": "2023-10-26T05:51:25.926407Z",
     "iopub.status.idle": "2023-10-26T05:51:25.930715Z",
     "shell.execute_reply": "2023-10-26T05:51:25.930106Z"
    },
    "papermill": {
     "duration": 0.033825,
     "end_time": "2023-10-26T05:51:25.932539",
     "exception": false,
     "start_time": "2023-10-26T05:51:25.898714",
     "status": "completed"
    },
    "tags": []
   },
   "outputs": [],
   "source": [
    "import pickle"
   ]
  },
  {
   "cell_type": "code",
   "execution_count": 56,
   "id": "13c6c91c",
   "metadata": {
    "execution": {
     "iopub.execute_input": "2023-10-26T05:51:25.986325Z",
     "iopub.status.busy": "2023-10-26T05:51:25.986015Z",
     "iopub.status.idle": "2023-10-26T05:51:26.314838Z",
     "shell.execute_reply": "2023-10-26T05:51:26.313987Z"
    },
    "papermill": {
     "duration": 0.358467,
     "end_time": "2023-10-26T05:51:26.317217",
     "exception": false,
     "start_time": "2023-10-26T05:51:25.958750",
     "status": "completed"
    },
    "tags": []
   },
   "outputs": [],
   "source": [
    "pickle.dump(new_df,open(\"movie_recm.pkl\",\"wb\"))\n",
    "pickle.dump(similarity,open(\"similarity.pkl\",\"wb\"))"
   ]
  },
  {
   "cell_type": "code",
   "execution_count": 57,
   "id": "ec7ea292",
   "metadata": {
    "execution": {
     "iopub.execute_input": "2023-10-26T05:51:26.374536Z",
     "iopub.status.busy": "2023-10-26T05:51:26.374189Z",
     "iopub.status.idle": "2023-10-26T05:51:26.380398Z",
     "shell.execute_reply": "2023-10-26T05:51:26.379505Z"
    },
    "papermill": {
     "duration": 0.037323,
     "end_time": "2023-10-26T05:51:26.382361",
     "exception": false,
     "start_time": "2023-10-26T05:51:26.345038",
     "status": "completed"
    },
    "tags": []
   },
   "outputs": [
    {
     "data": {
      "text/plain": [
       "array(['Avatar', \"Pirates of the Caribbean: At World's End\", 'Spectre',\n",
       "       ..., 'Signed, Sealed, Delivered', 'Shanghai Calling',\n",
       "       'My Date with Drew'], dtype=object)"
      ]
     },
     "execution_count": 57,
     "metadata": {},
     "output_type": "execute_result"
    }
   ],
   "source": [
    "np.array(new_df[\"title\"])"
   ]
  }
 ],
 "metadata": {
  "kernelspec": {
   "display_name": "Python 3",
   "language": "python",
   "name": "python3"
  },
  "language_info": {
   "codemirror_mode": {
    "name": "ipython",
    "version": 3
   },
   "file_extension": ".py",
   "mimetype": "text/x-python",
   "name": "python",
   "nbconvert_exporter": "python",
   "pygments_lexer": "ipython3",
   "version": "3.10.12"
  },
  "papermill": {
   "default_parameters": {},
   "duration": 100.668919,
   "end_time": "2023-10-26T05:51:27.029258",
   "environment_variables": {},
   "exception": null,
   "input_path": "__notebook__.ipynb",
   "output_path": "__notebook__.ipynb",
   "parameters": {},
   "start_time": "2023-10-26T05:49:46.360339",
   "version": "2.4.0"
  }
 },
 "nbformat": 4,
 "nbformat_minor": 5
}
